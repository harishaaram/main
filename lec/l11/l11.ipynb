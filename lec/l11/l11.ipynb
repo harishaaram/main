{
 "cells": [
  {
   "cell_type": "markdown",
   "metadata": {
    "slideshow": {
     "slide_type": "slide"
    }
   },
   "source": [
    "# CS579: Lecture 11  \n",
    "\n",
    "**Seniment Analysis II (Machine Learning)**\n",
    "\n",
    "*[Dr. Aron Culotta](http://cs.iit.edu/~culotta)*  \n",
    "*[Illinois Institute of Technology](http://iit.edu)*"
   ]
  },
  {
   "cell_type": "markdown",
   "metadata": {},
   "source": [
    "# Midterm review \n",
    "\n",
    "~5 True/False, ~6 short answer\n",
    " \n",
    "**Topics:** \n",
    "- Twitter API \n",
    " - what comes in a tweet? \n",
    " - how do rate limits work? \n",
    " - can you understand API documentation? \n",
    "- graph basics: \n",
    " - directed/undirected \n",
    " - path \n",
    " - cycle \n",
    " - connected \n",
    " - connected component \n",
    " - degree (distribution) \n",
    " - diameter \n",
    " - average path length \n",
    " - clustering coefficient \n",
    "- modeling networks \n",
    " - random graphs \n",
    " - regular graphs \n",
    " - rewired graphs \n",
    " - what makes a small world? \n",
    "- community detection \n",
    " - girvan-newman (betweenness) \n",
    " - graph cuts \n",
    " - representing graphs with matrices \n",
    " - graph laplacian \n",
    "- link prediction \n",
    " - shortest path \n",
    " - common neighbors \n",
    " - jaccard \n",
    " - preferential attachment \n",
    " - sim rank \n",
    " - evaluation \n",
    "- information cascades \n",
    " - urn experiment \n",
    " - bayes' theorem for decision making \n",
    " - game-theoretic model \n",
    " - maximizing payoff \n",
    "\t- cluster density \n",
    "- sentiment analysis \n",
    " - lexicon approach \n",
    " - machine learning \n",
    " \n",
    "**Question types:** \n",
    "- What does this algorithm output? \n",
    " - E.g., what is jaccard score for a specific link? \n",
    " - E.g., what is the next step in girvan-newman? \n",
    "- What does this code do? \n",
    " - E.g., I give you a new graph-generating algorithm, tell me what it produces \n",
    "- Write a new algorithm \n",
    " - E.g., provide pseudo-code the linear-threshold cascade model \n",
    "- True/False \n",
    " - E.g., small world graphs have higher clustering coefficients than random graphs."
   ]
  },
  {
   "cell_type": "markdown",
   "metadata": {},
   "source": [
    "<br><br><br><br>"
   ]
  },
  {
   "cell_type": "markdown",
   "metadata": {
    "slideshow": {
     "slide_type": "slide"
    }
   },
   "source": [
    "## What is machine learning?\n",
    "\n",
    "- [Dietterich: \"Machine Learning\"](http://web.engr.oregonstate.edu/~tgd/publications/nature-ecs-machine-learning.pdf)\n",
    "- [Domingos: \"A few useful things to know about machine learning\"](http://homes.cs.washington.edu/~pedrod/papers/cacm12.pdf)\n",
    "<br><br><br><br><br>\n"
   ]
  },
  {
   "cell_type": "markdown",
   "metadata": {
    "slideshow": {
     "slide_type": "slide"
    }
   },
   "source": [
    "## What is machine learning?\n",
    "\n",
    "\"Study of methods for programming computers to learn.\" \n",
    "\n",
    "-- Dietterich\n",
    "\n",
    "<br><br><br><br><br>\n"
   ]
  },
  {
   "cell_type": "markdown",
   "metadata": {
    "slideshow": {
     "slide_type": "slide"
    }
   },
   "source": [
    "## What is machine learning?\n",
    "\n",
    "Study of systems that \"automatically learn programs from data\" \n",
    "\n",
    "-- Domingos\n",
    "\n",
    "<br><br><br><br><br>\n"
   ]
  },
  {
   "cell_type": "markdown",
   "metadata": {
    "slideshow": {
     "slide_type": "slide"
    }
   },
   "source": [
    "## What is machine learning?\n",
    "\n",
    "A problem-solving technique that solves future problem instances based on\n",
    "patterns found in past problem instances\n",
    "\n",
    "<br><br><br><br><br>"
   ]
  },
  {
   "cell_type": "markdown",
   "metadata": {
    "slideshow": {
     "slide_type": "slide"
    }
   },
   "source": [
    "![spam](images/spam.png)"
   ]
  },
  {
   "cell_type": "markdown",
   "metadata": {
    "slideshow": {
     "slide_type": "slide"
    }
   },
   "source": [
    "<img src='images/search.png' width='50%'/>"
   ]
  },
  {
   "cell_type": "markdown",
   "metadata": {
    "slideshow": {
     "slide_type": "slide"
    }
   },
   "source": [
    "<img src='images/netflix.png', width='70%'/>"
   ]
  },
  {
   "cell_type": "markdown",
   "metadata": {
    "slideshow": {
     "slide_type": "slide"
    }
   },
   "source": [
    "<img src='images/bw.png' width='50%'/>"
   ]
  },
  {
   "cell_type": "markdown",
   "metadata": {
    "slideshow": {
     "slide_type": "slide"
    }
   },
   "source": [
    "<img src='images/chopper.png' width='70%'>"
   ]
  },
  {
   "cell_type": "markdown",
   "metadata": {
    "slideshow": {
     "slide_type": "slide"
    }
   },
   "source": [
    "<img src='images/car.jpg' width='70%'/>"
   ]
  },
  {
   "cell_type": "markdown",
   "metadata": {
    "slideshow": {
     "slide_type": "slide"
    }
   },
   "source": [
    "![money](images/money.png)"
   ]
  },
  {
   "cell_type": "markdown",
   "metadata": {
    "slideshow": {
     "slide_type": "slide"
    }
   },
   "source": [
    "<img src='images/doc.png' width='40%'/>"
   ]
  },
  {
   "cell_type": "markdown",
   "metadata": {
    "slideshow": {
     "slide_type": "slide"
    }
   },
   "source": [
    "<img src='images/siri.png' width='40%'/>"
   ]
  },
  {
   "cell_type": "markdown",
   "metadata": {
    "slideshow": {
     "slide_type": "slide"
    }
   },
   "source": [
    "<img src='images/watson.png' width='70%'/>"
   ]
  },
  {
   "cell_type": "markdown",
   "metadata": {
    "slideshow": {
     "slide_type": "slide"
    }
   },
   "source": [
    "## Notation\n",
    "\n",
    "- $\\vec{x} \\in \\mathcal{X}$ &nbsp;&nbsp;&nbsp;&nbsp; *instance*, *example*, *input*\n",
    "  - e.g., an email\n",
    "- $y \\in \\mathcal{Y}$ &nbsp;&nbsp;&nbsp;&nbsp; *target*, *class*, *label*, *output*\n",
    "  - e.g., $y=1$: spam ; $y=0$: not spam\n",
    "- $f: \\mathcal{X} \\mapsto \\mathcal{Y}$ &nbsp;&nbsp;&nbsp;&nbsp; *hypothesis*, *learner*, *model*, *classifier*\n",
    "  - e.g., if $x$ contain the word *free*, $y$ is $1$.\n",
    "  \n",
    "  <br><br><br><br><br>"
   ]
  },
  {
   "cell_type": "markdown",
   "metadata": {
    "slideshow": {
     "slide_type": "slide"
    }
   },
   "source": [
    "## Problem types\n",
    "\n",
    "- **Classification**\n",
    "  - $\\vec{x}$: image of a person ;  $y$: gender\n",
    "- **Regression**\n",
    "  - $\\vec{x}$: image of a person ; $y$: age\n",
    "- **Clustering**\n",
    "  - $\\vec{x}$: images of people ; $y$: cluster id of people that look similar\n",
    "- **Structured classification**\n",
    "  - $\\vec{x}$: image of a person ; $\\vec{y}$: location of their eyes and ears\n",
    "  - $X$: sequence of images of people ; $Y$: subsequences containing people running\n",
    "  \n",
    "  <br><br><br><br><br>"
   ]
  },
  {
   "cell_type": "markdown",
   "metadata": {
    "slideshow": {
     "slide_type": "slide"
    }
   },
   "source": [
    "## Workflow\n",
    "\n",
    "1. **Collect** raw data: emails\n",
    "2. Manually **categorize** them:  spam or not\n",
    "3. **Vectorize**: email -> word counts [**features**]\n",
    "4. **Train** / **Fit**: create $f(x)$\n",
    "5. **Collect** new raw data\n",
    "6. **Predict**: compute $f(x)$ for new $x$\n",
    "\n",
    "<br><br><br><br><br>"
   ]
  },
  {
   "cell_type": "markdown",
   "metadata": {
    "slideshow": {
     "slide_type": "slide"
    }
   },
   "source": [
    "## Example: Spam Classification"
   ]
  },
  {
   "cell_type": "markdown",
   "metadata": {
    "slideshow": {
     "slide_type": "slide"
    }
   },
   "source": [
    "**Steps 1 & 2: Collect and categorize**\n",
    "\n",
    "**Spam:**\n",
    "\n",
    "> Free credit report!\n",
    "\n",
    "\n",
    "> Free money!\n",
    "\n",
    "\n",
    "**Not spam:**\n",
    "\n",
    "> Are you free tonight?\n",
    "\n",
    "> How are you?\n"
   ]
  },
  {
   "cell_type": "markdown",
   "metadata": {
    "slideshow": {
     "slide_type": "slide"
    }
   },
   "source": [
    "**Step 3: Vectorize**\n",
    "\n",
    "> 'Free money!'\n",
    "\n",
    "becomes\n",
    "\n",
    "```\n",
    "free: 1\n",
    "money: 1\n",
    "!: 1\n",
    "?: 0\n",
    "credit: 0\n",
    "...\n",
    "```\n",
    "\n",
    "**Representation**: \"Feature engineering is the key\" -- Domingos\n"
   ]
  },
  {
   "cell_type": "markdown",
   "metadata": {
    "slideshow": {
     "slide_type": "slide"
    }
   },
   "source": [
    "**Step 4: Train/Fit**\n",
    "\n",
    "Which model to use?\n",
    "\n",
    "- Naive Bayes\n",
    "- Logistic Regression\n",
    "- Decision Tree\n",
    "- K-Nearest Neighbors\n",
    "- Support Vector Machines\n",
    "- ... many many more"
   ]
  },
  {
   "cell_type": "markdown",
   "metadata": {
    "slideshow": {
     "slide_type": "slide"
    }
   },
   "source": [
    "**Steps 5-6: Predict on new data**\n",
    "\n",
    "> Free vacation!\n",
    "\n",
    "**Spam**"
   ]
  },
  {
   "cell_type": "markdown",
   "metadata": {
    "slideshow": {
     "slide_type": "slide"
    }
   },
   "source": [
    "How do you know if it works?"
   ]
  },
  {
   "cell_type": "code",
   "execution_count": 1,
   "metadata": {
    "collapsed": true,
    "slideshow": {
     "slide_type": "slide"
    }
   },
   "outputs": [],
   "source": [
    "# X: each row is a feature vector for one document.\n",
    "X = [(0, 0),\n",
    "     (1, 0),\n",
    "     (0,3),\n",
    "     (1,3)]\n",
    "# y: element i is a label for ith document\n",
    "y = [0, 0, 1, 1]"
   ]
  },
  {
   "cell_type": "code",
   "execution_count": 2,
   "metadata": {
    "slideshow": {
     "slide_type": "slide"
    }
   },
   "outputs": [
    {
     "data": {
      "image/png": "[encoded data removed]",
      "text/plain": [
       "<matplotlib.figure.Figure at 0x7f6dec0f65f8>"
      ]
     },
     "metadata": {},
     "output_type": "display_data"
    }
   ],
   "source": [
    "# Plot the data. \n",
    "# Red means class 0, blue means class 1.\n",
    "import matplotlib.pyplot as plt\n",
    "%matplotlib inline\n",
    "\n",
    "def plot_data(X, y):\n",
    "    \"\"\" Assumes 2-d data. \"\"\"\n",
    "    plt.figure()\n",
    "    for xi, yi in zip(X, y):\n",
    "        color = 'r' if yi == 0 else 'b'\n",
    "        plt.plot(xi[0], xi[1], color + 'o', ms=20)\n",
    "    plt.xlabel('feature 0')\n",
    "    plt.ylabel('feature 1')\n",
    "    plt.xlim((-1,2))\n",
    "    plt.ylim((-1, 4))\n",
    "    plt.annotate('class 0', xy=(1.2, 0), color='r', size=15)\n",
    "    plt.annotate('class 1', xy=(1.2, 3), color='b', size=15)\n",
    "    plt.show()\n",
    "    \n",
    "plot_data(X, y)"
   ]
  },
  {
   "cell_type": "code",
   "execution_count": 3,
   "metadata": {
    "collapsed": true,
    "slideshow": {
     "slide_type": "slide"
    }
   },
   "outputs": [],
   "source": [
    "# Simplest machine learning algorithm:\n",
    "\n",
    "class SimplestMachine:\n",
    "    \n",
    "    def __init__(self):\n",
    "        self.f = dict()\n",
    "\n",
    "    def train(self, X, y):\n",
    "        for xi, yi in zip(X, y):\n",
    "            self.f[xi] = yi\n",
    "\n",
    "    def predict(self, x):\n",
    "        return self.f[x]\n",
    "\n",
    "# What does this do?\n",
    "\n",
    "\n",
    "\n",
    "\n",
    "\n",
    "\n",
    "\n"
   ]
  },
  {
   "cell_type": "code",
   "execution_count": 4,
   "metadata": {},
   "outputs": [
    {
     "data": {
      "text/plain": [
       "[(1, 'a'), (2, 'b'), (3, 'c')]"
      ]
     },
     "execution_count": 4,
     "metadata": {},
     "output_type": "execute_result"
    }
   ],
   "source": [
    "# What does zip do?\n",
    "[x for x in zip([1, 2, 3], ['a', 'b', 'c', 'd'])]"
   ]
  },
  {
   "cell_type": "code",
   "execution_count": 5,
   "metadata": {
    "collapsed": true
   },
   "outputs": [],
   "source": [
    "def print_predictions(predictions, y):\n",
    "    print('pred\\ttruth\\n' + '\\n'.join('%d\\t%d' % \n",
    "                                      (p, yi) \n",
    "                                      for p, yi in zip(predictions, y)))"
   ]
  },
  {
   "cell_type": "code",
   "execution_count": 6,
   "metadata": {
    "slideshow": {
     "slide_type": "slide"
    }
   },
   "outputs": [
    {
     "name": "stdout",
     "output_type": "stream",
     "text": [
      "pred\ttruth\n",
      "0\t0\n",
      "0\t0\n",
      "1\t1\n",
      "1\t1\n"
     ]
    }
   ],
   "source": [
    "simplest_machine = SimplestMachine()\n",
    "simplest_machine.train(X, y)\n",
    "predictions = [simplest_machine.predict(xi) for xi in X]\n",
    "print_predictions(predictions, y)\n",
    "\n",
    "\n",
    "\n",
    "\n",
    "\n"
   ]
  },
  {
   "cell_type": "code",
   "execution_count": 7,
   "metadata": {
    "slideshow": {
     "slide_type": "slide"
    }
   },
   "outputs": [
    {
     "ename": "KeyError",
     "evalue": "(0, 4)",
     "output_type": "error",
     "traceback": [
      "\u001b[0;31m---------------------------------------------------------------------------\u001b[0m",
      "\u001b[0;31mKeyError\u001b[0m                                  Traceback (most recent call last)",
      "\u001b[0;32m<ipython-input-7-0c4f7675ee59>\u001b[0m in \u001b[0;36m<module>\u001b[0;34m()\u001b[0m\n\u001b[1;32m      1\u001b[0m \u001b[0;31m# What does it do for unseen example?\u001b[0m\u001b[0;34m\u001b[0m\u001b[0;34m\u001b[0m\u001b[0m\n\u001b[0;32m----> 2\u001b[0;31m \u001b[0msimplest_machine\u001b[0m\u001b[0;34m.\u001b[0m\u001b[0mpredict\u001b[0m\u001b[0;34m(\u001b[0m\u001b[0;34m(\u001b[0m\u001b[0;36m0\u001b[0m\u001b[0;34m,\u001b[0m \u001b[0;36m4\u001b[0m\u001b[0;34m)\u001b[0m\u001b[0;34m)\u001b[0m\u001b[0;34m\u001b[0m\u001b[0m\n\u001b[0m\u001b[1;32m      3\u001b[0m \u001b[0;34m\u001b[0m\u001b[0m\n\u001b[1;32m      4\u001b[0m \u001b[0;34m\u001b[0m\u001b[0m\n\u001b[1;32m      5\u001b[0m \u001b[0;34m\u001b[0m\u001b[0m\n",
      "\u001b[0;32m<ipython-input-3-197b2e9a16a9>\u001b[0m in \u001b[0;36mpredict\u001b[0;34m(self, x)\u001b[0m\n\u001b[1;32m     11\u001b[0m \u001b[0;34m\u001b[0m\u001b[0m\n\u001b[1;32m     12\u001b[0m     \u001b[0;32mdef\u001b[0m \u001b[0mpredict\u001b[0m\u001b[0;34m(\u001b[0m\u001b[0mself\u001b[0m\u001b[0;34m,\u001b[0m \u001b[0mx\u001b[0m\u001b[0;34m)\u001b[0m\u001b[0;34m:\u001b[0m\u001b[0;34m\u001b[0m\u001b[0m\n\u001b[0;32m---> 13\u001b[0;31m         \u001b[0;32mreturn\u001b[0m \u001b[0mself\u001b[0m\u001b[0;34m.\u001b[0m\u001b[0mf\u001b[0m\u001b[0;34m[\u001b[0m\u001b[0mx\u001b[0m\u001b[0;34m]\u001b[0m\u001b[0;34m\u001b[0m\u001b[0m\n\u001b[0m\u001b[1;32m     14\u001b[0m \u001b[0;34m\u001b[0m\u001b[0m\n\u001b[1;32m     15\u001b[0m \u001b[0;31m# What does this do?\u001b[0m\u001b[0;34m\u001b[0m\u001b[0;34m\u001b[0m\u001b[0m\n",
      "\u001b[0;31mKeyError\u001b[0m: (0, 4)"
     ]
    }
   ],
   "source": [
    "# What does it do for unseen example?\n",
    "simplest_machine.predict((0, 4))\n",
    "\n",
    "\n",
    "\n",
    "\n"
   ]
  },
  {
   "cell_type": "code",
   "execution_count": 8,
   "metadata": {
    "collapsed": true,
    "slideshow": {
     "slide_type": "slide"
    }
   },
   "outputs": [],
   "source": [
    "# Second simplest machine learning algorithm:\n",
    "import numpy as np\n",
    "\n",
    "class SimpleMachine:\n",
    "\n",
    "    def __init__(self):\n",
    "        self.f = dict()\n",
    "\n",
    "    def train(self, X, y):\n",
    "        for xi, yi in zip(X, y):\n",
    "            self.f[xi] = yi\n",
    "\n",
    "    def predict(self, x):\n",
    "        x_closest = self.find_most_similar(x)\n",
    "        return self.f[x_closest]\n",
    "    \n",
    "    def find_most_similar(self, x):\n",
    "        distances = [self.distance(x, xi) for xi in self.f.keys()]\n",
    "        best_idx = np.argmin(distances)\n",
    "        return list(self.f.keys())[best_idx]\n",
    "\n",
    "    def distance(self, x, xi):\n",
    "        return np.sqrt(np.sum((np.array(x)-np.array(xi))**2))\n",
    "        \n",
    "# What does this do?"
   ]
  },
  {
   "cell_type": "markdown",
   "metadata": {
    "collapsed": true
   },
   "source": [
    "\n",
    "**Euclidean distance:**   \n",
    "\n",
    "```\n",
    "(0, 3)\n",
    "(1, 5)\n",
    "```\n",
    "\n",
    "$$\\sqrt{(0-1)^2 + (3-5)^2} = \\sqrt{5}$$\n"
   ]
  },
  {
   "cell_type": "code",
   "execution_count": 9,
   "metadata": {
    "slideshow": {
     "slide_type": "slide"
    }
   },
   "outputs": [
    {
     "name": "stdout",
     "output_type": "stream",
     "text": [
      "pred\ttruth\n",
      "0\t0\n",
      "0\t0\n",
      "1\t1\n",
      "1\t1\n"
     ]
    }
   ],
   "source": [
    "simple_machine = SimpleMachine()\n",
    "simple_machine.train(X, y)\n",
    "predictions = [simple_machine.predict(xi) for xi in X]\n",
    "print_predictions(predictions, y)\n",
    "\n",
    "\n"
   ]
  },
  {
   "cell_type": "code",
   "execution_count": 10,
   "metadata": {
    "slideshow": {
     "slide_type": "slide"
    }
   },
   "outputs": [
    {
     "data": {
      "text/plain": [
       "1"
      ]
     },
     "execution_count": 10,
     "metadata": {},
     "output_type": "execute_result"
    }
   ],
   "source": [
    "# What does it do for unseen example?\n",
    "simple_machine.predict((0, 4))\n",
    "\n",
    "\n",
    "\n",
    "\n"
   ]
  },
  {
   "cell_type": "markdown",
   "metadata": {
    "slideshow": {
     "slide_type": "slide"
    }
   },
   "source": [
    "<img src='images/knn.png' width='80%'/>\n",
    "\n",
    "<http://www.scholarpedia.org/article/K-nearest_neighbor>"
   ]
  },
  {
   "cell_type": "markdown",
   "metadata": {
    "slideshow": {
     "slide_type": "slide"
    }
   },
   "source": [
    "\n",
    "## Generalization\n",
    "\n",
    "How accurate will I be on a new, unobserved example?"
   ]
  },
  {
   "cell_type": "markdown",
   "metadata": {
    "slideshow": {
     "slide_type": "slide"
    }
   },
   "source": [
    "How do you know if it works?\n",
    "\n",
    "1. Train on data ${\\mathcal D_1}$\n",
    "2. Predict on data ${\\mathcal D_2}$\n",
    "3. Compute accuracy on ${\\mathcal D_2}$.\n",
    "   - Why not ${\\mathcal D_1}$?"
   ]
  },
  {
   "cell_type": "markdown",
   "metadata": {
    "slideshow": {
     "slide_type": "slide"
    }
   },
   "source": [
    "How do you know if it works?\n",
    "\n",
    "1. Train on data ${\\mathcal D_1}$\n",
    "2. Predict on data ${\\mathcal D_2}$\n",
    "3. Compute accuracy on ${\\mathcal D_2}$.\n",
    "4. Tweak algorithm / representation\n",
    "5. Repeat"
   ]
  },
  {
   "cell_type": "markdown",
   "metadata": {
    "slideshow": {
     "slide_type": "slide"
    }
   },
   "source": [
    "How do you know if it works?\n",
    "\n",
    "1. Train on data ${\\mathcal D_1}$\n",
    "2. Predict on data ${\\mathcal D_2}$\n",
    "3. Compute accuracy on ${\\mathcal D_2}$.\n",
    "4. Tweak algorithm / representation\n",
    "5. Repeat\n",
    "\n",
    "How many times can I do this?\n"
   ]
  },
  {
   "cell_type": "markdown",
   "metadata": {
    "slideshow": {
     "slide_type": "slide"
    }
   },
   "source": [
    "## Measuring Generalization\n",
    "\n",
    "- Cross-validation\n",
    "  - train on 90%, test on 10%, repeat 10 x's\n",
    "       - each example appears only once in test set\n"
   ]
  },
  {
   "cell_type": "markdown",
   "metadata": {
    "slideshow": {
     "slide_type": "slide"
    }
   },
   "source": [
    "## Experimental Design\n",
    "\n",
    "1. Collect data\n",
    "2. Build model\n",
    "3. Compute cross-validation accuracy\n",
    "4. Tune model\n",
    "5. Repeat"
   ]
  },
  {
   "cell_type": "markdown",
   "metadata": {
    "slideshow": {
     "slide_type": "slide"
    }
   },
   "source": [
    "\n",
    "## Experimental Design\n",
    "\n",
    "1. Collect data\n",
    "2. Build model\n",
    "3. Compute cross-validation accuracy\n",
    "4. Tune model\n",
    "5. Repeat\n",
    "6. **Report accuracy on new data**"
   ]
  },
  {
   "cell_type": "markdown",
   "metadata": {
    "slideshow": {
     "slide_type": "slide"
    }
   },
   "source": [
    "\n",
    "- What is overfitting? How do you know it is happening? How do you fix?"
   ]
  },
  {
   "cell_type": "markdown",
   "metadata": {
    "slideshow": {
     "slide_type": "slide"
    }
   },
   "source": [
    "<img src='images/biasvariance.png' width='70%'/>\n",
    "\n",
    "<http://scott.fortmann-roe.com/docs/BiasVariance.html>"
   ]
  },
  {
   "cell_type": "markdown",
   "metadata": {
    "slideshow": {
     "slide_type": "slide"
    }
   },
   "source": [
    "## Machine Learning for Sentiment Analysis\n",
    "\n",
    "<br><br><br>\n",
    "**1.) Collect data: E.g., <http://help.sentiment140.com/for-students>**\n",
    "<br><br><br>"
   ]
  },
  {
   "cell_type": "code",
   "execution_count": 11,
   "metadata": {
    "collapsed": true,
    "slideshow": {
     "slide_type": "slide"
    }
   },
   "outputs": [],
   "source": [
    "# Download Twitter data labeled by sentiment.\n",
    "\n",
    "from io import BytesIO, StringIO\n",
    "from zipfile import ZipFile\n",
    "import urllib.request\n",
    "\n",
    "# The file is 78M, so this will take a while.\n",
    "url = urllib.request.urlopen('http://cs.stanford.edu/people/alecmgo/trainingandtestdata.zip')\n",
    "zipfile = ZipFile(BytesIO(url.read()))\n",
    "# We'll focus on the smaller file that was manually labeled.\n",
    "# The larger file has 1.6M tweets \"pseudo-labeled\" using emoticons\n",
    "tweet_file = zipfile.open('testdata.manual.2009.06.14.csv')"
   ]
  },
  {
   "cell_type": "code",
   "execution_count": 12,
   "metadata": {
    "slideshow": {
     "slide_type": "slide"
    }
   },
   "outputs": [
    {
     "data": {
      "text/html": [
       "<div>\n",
       "<table border=\"1\" class=\"dataframe\">\n",
       "  <thead>\n",
       "    <tr style=\"text-align: right;\">\n",
       "      <th></th>\n",
       "      <th>polarity</th>\n",
       "      <th>id</th>\n",
       "      <th>date</th>\n",
       "      <th>query</th>\n",
       "      <th>user</th>\n",
       "      <th>text</th>\n",
       "    </tr>\n",
       "  </thead>\n",
       "  <tbody>\n",
       "    <tr>\n",
       "      <th>0</th>\n",
       "      <td>4</td>\n",
       "      <td>3</td>\n",
       "      <td>Mon May 11 03:17:40 UTC 2009</td>\n",
       "      <td>kindle2</td>\n",
       "      <td>tpryan</td>\n",
       "      <td>@stellargirl I loooooooovvvvvveee my Kindle2. ...</td>\n",
       "    </tr>\n",
       "    <tr>\n",
       "      <th>1</th>\n",
       "      <td>4</td>\n",
       "      <td>4</td>\n",
       "      <td>Mon May 11 03:18:03 UTC 2009</td>\n",
       "      <td>kindle2</td>\n",
       "      <td>vcu451</td>\n",
       "      <td>Reading my kindle2...  Love it... Lee childs i...</td>\n",
       "    </tr>\n",
       "    <tr>\n",
       "      <th>2</th>\n",
       "      <td>4</td>\n",
       "      <td>5</td>\n",
       "      <td>Mon May 11 03:18:54 UTC 2009</td>\n",
       "      <td>kindle2</td>\n",
       "      <td>chadfu</td>\n",
       "      <td>Ok, first assesment of the #kindle2 ...it fuck...</td>\n",
       "    </tr>\n",
       "    <tr>\n",
       "      <th>3</th>\n",
       "      <td>4</td>\n",
       "      <td>6</td>\n",
       "      <td>Mon May 11 03:19:04 UTC 2009</td>\n",
       "      <td>kindle2</td>\n",
       "      <td>SIX15</td>\n",
       "      <td>@kenburbary You'll love your Kindle2. I've had...</td>\n",
       "    </tr>\n",
       "    <tr>\n",
       "      <th>4</th>\n",
       "      <td>4</td>\n",
       "      <td>7</td>\n",
       "      <td>Mon May 11 03:21:41 UTC 2009</td>\n",
       "      <td>kindle2</td>\n",
       "      <td>yamarama</td>\n",
       "      <td>@mikefish  Fair enough. But i have the Kindle2...</td>\n",
       "    </tr>\n",
       "  </tbody>\n",
       "</table>\n",
       "</div>"
      ],
      "text/plain": [
       "   polarity  id                          date    query      user  \\\n",
       "0         4   3  Mon May 11 03:17:40 UTC 2009  kindle2    tpryan   \n",
       "1         4   4  Mon May 11 03:18:03 UTC 2009  kindle2    vcu451   \n",
       "2         4   5  Mon May 11 03:18:54 UTC 2009  kindle2    chadfu   \n",
       "3         4   6  Mon May 11 03:19:04 UTC 2009  kindle2     SIX15   \n",
       "4         4   7  Mon May 11 03:21:41 UTC 2009  kindle2  yamarama   \n",
       "\n",
       "                                                text  \n",
       "0  @stellargirl I loooooooovvvvvveee my Kindle2. ...  \n",
       "1  Reading my kindle2...  Love it... Lee childs i...  \n",
       "2  Ok, first assesment of the #kindle2 ...it fuck...  \n",
       "3  @kenburbary You'll love your Kindle2. I've had...  \n",
       "4  @mikefish  Fair enough. But i have the Kindle2...  "
      ]
     },
     "execution_count": 12,
     "metadata": {},
     "output_type": "execute_result"
    }
   ],
   "source": [
    "# very useful library for \"spreadsheet-like\" data analysis operations.\n",
    "import pandas as pd\n",
    "\"\"\"\n",
    "Data file format has 6 fields:\n",
    "0 - the polarity of the tweet (0 = negative, 2 = neutral, 4 = positive)\n",
    "1 - the id of the tweet (2087)\n",
    "2 - the date of the tweet (Sat May 16 23:58:44 UTC 2009)\n",
    "3 - the query (lyx). If there is no query, then this value is NO_QUERY.\n",
    "4 - the user that tweeted (robotickilldozr)\n",
    "5 - the text of the tweet (Lyx is cool)\n",
    "\"\"\"\n",
    "\n",
    "tweets = pd.read_csv(tweet_file,\n",
    "                     header=None,\n",
    "                     names=['polarity', 'id', 'date',\n",
    "                            'query', 'user', 'text'])\n",
    "tweets.head()"
   ]
  },
  {
   "cell_type": "code",
   "execution_count": 13,
   "metadata": {},
   "outputs": [
    {
     "data": {
      "text/html": [
       "<div>\n",
       "<table border=\"1\" class=\"dataframe\">\n",
       "  <thead>\n",
       "    <tr style=\"text-align: right;\">\n",
       "      <th></th>\n",
       "      <th>polarity</th>\n",
       "      <th>id</th>\n",
       "      <th>date</th>\n",
       "      <th>query</th>\n",
       "      <th>user</th>\n",
       "      <th>text</th>\n",
       "    </tr>\n",
       "  </thead>\n",
       "  <tbody>\n",
       "    <tr>\n",
       "      <th>493</th>\n",
       "      <td>2</td>\n",
       "      <td>14072</td>\n",
       "      <td>Sun Jun 14 04:31:43 UTC 2009</td>\n",
       "      <td>latex</td>\n",
       "      <td>proggit</td>\n",
       "      <td>Ask Programming: LaTeX or InDesign?: submitted...</td>\n",
       "    </tr>\n",
       "    <tr>\n",
       "      <th>494</th>\n",
       "      <td>0</td>\n",
       "      <td>14073</td>\n",
       "      <td>Sun Jun 14 04:32:17 UTC 2009</td>\n",
       "      <td>latex</td>\n",
       "      <td>sam33r</td>\n",
       "      <td>On that note, I hate Word. I hate Pages. I hat...</td>\n",
       "    </tr>\n",
       "    <tr>\n",
       "      <th>495</th>\n",
       "      <td>4</td>\n",
       "      <td>14074</td>\n",
       "      <td>Sun Jun 14 04:36:34 UTC 2009</td>\n",
       "      <td>latex</td>\n",
       "      <td>iamtheonlyjosie</td>\n",
       "      <td>Ahhh... back in a *real* text editing environm...</td>\n",
       "    </tr>\n",
       "    <tr>\n",
       "      <th>496</th>\n",
       "      <td>0</td>\n",
       "      <td>14075</td>\n",
       "      <td>Sun Jun 14 21:36:07 UTC 2009</td>\n",
       "      <td>iran</td>\n",
       "      <td>plutopup7</td>\n",
       "      <td>Trouble in Iran, I see. Hmm. Iran. Iran so far...</td>\n",
       "    </tr>\n",
       "    <tr>\n",
       "      <th>497</th>\n",
       "      <td>0</td>\n",
       "      <td>14076</td>\n",
       "      <td>Sun Jun 14 21:36:17 UTC 2009</td>\n",
       "      <td>iran</td>\n",
       "      <td>captain_pete</td>\n",
       "      <td>Reading the tweets coming out of Iran... The w...</td>\n",
       "    </tr>\n",
       "  </tbody>\n",
       "</table>\n",
       "</div>"
      ],
      "text/plain": [
       "     polarity     id                          date  query             user  \\\n",
       "493         2  14072  Sun Jun 14 04:31:43 UTC 2009  latex          proggit   \n",
       "494         0  14073  Sun Jun 14 04:32:17 UTC 2009  latex           sam33r   \n",
       "495         4  14074  Sun Jun 14 04:36:34 UTC 2009  latex  iamtheonlyjosie   \n",
       "496         0  14075  Sun Jun 14 21:36:07 UTC 2009   iran        plutopup7   \n",
       "497         0  14076  Sun Jun 14 21:36:17 UTC 2009   iran     captain_pete   \n",
       "\n",
       "                                                  text  \n",
       "493  Ask Programming: LaTeX or InDesign?: submitted...  \n",
       "494  On that note, I hate Word. I hate Pages. I hat...  \n",
       "495  Ahhh... back in a *real* text editing environm...  \n",
       "496  Trouble in Iran, I see. Hmm. Iran. Iran so far...  \n",
       "497  Reading the tweets coming out of Iran... The w...  "
      ]
     },
     "execution_count": 13,
     "metadata": {},
     "output_type": "execute_result"
    }
   ],
   "source": [
    "tweets.tail()"
   ]
  },
  {
   "cell_type": "code",
   "execution_count": 14,
   "metadata": {},
   "outputs": [
    {
     "name": "stdout",
     "output_type": "stream",
     "text": [
      "read 498 tweets\n"
     ]
    }
   ],
   "source": [
    "print('read %d tweets' % len(tweets))"
   ]
  },
  {
   "cell_type": "code",
   "execution_count": 15,
   "metadata": {},
   "outputs": [
    {
     "data": {
      "text/plain": [
       "<matplotlib.text.Text at 0x7f6dbe4c2748>"
      ]
     },
     "execution_count": 15,
     "metadata": {},
     "output_type": "execute_result"
    },
    {
     "data": {
      "image/png": "[encoded data removed]",
      "text/plain": [
       "<matplotlib.figure.Figure at 0x7f6dbe4b3390>"
      ]
     },
     "metadata": {},
     "output_type": "display_data"
    }
   ],
   "source": [
    "tweets['polarity'].hist()\n",
    "plt.xlabel('polarity')\n",
    "plt.ylabel('number of tweets')"
   ]
  },
  {
   "cell_type": "code",
   "execution_count": 16,
   "metadata": {
    "slideshow": {
     "slide_type": "slide"
    }
   },
   "outputs": [
    {
     "data": {
      "text/plain": [
       "array([4, 4, 4, 4, 4, 4, 0, 4, 4, 4, 2, 0, 4, 4, 0, 4, 0, 4, 0, 4, 4, 4, 4,\n",
       "       4, 4, 4, 4, 4, 4, 4, 2, 2, 4, 0, 0, 0, 0, 0, 4, 4, 4, 4, 0, 0, 0, 2,\n",
       "       2, 2, 0, 0, 0, 4, 2, 2, 0, 2, 4, 4, 4, 0, 4, 2, 4, 2, 0, 0, 4, 4, 4,\n",
       "       2, 2, 2, 0, 4, 4, 2, 2, 4, 0, 0, 4, 0, 4, 2, 2, 4, 0, 0, 0, 0, 0, 0,\n",
       "       0, 0, 0, 4, 0, 0, 0, 0, 0, 0, 0, 0, 0, 0, 4, 2, 4, 4, 4, 4, 4, 4, 4,\n",
       "       4, 4, 2, 4, 4, 2, 4, 2, 0, 4, 4, 2, 4, 2, 2, 4, 4, 4, 4, 2, 2, 0, 2,\n",
       "       0, 0, 0, 0, 0, 0, 0, 0, 0, 0, 0, 0, 0, 0, 0, 2, 0, 2, 2, 2, 2, 2, 2,\n",
       "       0, 4, 2, 0, 0, 2, 4, 0, 0, 0, 2, 2, 2, 2, 2, 0, 2, 2, 4, 2, 2, 2, 2,\n",
       "       0, 0, 2, 2, 2, 2, 2, 4, 0, 2, 4, 2, 4, 2, 2, 2, 2, 2, 4, 4, 2, 4, 4,\n",
       "       2, 4, 2, 0, 0, 0, 0, 0, 0, 2, 0, 4, 2, 2, 0, 0, 0, 0, 0, 0, 0, 0, 0,\n",
       "       0, 0, 2, 0, 0, 2, 4, 4, 4, 4, 0, 2, 2, 4, 4, 4, 4, 4, 4, 4, 0, 4, 4,\n",
       "       4, 4, 4, 4, 4, 4, 0, 4, 4, 2, 0, 4, 4, 4, 2, 4, 4, 4, 0, 0, 4, 4, 4,\n",
       "       4, 4, 4, 2, 0, 0, 0, 2, 2, 4, 0, 4, 4, 4, 4, 4, 0, 0, 4, 4, 0, 0, 0,\n",
       "       0, 2, 0, 0, 2, 0, 2, 4, 0, 4, 4, 2, 2, 0, 4, 0, 4, 4, 4, 4, 4, 2, 4,\n",
       "       4, 4, 2, 2, 4, 4, 0, 0, 0, 0, 0, 0, 0, 4, 0, 4, 4, 4, 4, 4, 4, 0, 0,\n",
       "       0, 4, 4, 2, 4, 4, 2, 4, 4, 4, 4, 4, 4, 4, 4, 2, 0, 4, 4, 2, 2, 2, 0,\n",
       "       4, 4, 2, 2, 4, 0, 0, 2, 0, 0, 0, 0, 0, 0, 0, 0, 0, 0, 2, 0, 0, 0, 0,\n",
       "       0, 0, 0, 0, 0, 0, 0, 0, 2, 2, 2, 0, 0, 4, 4, 0, 2, 0, 0, 0, 2, 2, 2,\n",
       "       2, 2, 2, 2, 2, 4, 0, 2, 0, 2, 2, 2, 2, 2, 2, 2, 2, 2, 2, 2, 2, 4, 2,\n",
       "       4, 2, 4, 0, 2, 2, 4, 2, 2, 2, 2, 2, 4, 2, 4, 4, 0, 4, 0, 4, 0, 0, 2,\n",
       "       2, 0, 0, 4, 0, 2, 2, 4, 0, 4, 4, 4, 2, 2, 0, 2, 4, 4, 4, 4, 0, 0, 0,\n",
       "       2, 0, 0, 2, 4, 2, 4, 0, 4, 4, 2, 0, 4, 0, 0])"
      ]
     },
     "execution_count": 16,
     "metadata": {},
     "output_type": "execute_result"
    }
   ],
   "source": [
    "# Create label vector (y).\n",
    "from collections import Counter\n",
    "y = np.array(tweets['polarity'])\n",
    "y"
   ]
  },
  {
   "cell_type": "markdown",
   "metadata": {},
   "source": [
    "#harish: adm v 13:00 oct 16\n",
    "# [http://scikit-learn.org/stable/modules/generated/sklearn.feature_extraction.text.CountVectorizer.html]"
   ]
  },
  {
   "cell_type": "code",
   "execution_count": 17,
   "metadata": {
    "slideshow": {
     "slide_type": "slide"
    }
   },
   "outputs": [
    {
     "name": "stdout",
     "output_type": "stream",
     "text": [
      "vectorized 498 tweets. found 2264 terms.\n"
     ]
    }
   ],
   "source": [
    "# Create feature vectors (X)\n",
    "# Here, we just store the number of times each term occurs in each tweet.\n",
    "from sklearn.feature_extraction.text import CountVectorizer\n",
    "vectorizer = CountVectorizer(min_df=1, ngram_range=(1,1))\n",
    "X = vectorizer.fit_transform(tweets['text'])\n",
    "print('vectorized %d tweets. found %d terms.' % (X.shape[0], X.shape[1]))"
   ]
  },
  {
   "cell_type": "code",
   "execution_count": null,
   "metadata": {
    "collapsed": true
   },
   "outputs": [],
   "source": [
    "#harish: X is a sparse matrix with documents as rows and terms as columns/features"
   ]
  },
  {
   "cell_type": "code",
   "execution_count": 18,
   "metadata": {},
   "outputs": [
    {
     "data": {
      "text/plain": [
       "scipy.sparse.csr.csr_matrix"
      ]
     },
     "execution_count": 18,
     "metadata": {},
     "output_type": "execute_result"
    }
   ],
   "source": [
    "type(X)"
   ]
  },
  {
   "cell_type": "code",
   "execution_count": 19,
   "metadata": {},
   "outputs": [
    {
     "data": {
      "text/plain": [
       "matrix([[0, 0, 0, ..., 0, 0, 0],\n",
       "        [0, 0, 0, ..., 0, 0, 0]], dtype=int64)"
      ]
     },
     "execution_count": 19,
     "metadata": {},
     "output_type": "execute_result"
    }
   ],
   "source": [
    "X.todense()[:2]"
   ]
  },
  {
   "cell_type": "code",
   "execution_count": 20,
   "metadata": {
    "slideshow": {
     "slide_type": "slide"
    }
   },
   "outputs": [
    {
     "data": {
      "text/plain": [
       "array(['00', '000', '04fo', '10', '100', '1000', '12', '13t7nr', '15mp',\n",
       "       '16', '16209', '16szl1', '17', '1796', '1988', '19epah', '19j2d',\n",
       "       '1aikhf', '1st', '1zlff'], \n",
       "      dtype='<U40')"
      ]
     },
     "execution_count": 20,
     "metadata": {},
     "output_type": "execute_result"
    }
   ],
   "source": [
    "# Print part of the vocabulary.\n",
    "vocab = np.array(vectorizer.get_feature_names())\n",
    "vocab[:20]"
   ]
  },
  {
   "cell_type": "code",
   "execution_count": 22,
   "metadata": {
    "collapsed": true
   },
   "outputs": [],
   "source": [
    "#harish: freq words: ADM"
   ]
  },
  {
   "cell_type": "code",
   "execution_count": 23,
   "metadata": {
    "slideshow": {
     "slide_type": "slide"
    }
   },
   "outputs": [
    {
     "name": "stdout",
     "output_type": "stream",
     "text": [
      "top_indices= [1961 1998  988 1060  152  209 1062  790 1337 1416]\n"
     ]
    },
    {
     "data": {
      "text/plain": [
       "[('the', 237),\n",
       " ('to', 147),\n",
       " ('http', 130),\n",
       " ('is', 115),\n",
       " ('and', 91),\n",
       " ('at', 82),\n",
       " ('it', 72),\n",
       " ('for', 71),\n",
       " ('my', 70),\n",
       " ('of', 63)]"
      ]
     },
     "execution_count": 23,
     "metadata": {},
     "output_type": "execute_result"
    }
   ],
   "source": [
    "# What are the top 10 most frequent terms?\n",
    "# Sum columns:\n",
    "col_sums = X.sum(axis=0).A1\n",
    "# Sort sums in descending order, and return the top 10 indices.\n",
    "top_indices = np.argsort(col_sums)[::-1][:10]\n",
    "print('top_indices=', top_indices)\n",
    "\n",
    "# map index->term\n",
    "top_terms = vocab[top_indices]\n",
    "# get counts for top 10 terms\n",
    "top_term_counts = col_sums[top_indices]\n",
    "# print\n",
    "[x for x in zip(top_terms, top_term_counts)]"
   ]
  },
  {
   "cell_type": "markdown",
   "metadata": {
    "slideshow": {
     "slide_type": "slide"
    }
   },
   "source": [
    "<br><br><br>\n",
    "**2.) Build model**\n",
    "<br><br><br>"
   ]
  },
  {
   "cell_type": "markdown",
   "metadata": {},
   "source": [
    "Linear Regression:\n",
    "y = m1*x1 + m2*x2 + b\n",
    "\n"
   ]
  },
  {
   "cell_type": "code",
   "execution_count": null,
   "metadata": {
    "slideshow": {
     "slide_type": "slide"
    }
   },
   "outputs": [],
   "source": [
    "# Fit a LogisticRegression model\n",
    "from sklearn.linear_model import LogisticRegression\n",
    "model = LogisticRegression()\n",
    "model.fit(X, y)"
   ]
  },
  {
   "cell_type": "code",
   "execution_count": null,
   "metadata": {
    "slideshow": {
     "slide_type": "slide"
    }
   },
   "outputs": [],
   "source": [
    "# Compute accuracy\n",
    "def accuracy(truth, predicted):\n",
    "    return len(np.where(truth==predicted)[0]) / len(truth)\n",
    "\n",
    "predicted = model.predict(X)\n",
    "print('accuracy on training data=%.3f' % accuracy(y, predicted))"
   ]
  },
  {
   "cell_type": "code",
   "execution_count": null,
   "metadata": {},
   "outputs": [],
   "source": [
    "tt = np.array([1,2,3])\n",
    "xx = np.array([2,3,3])\n",
    "np.where(tt==xx)"
   ]
  },
  {
   "cell_type": "code",
   "execution_count": null,
   "metadata": {
    "slideshow": {
     "slide_type": "slide"
    }
   },
   "outputs": [],
   "source": [
    "# What are the top weighted features?\n",
    "\n",
    "# Get the learned coefficients for the Positive class.\n",
    "coef = model.coef_[2]\n",
    "# Sort them in descending order.\n",
    "top_coef_ind = np.argsort(coef)[::-1][:10]\n",
    "# Get the names of those features.\n",
    "top_coef_terms = vocab[top_coef_ind]\n",
    "# Get the weights of those features\n",
    "top_coef = coef[top_coef_ind]\n",
    "# Print the top 10.\n",
    "print('top weighted terms for positive class:')\n",
    "[x for x in zip(top_coef_terms, top_coef)]"
   ]
  },
  {
   "cell_type": "code",
   "execution_count": null,
   "metadata": {},
   "outputs": [],
   "source": [
    "a = np.arange(10)\n",
    "a[6:3:-1]"
   ]
  },
  {
   "cell_type": "code",
   "execution_count": null,
   "metadata": {
    "slideshow": {
     "slide_type": "slide"
    }
   },
   "outputs": [],
   "source": [
    "# Get the learned coefficients for the Negative class.\n",
    "coef = model.coef_[0]\n",
    "# Sort them in descending order.\n",
    "top_coef_ind = np.argsort(coef)[::-1][:10]\n",
    "# Get the names of those features.\n",
    "top_coef_terms = vocab[top_coef_ind]\n",
    "# Get the weights of those features\n",
    "top_coef = coef[top_coef_ind]\n",
    "# Print the top 10.\n",
    "print('top weighted terms for negative class:')\n",
    "[x for x in zip(top_coef_terms, top_coef)]"
   ]
  },
  {
   "cell_type": "code",
   "execution_count": null,
   "metadata": {
    "slideshow": {
     "slide_type": "slide"
    }
   },
   "outputs": [],
   "source": [
    "# 5-fold cross-validation accuracy\n",
    "from sklearn.model_selection import KFold\n",
    "\n",
    "def do_cross_validation(model, X, y, n_folds):\n",
    "    cv = KFold(n_splits=n_folds, shuffle=True, random_state=42)\n",
    "    accuracies = []\n",
    "    for train_ind, test_ind in cv.split(X):\n",
    "        model.fit(X[train_ind], y[train_ind])\n",
    "        predictions = model.predict(X[test_ind])\n",
    "        accuracies.append(accuracy(y[test_ind], predictions))\n",
    "    print('Average 5-fold cross validation accuracy=%.2f (std=%.2f)' %\n",
    "            (np.mean(accuracies), np.std(accuracies)))\n",
    "    \n",
    "do_cross_validation(LogisticRegression(), X, y, 5)"
   ]
  },
  {
   "cell_type": "code",
   "execution_count": null,
   "metadata": {},
   "outputs": [],
   "source": [
    "# k-nearest neighbors\n",
    "from sklearn.neighbors import KNeighborsClassifier\n",
    "do_cross_validation(KNeighborsClassifier(n_neighbors=1), X, y, 5)"
   ]
  },
  {
   "cell_type": "code",
   "execution_count": null,
   "metadata": {},
   "outputs": [],
   "source": [
    "for i in range (1,11):\n",
    "    print('\\n%d neighbors' % i)\n",
    "    do_cross_validation(KNeighborsClassifier(n_neighbors=i), X, y, 5)"
   ]
  }
 ],
 "metadata": {
  "kernelspec": {
   "display_name": "Python 3",
   "language": "python",
   "name": "python3"
  },
  "language_info": {
   "codemirror_mode": {
    "name": "ipython",
    "version": 3
   },
   "file_extension": ".py",
   "mimetype": "text/x-python",
   "name": "python",
   "nbconvert_exporter": "python",
   "pygments_lexer": "ipython3",
   "version": "3.5.2"
  }
 },
 "nbformat": 4,
 "nbformat_minor": 1
}
