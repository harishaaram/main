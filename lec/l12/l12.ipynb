{
 "cells": [
  {
   "cell_type": "markdown",
   "metadata": {
    "slideshow": {
     "slide_type": "slide"
    }
   },
   "source": [
    "# CS579: Lecture 12  \n",
    "\n",
    "** Demographic Inference I**\n",
    "\n",
    "*[Dr. Aron Culotta](http://cs.iit.edu/~culotta)*  \n",
    "*[Illinois Institute of Technology](http://iit.edu)*"
   ]
  },
  {
   "cell_type": "markdown",
   "metadata": {
    "slideshow": {
     "slide_type": "slide"
    }
   },
   "source": [
    "**dem·o·graph·ics**\n",
    "\n",
    "statistical data relating to the population and particular groups within it.\n",
    "\n",
    "E.g., age, ethnicity, gender, income, ..."
   ]
  },
  {
   "cell_type": "markdown",
   "metadata": {
    "slideshow": {
     "slide_type": "slide"
    }
   },
   "source": [
    "# Why Demographics?\n",
    "\n",
    "- Marketing\n",
    "  - Who are my customers?\n",
    "  - Who are my competitors' customers?\n",
    "  - E.g., [DemographicsPro](http://www.demographicspro.com/samples#c=%40FamilyGuyonFOX)\n",
    "  \n",
    "- Social Media as Surveys\n",
    "  - E.g., 45% of tweets express positive sentiment toward Pres. Obama\n",
    "  - Who wrote those tweets?\n",
    "  \n",
    "- Health\n",
    "  - 2% of Facebook users are expressing flu-like symptoms\n",
    "  - Are they representative of the full population?\n",
    "\n"
   ]
  },
  {
   "cell_type": "markdown",
   "metadata": {
    "slideshow": {
     "slide_type": "slide"
    }
   },
   "source": [
    "** User profiles vary from site to site. **"
   ]
  },
  {
   "cell_type": "markdown",
   "metadata": {
    "slideshow": {
     "slide_type": "slide"
    }
   },
   "source": [
    "![rahm](rahm.png)"
   ]
  },
  {
   "cell_type": "markdown",
   "metadata": {
    "slideshow": {
     "slide_type": "slide"
    }
   },
   "source": [
    "![rahm-fb](rahm-fb.png)"
   ]
  },
  {
   "cell_type": "markdown",
   "metadata": {
    "slideshow": {
     "slide_type": "slide"
    }
   },
   "source": [
    "![rahm-li](rahm-li.png)"
   ]
  },
  {
   "cell_type": "markdown",
   "metadata": {
    "slideshow": {
     "slide_type": "slide"
    }
   },
   "source": [
    "# Approaches\n",
    "\n",
    "- Clever use of external data\n",
    "  - E.g., U.S. Census name lists for gender\n",
    "- Look for keywords in profile\n",
    "  - \"African American Male\"\n",
    "  - \"Happy 21st birthday to me\"\n",
    "- Machine Learning"
   ]
  },
  {
   "cell_type": "code",
   "execution_count": 1,
   "metadata": {
    "collapsed": false,
    "slideshow": {
     "slide_type": "slide"
    }
   },
   "outputs": [
    {
     "name": "stdout",
     "output_type": "stream",
     "text": [
      "100 tweets\n",
      "200 tweets\n",
      "300 tweets\n",
      "400 tweets\n",
      "500 tweets\n",
      "600 tweets\n",
      "700 tweets\n",
      "800 tweets\n",
      "900 tweets\n",
      "1000 tweets\n",
      "fetched 1000 tweets\n"
     ]
    }
   ],
   "source": [
    "# Guessing gender\n",
    "# Collect 1000 tweets matching query \"i\"\n",
    "import configparser\n",
    "import sys\n",
    "from TwitterAPI import TwitterAPI\n",
    "\n",
    "def get_twitter(config_file):\n",
    "    \"\"\" Read the config_file and construct an instance of TwitterAPI.\n",
    "    Args:\n",
    "      config_file ... A config file in ConfigParser format with Twitter credentials\n",
    "    Returns:\n",
    "      An instance of TwitterAPI.\n",
    "    \"\"\"\n",
    "    config = configparser.ConfigParser()\n",
    "    config.read(config_file)\n",
    "    twitter = TwitterAPI(\n",
    "                   config.get('twitter', 'consumer_key'),\n",
    "                   config.get('twitter', 'consumer_secret'),\n",
    "                   config.get('twitter', 'access_token'),\n",
    "                   config.get('twitter', 'access_token_secret'))\n",
    "    return twitter\n",
    "\n",
    "twitter = get_twitter('twitter.cfg')\n",
    "tweets = []\n",
    "n_tweets=1000\n",
    "for r in twitter.request('statuses/filter', {'track': 'i'}):\n",
    "    tweets.append(r)\n",
    "    if len(tweets) % 100 == 0:\n",
    "        print('%d tweets' % len(tweets))\n",
    "    if len(tweets) >= n_tweets:\n",
    "        break\n",
    "print('fetched %d tweets' % len(tweets))"
   ]
  },
  {
   "cell_type": "code",
   "execution_count": 2,
   "metadata": {
    "collapsed": false
   },
   "outputs": [
    {
     "data": {
      "text/plain": [
       "[{'limit': {'timestamp_ms': '1508178592807', 'track': 65}},\n",
       " {'limit': {'timestamp_ms': '1508178592825', 'track': 69}},\n",
       " {'limit': {'timestamp_ms': '1508178592855', 'track': 63}},\n",
       " {'limit': {'timestamp_ms': '1508178592868', 'track': 96}},\n",
       " {'limit': {'timestamp_ms': '1508178593824', 'track': 154}},\n",
       " {'limit': {'timestamp_ms': '1508178593855', 'track': 178}}]"
      ]
     },
     "execution_count": 2,
     "metadata": {},
     "output_type": "execute_result"
    }
   ],
   "source": [
    "# not all tweets are returned\n",
    "# https://dev.twitter.com/streaming/overview/messages-types#limit_notices\n",
    "[t for t in tweets if 'user' not in t][:6]"
   ]
  },
  {
   "cell_type": "code",
   "execution_count": 3,
   "metadata": {
    "collapsed": false
   },
   "outputs": [
    {
     "name": "stdout",
     "output_type": "stream",
     "text": [
      "fetched 925 tweets\n"
     ]
    }
   ],
   "source": [
    "# restrict to actual tweets\n",
    "# (remove \"deleted\" tweets)\n",
    "tweets = [t for t in tweets if 'user' in t]\n",
    "print('fetched %d tweets' % len(tweets))"
   ]
  },
  {
   "cell_type": "code",
   "execution_count": 24,
   "metadata": {
    "collapsed": false,
    "slideshow": {
     "slide_type": "slide"
    }
   },
   "outputs": [
    {
     "data": {
      "text/plain": [
       "['BlackMinorcaPullets',\n",
       " 'kimberly',\n",
       " 'Caseyv3',\n",
       " '\\uf8ffGQ©',\n",
       " 'Antonella M. Cedro',\n",
       " 'HxkxrxLH',\n",
       " 'wonder woman.',\n",
       " 'başım belada...',\n",
       " '🐲  Rad Dad  🐲',\n",
       " 'Hank']"
      ]
     },
     "execution_count": 24,
     "metadata": {},
     "output_type": "execute_result"
    }
   ],
   "source": [
    "# Print last 10 names.\n",
    "names = [t['user']['name'] for t in tweets]\n",
    "names[-10:]"
   ]
  },
  {
   "cell_type": "code",
   "execution_count": 29,
   "metadata": {
    "collapsed": false,
    "slideshow": {
     "slide_type": "slide"
    }
   },
   "outputs": [
    {
     "name": "stdout",
     "output_type": "stream",
     "text": [
      "males:\n",
      "['JAMES          3.318  3.318      1',\n",
      " 'JOHN           3.271  6.589      2',\n",
      " 'ROBERT         3.143  9.732      3',\n",
      " 'MICHAEL        2.629 12.361      4',\n",
      " 'WILLIAM        2.451 14.812      5',\n",
      " 'DAVID          2.363 17.176      6',\n",
      " 'RICHARD        1.703 18.878      7',\n",
      " 'CHARLES        1.523 20.401      8',\n",
      " 'JOSEPH         1.404 21.805      9',\n",
      " 'THOMAS         1.380 23.185     10']\n",
      "females:\n",
      "['MARY           2.629  2.629      1',\n",
      " 'PATRICIA       1.073  3.702      2',\n",
      " 'LINDA          1.035  4.736      3',\n",
      " 'BARBARA        0.980  5.716      4',\n",
      " 'ELIZABETH      0.937  6.653      5',\n",
      " 'JENNIFER       0.932  7.586      6',\n",
      " 'MARIA          0.828  8.414      7',\n",
      " 'SUSAN          0.794  9.209      8',\n",
      " 'MARGARET       0.768  9.976      9',\n",
      " 'DOROTHY        0.727 10.703     10']\n"
     ]
    }
   ],
   "source": [
    "# Fetch census name data from:\n",
    "# http://www2.census.gov/topics/genealogy/1990surnames/\n",
    "import requests\n",
    "from pprint import pprint\n",
    "males_url = 'http://www2.census.gov/topics/genealogy/' + \\\n",
    "            '1990surnames/dist.male.first'\n",
    "females_url = 'http://www2.census.gov/topics/genealogy/' + \\\n",
    "              '1990surnames/dist.female.first'\n",
    "males = requests.get(males_url).text.split('\\n')\n",
    "females = requests.get(females_url).text.split('\\n')\n",
    "print('males:')\n",
    "pprint(males[:10])\n",
    "print('females:')\n",
    "pprint(females[:10])"
   ]
  },
  {
   "cell_type": "code",
   "execution_count": 30,
   "metadata": {
    "collapsed": false,
    "slideshow": {
     "slide_type": "slide"
    }
   },
   "outputs": [
    {
     "name": "stdout",
     "output_type": "stream",
     "text": [
      "1219 male and 4275 female names\n",
      "males:\n",
      "lorenzo\n",
      "doyle\n",
      "darin\n",
      "raul\n",
      "kip\n",
      "jackie\n",
      "jean\n",
      "lanny\n",
      "fernando\n",
      "jeremiah\n",
      "\n",
      "females:\n",
      "bok\n",
      "sharita\n",
      "lois\n",
      "roxie\n",
      "donetta\n",
      "taneka\n",
      "kemberly\n",
      "maryanne\n",
      "pura\n",
      "erin\n"
     ]
    }
   ],
   "source": [
    "# Get names. \n",
    "male_names = set([m.split()[0].lower() for m in males if m])\n",
    "female_names = set([f.split()[0].lower() for f in females if f])\n",
    "print('%d male and %d female names' % (len(male_names), len(female_names)))\n",
    "print('males:\\n' + '\\n'.join(list(male_names)[:10]))\n",
    "print('\\nfemales:\\n' + '\\n'.join(list(female_names)[:10]))"
   ]
  },
  {
   "cell_type": "code",
   "execution_count": 25,
   "metadata": {
    "collapsed": true
   },
   "outputs": [],
   "source": [
    "# Initialize gender of all tweets to unknown.\n",
    "for t in tweets:\n",
    "    t['gender'] = 'unknown'"
   ]
  },
  {
   "cell_type": "code",
   "execution_count": 31,
   "metadata": {
    "collapsed": false,
    "slideshow": {
     "slide_type": "slide"
    }
   },
   "outputs": [],
   "source": [
    "# label a Twitter user's gender by matching name list.\n",
    "import re\n",
    "def gender_by_name(tweets, male_names, female_names):\n",
    "    for t in tweets:\n",
    "        name = t['user']['name']\n",
    "        if name:\n",
    "            # remove punctuation.\n",
    "            name_parts = re.findall('\\w+', name.split()[0].lower())\n",
    "            if len(name_parts) > 0:\n",
    "                first = name_parts[0].lower()\n",
    "                if first in male_names:\n",
    "                    t['gender'] = 'male'\n",
    "                elif first in female_names:\n",
    "                    t['gender'] = 'female'\n",
    "                else:\n",
    "                    t['gender'] = 'unknown'\n",
    "\n",
    "gender_by_name(tweets, male_names, female_names)\n",
    "# What's wrong with this approach?"
   ]
  },
  {
   "cell_type": "code",
   "execution_count": 32,
   "metadata": {
    "collapsed": false,
    "slideshow": {
     "slide_type": "slide"
    }
   },
   "outputs": [
    {
     "name": "stdout",
     "output_type": "stream",
     "text": [
      "0.27 of accounts are labeled with gender\n",
      "gender counts:\n",
      " Counter({'unknown': 677, 'female': 137, 'male': 111})\n",
      "unknown fucking 🍠\n",
      "female Destiny\n",
      "unknown channelcity.it\n",
      "unknown Imani💋\n",
      "unknown davie 🌹\n",
      "unknown Laetitia!!\n",
      "unknown Connor\n",
      "unknown A3 nightcore channel\n",
      "unknown seng\n",
      "unknown xzisrin 🐯\n",
      "unknown [WEAC]Jake-O-Lantern\n",
      "unknown KAŚA.\n",
      "unknown Psalma Nadera\n",
      "unknown BUSHRA\n",
      "unknown hei-lloween\n",
      "male Lindsey\n",
      "female Susan C Turlington\n",
      "unknown Dead Girl 🥀\n",
      "male Ken Becht\n",
      "female Mona T Sharma\n"
     ]
    }
   ],
   "source": [
    "from collections import Counter\n",
    "\n",
    "def print_genders(tweets):\n",
    "    counts = Counter([t['gender'] for t in tweets])\n",
    "    print('%.2f of accounts are labeled with gender' % \n",
    "          ((counts['male'] + counts['female']) / sum(counts.values())))\n",
    "    print('gender counts:\\n', counts)\n",
    "    for t in tweets[:20]:\n",
    "        print(t['gender'], t['user']['name'])\n",
    "    \n",
    "print_genders(tweets)"
   ]
  },
  {
   "cell_type": "code",
   "execution_count": 33,
   "metadata": {
    "collapsed": false,
    "slideshow": {
     "slide_type": "slide"
    }
   },
   "outputs": [
    {
     "name": "stdout",
     "output_type": "stream",
     "text": [
      "found 331 ambiguous names:\n",
      "\n",
      "jackie\n",
      "jean\n",
      "stacy\n",
      "erin\n",
      "timothy\n",
      "kim\n",
      "clyde\n",
      "dannie\n",
      "jame\n",
      "keith\n",
      "augustine\n",
      "johnie\n",
      "lawrence\n",
      "bennie\n",
      "harold\n",
      "dominique\n",
      "sidney\n",
      "andrew\n",
      "kasey\n",
      "kelly\n"
     ]
    }
   ],
   "source": [
    "# What about ambiguous names?\n",
    "def print_ambiguous_names(male_names, female_names):\n",
    "    ambiguous = [n for n in male_names if n in female_names]  # names on both lists\n",
    "    print('found %d ambiguous names:\\n'% len(ambiguous))\n",
    "    print('\\n'.join(ambiguous[:20]))\n",
    "    \n",
    "print_ambiguous_names(male_names, female_names)"
   ]
  },
  {
   "cell_type": "code",
   "execution_count": 34,
   "metadata": {
    "collapsed": false,
    "slideshow": {
     "slide_type": "slide"
    }
   },
   "outputs": [
    {
     "name": "stdout",
     "output_type": "stream",
     "text": [
      "found 0 ambiguous names:\n",
      "\n",
      "\n",
      "1146 male and 4017 female names\n"
     ]
    }
   ],
   "source": [
    "# Keep names that are more frequent in one gender than the other.\n",
    "def get_percents(name_list):\n",
    "    # parse raw data to extract, e.g., the percent of males names John.\n",
    "    return dict([(n.split()[0].lower(), float(n.split()[1]))\n",
    "                  for n in name_list if n])\n",
    "\n",
    "males_pct = get_percents(males)\n",
    "females_pct = get_percents(females)\n",
    "\n",
    "# Assign a name as male if it is more common among males than femals.\n",
    "male_names = set([m for m in male_names if m not in female_names or\n",
    "              males_pct[m] > females_pct[m]])\n",
    "female_names = set([f for f in female_names if f not in male_names or\n",
    "              females_pct[f] > males_pct[f]])\n",
    "\n",
    "print_ambiguous_names(male_names, female_names)\n",
    "print('%d male and %d female names' % (len(male_names), len(female_names)))"
   ]
  },
  {
   "cell_type": "code",
   "execution_count": 35,
   "metadata": {
    "collapsed": false,
    "slideshow": {
     "slide_type": "slide"
    }
   },
   "outputs": [
    {
     "name": "stdout",
     "output_type": "stream",
     "text": [
      "0.27 of accounts are labeled with gender\n",
      "gender counts:\n",
      " Counter({'unknown': 677, 'female': 149, 'male': 99})\n",
      "unknown fucking 🍠\n",
      "female Destiny\n",
      "unknown channelcity.it\n",
      "unknown Imani💋\n",
      "unknown davie 🌹\n",
      "unknown Laetitia!!\n",
      "unknown Connor\n",
      "unknown A3 nightcore channel\n",
      "unknown seng\n",
      "unknown xzisrin 🐯\n",
      "unknown [WEAC]Jake-O-Lantern\n",
      "unknown KAŚA.\n",
      "unknown Psalma Nadera\n",
      "unknown BUSHRA\n",
      "unknown hei-lloween\n",
      "female Lindsey\n",
      "female Susan C Turlington\n",
      "unknown Dead Girl 🥀\n",
      "male Ken Becht\n",
      "female Mona T Sharma\n"
     ]
    }
   ],
   "source": [
    "# Relabel twitter users (compare with above)\n",
    "gender_by_name(tweets, male_names, female_names)\n",
    "print_genders(tweets)"
   ]
  },
  {
   "cell_type": "code",
   "execution_count": 36,
   "metadata": {
    "collapsed": false,
    "slideshow": {
     "slide_type": "slide"
    }
   },
   "outputs": [
    {
     "data": {
      "text/plain": [
       "[('.', 7),\n",
       " ('Thoughts.', 2),\n",
       " ('✨', 2),\n",
       " ('BORA', 2),\n",
       " ('TDK bot', 2),\n",
       " ('Anzhelika Tsybrina', 2),\n",
       " ('ohr', 2),\n",
       " ('b', 2),\n",
       " ('fucking 🍠', 1),\n",
       " ('channelcity.it', 1),\n",
       " ('Imani💋', 1),\n",
       " ('davie 🌹', 1),\n",
       " ('Laetitia!!', 1),\n",
       " ('Connor', 1),\n",
       " ('A3 nightcore channel', 1),\n",
       " ('seng', 1),\n",
       " ('xzisrin 🐯', 1),\n",
       " ('[WEAC]Jake-O-Lantern', 1),\n",
       " ('KAŚA.', 1),\n",
       " ('Psalma Nadera', 1)]"
      ]
     },
     "execution_count": 36,
     "metadata": {},
     "output_type": "execute_result"
    }
   ],
   "source": [
    "# Who are the unknowns?\n",
    "# \"Filtered\" data can have big impact on analysis.\n",
    "unknown_names = Counter(t['user']['name']\n",
    "                        for t in tweets if t['gender'] == 'unknown')\n",
    "unknown_names.most_common(20)"
   ]
  },
  {
   "cell_type": "code",
   "execution_count": 37,
   "metadata": {
    "collapsed": false,
    "slideshow": {
     "slide_type": "slide"
    }
   },
   "outputs": [
    {
     "name": "stdout",
     "output_type": "stream",
     "text": [
      "Most Common Male Terms:\n",
      "[('a', 24),\n",
      " ('and', 20),\n",
      " ('i', 18),\n",
      " ('the', 17),\n",
      " ('to', 12),\n",
      " ('of', 9),\n",
      " ('my', 8),\n",
      " ('it', 7),\n",
      " ('fan', 7),\n",
      " ('in', 7)]\n",
      "\n",
      "Most Common Female Terms:\n",
      "[('i', 29),\n",
      " ('and', 28),\n",
      " ('the', 28),\n",
      " ('you', 23),\n",
      " ('a', 22),\n",
      " ('of', 21),\n",
      " ('in', 18),\n",
      " ('to', 18),\n",
      " ('my', 17),\n",
      " ('is', 13)]\n"
     ]
    }
   ],
   "source": [
    "# How do the profiles of male Twitter users differ from\n",
    "# those of female users?\n",
    "\n",
    "male_profiles = [t['user']['description'] for t in tweets\n",
    "                if t['gender'] == 'male']\n",
    "\n",
    "female_profiles = [t['user']['description'] for t in tweets\n",
    "                if t['gender'] == 'female']\n",
    "#male_profiles = [t['text'] for t in tweets\n",
    "#                if t['gender'] == 'male']\n",
    "\n",
    "#female_profiles = [t['text'] for t in tweets\n",
    "#                if t['gender'] == 'female']\n",
    "\n",
    "import re\n",
    "def tokenize(s):\n",
    "    return re.sub('\\W+', ' ', s).lower().split() if s else []\n",
    "\n",
    "male_words = Counter()\n",
    "female_words = Counter()\n",
    "\n",
    "for p in male_profiles:\n",
    "    male_words.update(Counter(tokenize(p)))\n",
    "                      \n",
    "for p in female_profiles:\n",
    "    female_words.update(Counter(tokenize(p)))\n",
    "\n",
    "print('Most Common Male Terms:')\n",
    "pprint(male_words.most_common(10))\n",
    "    \n",
    "print('\\nMost Common Female Terms:')\n",
    "pprint(female_words.most_common(10))"
   ]
  },
  {
   "cell_type": "code",
   "execution_count": 38,
   "metadata": {
    "collapsed": false
   },
   "outputs": [
    {
     "name": "stdout",
     "output_type": "stream",
     "text": [
      "580\n",
      "784\n"
     ]
    }
   ],
   "source": [
    "print(len(male_words))\n",
    "print(len(female_words))"
   ]
  },
  {
   "cell_type": "code",
   "execution_count": 39,
   "metadata": {
    "collapsed": false,
    "slideshow": {
     "slide_type": "slide"
    }
   },
   "outputs": [
    {
     "name": "stdout",
     "output_type": "stream",
     "text": [
      "Top Male Terms (diff):\n",
      "[('fan', -5),\n",
      " ('just', -4),\n",
      " ('sports', -4),\n",
      " ('rt', -3),\n",
      " ('first', -3),\n",
      " ('day', -3),\n",
      " ('independent', -3),\n",
      " ('time', -3),\n",
      " ('also', -3),\n",
      " ('trying', -3)]\n",
      "\n",
      "Top Female Terms (diff):\n",
      "[('love', 7),\n",
      " ('is', 7),\n",
      " ('me', 7),\n",
      " ('and', 8),\n",
      " ('my', 9),\n",
      " ('i', 11),\n",
      " ('in', 11),\n",
      " ('the', 11),\n",
      " ('of', 12),\n",
      " ('you', 17)]\n"
     ]
    }
   ],
   "source": [
    "# Compute difference\n",
    "diff_counts = dict([(w, female_words[w] - male_words[w])\n",
    "                    for w in\n",
    "                    set(female_words.keys()) | set(male_words.keys())])\n",
    "\n",
    "sorted_diffs = sorted(diff_counts.items(), key=lambda x: x[1])\n",
    "\n",
    "print('Top Male Terms (diff):')\n",
    "pprint(sorted_diffs[:10])\n",
    "\n",
    "print('\\nTop Female Terms (diff):')\n",
    "pprint(sorted_diffs[-10:])"
   ]
  },
  {
   "cell_type": "markdown",
   "metadata": {
    "slideshow": {
     "slide_type": "slide"
    }
   },
   "source": [
    "** A problem with difference of counts:**\n",
    "\n",
    "<br><br><br><br>\n",
    "What if we have more male than female words in total?\n",
    "\n",
    "<br><br><br><br>\n",
    "Instead, consider \"the probability that a male user writes the word **w**\"\n",
    "\n",
    "<br><br><br><br>\n",
    "\n",
    "$$p(w|male) = \\frac{freq(w, male)}\n",
    "{\\sum_i freq(w_i, male)} $$"
   ]
  },
  {
   "cell_type": "markdown",
   "metadata": {
    "slideshow": {
     "slide_type": "slide"
    }
   },
   "source": [
    "** Odds Ratio (OR)**\n",
    "\n",
    "The ratio of the probabilities for a word from each class:\n",
    "\n",
    "$$ OR(w) = \\frac{p(w|female)}{p(w|male)} $$\n",
    "\n",
    "\n",
    "- High values --> more likely to be written by females\n",
    "- Low values --> more likely to be written by males\n"
   ]
  },
  {
   "cell_type": "code",
   "execution_count": 18,
   "metadata": {
    "collapsed": false,
    "slideshow": {
     "slide_type": "slide"
    }
   },
   "outputs": [
    {
     "name": "stdout",
     "output_type": "stream",
     "text": [
      "p(w|male)\n",
      "[('a', 0.027745664739884393),\n",
      " ('and', 0.023121387283236993),\n",
      " ('i', 0.020809248554913295),\n",
      " ('the', 0.019653179190751446),\n",
      " ('to', 0.013872832369942197),\n",
      " ('of', 0.010404624277456647),\n",
      " ('my', 0.009248554913294798),\n",
      " ('it', 0.008092485549132947),\n",
      " ('fan', 0.008092485549132947),\n",
      " ('in', 0.008092485549132947)]\n",
      "\n",
      "p(w|female)\n",
      "[('i', 0.02244582043343653),\n",
      " ('and', 0.021671826625386997),\n",
      " ('the', 0.021671826625386997),\n",
      " ('you', 0.01780185758513932),\n",
      " ('a', 0.017027863777089782),\n",
      " ('of', 0.016253869969040248),\n",
      " ('in', 0.01393188854489164),\n",
      " ('to', 0.01393188854489164),\n",
      " ('my', 0.013157894736842105),\n",
      " ('is', 0.010061919504643963)]\n"
     ]
    }
   ],
   "source": [
    "def counts_to_probs(gender_words):\n",
    "    \"\"\" Compute probability of each term according to the frequency\n",
    "    in a gender. \"\"\"\n",
    "    total = sum(gender_words.values())\n",
    "    return dict([(word, count / total)\n",
    "                 for word, count in gender_words.items()])\n",
    "\n",
    "male_probs = counts_to_probs(male_words)\n",
    "female_probs = counts_to_probs(female_words)\n",
    "\n",
    "print('p(w|male)')\n",
    "pprint(sorted(male_probs.items(), key=lambda x: -x[1])[:10])\n",
    "\n",
    "print('\\np(w|female)')\n",
    "pprint(sorted(female_probs.items(), key=lambda x: -x[1])[:10])"
   ]
  },
  {
   "cell_type": "code",
   "execution_count": 19,
   "metadata": {
    "collapsed": false,
    "slideshow": {
     "slide_type": "slide"
    }
   },
   "outputs": [
    {
     "ename": "KeyError",
     "evalue": "'generic'",
     "output_type": "error",
     "traceback": [
      "\u001b[0;31m---------------------------------------------------------------------------\u001b[0m",
      "\u001b[0;31mKeyError\u001b[0m                                  Traceback (most recent call last)",
      "\u001b[0;32m<ipython-input-19-1510d3c7d1b0>\u001b[0m in \u001b[0;36m<module>\u001b[0;34m()\u001b[0m\n\u001b[1;32m      4\u001b[0m                  set(male_probs) | set(female_probs)])\n\u001b[1;32m      5\u001b[0m \u001b[0;34m\u001b[0m\u001b[0m\n\u001b[0;32m----> 6\u001b[0;31m \u001b[0mors\u001b[0m \u001b[0;34m=\u001b[0m \u001b[0modds_ratios\u001b[0m\u001b[0;34m(\u001b[0m\u001b[0mmale_probs\u001b[0m\u001b[0;34m,\u001b[0m \u001b[0mfemale_probs\u001b[0m\u001b[0;34m)\u001b[0m\u001b[0;34m\u001b[0m\u001b[0m\n\u001b[0m",
      "\u001b[0;32m<ipython-input-19-1510d3c7d1b0>\u001b[0m in \u001b[0;36modds_ratios\u001b[0;34m(male_probs, female_probs)\u001b[0m\n\u001b[1;32m      2\u001b[0m     return dict([(w, female_probs[w] / male_probs[w])\n\u001b[1;32m      3\u001b[0m                  \u001b[0;32mfor\u001b[0m \u001b[0mw\u001b[0m \u001b[0;32min\u001b[0m\u001b[0;34m\u001b[0m\u001b[0m\n\u001b[0;32m----> 4\u001b[0;31m                  set(male_probs) | set(female_probs)])\n\u001b[0m\u001b[1;32m      5\u001b[0m \u001b[0;34m\u001b[0m\u001b[0m\n\u001b[1;32m      6\u001b[0m \u001b[0mors\u001b[0m \u001b[0;34m=\u001b[0m \u001b[0modds_ratios\u001b[0m\u001b[0;34m(\u001b[0m\u001b[0mmale_probs\u001b[0m\u001b[0;34m,\u001b[0m \u001b[0mfemale_probs\u001b[0m\u001b[0;34m)\u001b[0m\u001b[0;34m\u001b[0m\u001b[0m\n",
      "\u001b[0;32m<ipython-input-19-1510d3c7d1b0>\u001b[0m in \u001b[0;36m<listcomp>\u001b[0;34m(.0)\u001b[0m\n\u001b[1;32m      1\u001b[0m \u001b[0;32mdef\u001b[0m \u001b[0modds_ratios\u001b[0m\u001b[0;34m(\u001b[0m\u001b[0mmale_probs\u001b[0m\u001b[0;34m,\u001b[0m \u001b[0mfemale_probs\u001b[0m\u001b[0;34m)\u001b[0m\u001b[0;34m:\u001b[0m\u001b[0;34m\u001b[0m\u001b[0m\n\u001b[1;32m      2\u001b[0m     return dict([(w, female_probs[w] / male_probs[w])\n\u001b[0;32m----> 3\u001b[0;31m                  \u001b[0;32mfor\u001b[0m \u001b[0mw\u001b[0m \u001b[0;32min\u001b[0m\u001b[0;34m\u001b[0m\u001b[0m\n\u001b[0m\u001b[1;32m      4\u001b[0m                  set(male_probs) | set(female_probs)])\n\u001b[1;32m      5\u001b[0m \u001b[0;34m\u001b[0m\u001b[0m\n",
      "\u001b[0;31mKeyError\u001b[0m: 'generic'"
     ]
    }
   ],
   "source": [
    "def odds_ratios(male_probs, female_probs):\n",
    "    return dict([(w, female_probs[w] / male_probs[w])\n",
    "                 for w in\n",
    "                 set(male_probs) | set(female_probs)])\n",
    "\n",
    "ors = odds_ratios(male_probs, female_probs)"
   ]
  },
  {
   "cell_type": "code",
   "execution_count": 20,
   "metadata": {
    "collapsed": false
   },
   "outputs": [
    {
     "name": "stdout",
     "output_type": "stream",
     "text": [
      "580\n",
      "784\n"
     ]
    },
    {
     "ename": "KeyError",
     "evalue": "'rock'",
     "output_type": "error",
     "traceback": [
      "\u001b[0;31m---------------------------------------------------------------------------\u001b[0m",
      "\u001b[0;31mKeyError\u001b[0m                                  Traceback (most recent call last)",
      "\u001b[0;32m<ipython-input-20-6d265caebdb8>\u001b[0m in \u001b[0;36m<module>\u001b[0;34m()\u001b[0m\n\u001b[1;32m      1\u001b[0m \u001b[0mprint\u001b[0m\u001b[0;34m(\u001b[0m\u001b[0mlen\u001b[0m\u001b[0;34m(\u001b[0m\u001b[0mmale_probs\u001b[0m\u001b[0;34m)\u001b[0m\u001b[0;34m)\u001b[0m\u001b[0;34m\u001b[0m\u001b[0m\n\u001b[1;32m      2\u001b[0m \u001b[0mprint\u001b[0m\u001b[0;34m(\u001b[0m\u001b[0mlen\u001b[0m\u001b[0;34m(\u001b[0m\u001b[0mfemale_probs\u001b[0m\u001b[0;34m)\u001b[0m\u001b[0;34m)\u001b[0m\u001b[0;34m\u001b[0m\u001b[0m\n\u001b[0;32m----> 3\u001b[0;31m \u001b[0mprint\u001b[0m\u001b[0;34m(\u001b[0m\u001b[0mfemale_probs\u001b[0m\u001b[0;34m[\u001b[0m\u001b[0;34m'rock'\u001b[0m\u001b[0;34m]\u001b[0m\u001b[0;34m)\u001b[0m\u001b[0;34m\u001b[0m\u001b[0m\n\u001b[0m\u001b[1;32m      4\u001b[0m \u001b[0;34m'rock'\u001b[0m \u001b[0;32min\u001b[0m \u001b[0mmale_probs\u001b[0m\u001b[0;34m\u001b[0m\u001b[0m\n",
      "\u001b[0;31mKeyError\u001b[0m: 'rock'"
     ]
    }
   ],
   "source": [
    "print(len(male_probs))\n",
    "print(len(female_probs))\n",
    "print(female_probs['rock'])\n",
    "'rock' in male_probs"
   ]
  },
  {
   "cell_type": "markdown",
   "metadata": {
    "slideshow": {
     "slide_type": "slide"
    }
   },
   "source": [
    "** How to deal with 0-probabilities? **\n",
    "\n",
    "$$p(w|male) = \\frac{freq(w, male)}\n",
    "{\\sum_i freq(w_i, male)} $$\n",
    "\n",
    "$freq(w, male) = 0$\n",
    "\n",
    "Do we really believe there is **0** probability of a male using this term?\n",
    "\n",
    "(Recall over-fitting discussion.)\n",
    "<br><br><br><br>"
   ]
  },
  {
   "cell_type": "markdown",
   "metadata": {
    "slideshow": {
     "slide_type": "slide"
    }
   },
   "source": [
    "** Additive Smoothing **\n",
    "\n",
    "Reserve small amount of counts (e.g., 1) for unseen observations.\n",
    "\n",
    "E.g., assume we've seen each word at least once in each class.\n",
    "\n",
    "$$p(w|male) = \\frac{1 + freq(w, male)}\n",
    "{|W| + \\sum_i freq(w_i, male)} $$\n",
    "\n",
    "$|W|$: number of unique words."
   ]
  },
  {
   "cell_type": "code",
   "execution_count": 21,
   "metadata": {
    "collapsed": false,
    "slideshow": {
     "slide_type": "slide"
    }
   },
   "outputs": [
    {
     "name": "stdout",
     "output_type": "stream",
     "text": [
      "('a', 0.012054001928640309)\n",
      "('and', 0.010125361620057859)\n",
      "('i', 0.009161041465766635)\n",
      "('the', 0.008678881388621022)\n",
      "('to', 0.00626808100289296)\n",
      "('of', 0.0048216007714561235)\n",
      "('my', 0.004339440694310511)\n",
      "('it', 0.003857280617164899)\n",
      "('fan', 0.003857280617164899)\n",
      "('in', 0.003857280617164899)\n"
     ]
    }
   ],
   "source": [
    "# Additive smoothing. Add count of 1 for all words.\n",
    "all_words = set(male_words) | set(female_words)\n",
    "male_words.update(all_words)  \n",
    "female_words.update(all_words)\n",
    "\n",
    "male_probs = counts_to_probs(male_words)\n",
    "female_probs = counts_to_probs(female_words)\n",
    "print('\\n'.join(str(x) for x in \n",
    "                sorted(male_probs.items(), key=lambda x: -x[1])[:10]))"
   ]
  },
  {
   "cell_type": "code",
   "execution_count": 42,
   "metadata": {
    "collapsed": false
   },
   "outputs": [
    {
     "name": "stdout",
     "output_type": "stream",
     "text": [
      "0.0014464802314368371\n"
     ]
    }
   ],
   "source": [
    "# Even though word doesn't appear, has non-zero probability.\n",
    "print(male_probs['rock'])"
   ]
  },
  {
   "cell_type": "code",
   "execution_count": 23,
   "metadata": {
    "collapsed": false,
    "slideshow": {
     "slide_type": "slide"
    }
   },
   "outputs": [
    {
     "name": "stdout",
     "output_type": "stream",
     "text": [
      "Top Female Terms (OR):\n",
      "[('im', 4.975609756097561),\n",
      " ('us', 4.975609756097561),\n",
      " ('care', 4.975609756097561),\n",
      " ('girl', 4.975609756097561),\n",
      " ('live', 4.146341463414634),\n",
      " ('writer', 4.146341463414634),\n",
      " ('are', 4.146341463414634),\n",
      " ('online', 4.146341463414634),\n",
      " ('ll', 3.317073170731707),\n",
      " ('reader', 3.317073170731707),\n",
      " ('through', 3.317073170731707),\n",
      " ('wife', 3.317073170731707),\n",
      " ('most', 3.317073170731707),\n",
      " ('king', 3.317073170731707),\n",
      " ('theresistance', 3.317073170731707),\n",
      " ('lover', 3.317073170731707),\n",
      " ('without', 3.317073170731707),\n",
      " ('mother', 3.317073170731707),\n",
      " ('20', 3.317073170731707),\n",
      " ('we', 3.317073170731707)]\n",
      "\n",
      "Top Male Terms (OR):\n",
      "[('babies', 0.2764227642276423),\n",
      " ('radio', 0.2764227642276423),\n",
      " ('political', 0.2764227642276423),\n",
      " ('stand', 0.2764227642276423),\n",
      " ('youtu', 0.2764227642276423),\n",
      " ('princessvitarah', 0.2764227642276423),\n",
      " ('memes', 0.2764227642276423),\n",
      " ('sport', 0.2764227642276423),\n",
      " ('season', 0.2764227642276423),\n",
      " ('husband', 0.2764227642276423),\n",
      " ('cool', 0.2764227642276423),\n",
      " ('n', 0.2764227642276423),\n",
      " ('independent', 0.2073170731707317),\n",
      " ('time', 0.2073170731707317),\n",
      " ('football', 0.2073170731707317),\n",
      " ('rt', 0.2073170731707317),\n",
      " ('first', 0.2073170731707317),\n",
      " ('day', 0.2073170731707317),\n",
      " ('trying', 0.2073170731707317),\n",
      " ('sports', 0.16585365853658537)]\n"
     ]
    }
   ],
   "source": [
    "ors = odds_ratios(male_probs, female_probs)\n",
    "\n",
    "sorted_ors = sorted(ors.items(), key=lambda x: -x[1])\n",
    "\n",
    "print('Top Female Terms (OR):')\n",
    "pprint(sorted_ors[:20])\n",
    "\n",
    "print('\\nTop Male Terms (OR):')\n",
    "pprint(sorted_ors[-20:])"
   ]
  }
 ],
 "metadata": {
  "kernelspec": {
   "display_name": "Python 3",
   "language": "python",
   "name": "python3"
  },
  "language_info": {
   "codemirror_mode": {
    "name": "ipython",
    "version": 3
   },
   "file_extension": ".py",
   "mimetype": "text/x-python",
   "name": "python",
   "nbconvert_exporter": "python",
   "pygments_lexer": "ipython3",
   "version": "3.6.0"
  }
 },
 "nbformat": 4,
 "nbformat_minor": 0
}
