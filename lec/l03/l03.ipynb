{
 "cells": [
  {
   "cell_type": "markdown",
   "metadata": {
    "slideshow": {
     "slide_type": "slide"
    }
   },
   "source": [
    "# CS579: Lecture 03  \n",
    "**Representing Graphs**\n",
    "\n",
    "*[Dr. Aron Culotta](http://cs.iit.edu/~culotta)*  \n",
    "*[Illinois Institute of Technology](http://iit.edu)*\n",
    "\n",
    "(Slides inspired in part by [Jure Leskovec](http://web.stanford.edu/class/cs224w/slides/02-gnp.pdf) and [Easley & Kleinberg](https://github.com/iit-cs579/main/blob/master/read/ek-02.pdf))\n",
    "\n",
    "<br><br><br><br><br><br><br><br><br><br><br><br>"
   ]
  },
  {
   "cell_type": "markdown",
   "metadata": {
    "slideshow": {
     "slide_type": "slide"
    }
   },
   "source": [
    "# Terminology\n",
    "\n",
    "- **Graph:** A way to represent objects and their relations\n",
    "  - **Node:** represents an object\n",
    "  - **Edge:** represents a relation between two nodes. \n",
    "  - **Neighbor:** Two nodes are *neighbors* if they are connected by an edge.\n",
    "- **Directed Graph:** Represents asymmetric (one-way) relationships\n",
    "- **Undirected Graph:** Represents symmetric relationships\n",
    "\n",
    "![graph.pdf](graph.pdf)\n",
    "\n",
    "[Source](https://github.com/iit-cs579/main/blob/master/read/ek-02.pdf)\n",
    "\n",
    "Examples of **directed** and **undirected** graphs?\n",
    "\n",
    "<br><br><br><br><br>"
   ]
  },
  {
   "cell_type": "markdown",
   "metadata": {
    "slideshow": {
     "slide_type": "slide"
    }
   },
   "source": [
    "**Path:** A sequence of nodes in which each consecutive pair are neighbors\n",
    "- E.g., $A,B,C$ in Figure 2.1(a)\n",
    "\n",
    "**Cycle:** A path of at least 3 edges, with first and last nodes the same.\n",
    "- E.g., $B,C,D$ in Figure 2.1(a)"
   ]
  },
  {
   "cell_type": "markdown",
   "metadata": {
    "slideshow": {
     "slide_type": "slide"
    }
   },
   "source": [
    "<br><br><br><br>\n",
    "\n",
    "**Connected:** A graph is *connected* if there exists a path between each pair of nodes.\n",
    "  - Example of a graph that is *not* connected?"
   ]
  },
  {
   "cell_type": "markdown",
   "metadata": {
    "slideshow": {
     "slide_type": "slide"
    }
   },
   "source": [
    "<br><br><br><br>\n",
    "**Connected Component:** A maximal subset of nodes such that each pair of nodes is connected \n",
    "\n",
    "![components](components.png)\n",
    "[Source](https://github.com/iit-cs579/main/blob/master/read/ek-02.pdf)"
   ]
  },
  {
   "cell_type": "markdown",
   "metadata": {
    "slideshow": {
     "slide_type": "slide"
    }
   },
   "source": [
    "- Is the global friendship network connected?\n",
    "\n",
    "<br><br><br><br>\n"
   ]
  },
  {
   "cell_type": "markdown",
   "metadata": {
    "slideshow": {
     "slide_type": "slide"
    }
   },
   "source": [
    "# Giant Connected Components\n",
    "\n",
    "![giant](giant.png)"
   ]
  },
  {
   "cell_type": "markdown",
   "metadata": {
    "slideshow": {
     "slide_type": "slide"
    }
   },
   "source": [
    "**Node Degree:** Number of neighbors of a node.\n",
    "  - For directed graphs, distinguish between **in-degree** and **out-degree**\n",
    "  \n",
    "![graph.pdf](graph.pdf)\n",
    "\n",
    "[Source](https://github.com/iit-cs579/main/blob/master/read/ek-02.pdf)\n"
   ]
  },
  {
   "cell_type": "markdown",
   "metadata": {
    "slideshow": {
     "slide_type": "slide"
    }
   },
   "source": [
    "# Number of edges\n",
    "\n",
    "If there are $N$ nodes, what is the maximum number of edges?\n",
    "\n",
    "<br><br><br><br><br><br><br><br><br><br><br><br>\n",
    "\n",
    "$$\\frac{N(N-1)}{2}$$"
   ]
  },
  {
   "cell_type": "code",
   "execution_count": 2,
   "metadata": {
    "slideshow": {
     "slide_type": "slide"
    }
   },
   "outputs": [
    {
     "data": {
      "image/png": "[encoded data removed]",
      "text/plain": [
       "<matplotlib.figure.Figure at 0x7f2120fa3fd0>"
      ]
     },
     "metadata": {},
     "output_type": "display_data"
    }
   ],
   "source": [
    "import matplotlib.pyplot as plt\n",
    "%matplotlib inline\n",
    "\n",
    "sizes = range(1000)\n",
    "plt.plot(sizes, [s*(s-1)/2.0 for s in sizes])\n",
    "plt.xlabel('number of nodes')\n",
    "plt.ylabel('maximum number of edges')\n",
    "plt.show()"
   ]
  },
  {
   "cell_type": "markdown",
   "metadata": {
    "slideshow": {
     "slide_type": "slide"
    }
   },
   "source": [
    "Luckily, most real-world graphs are extremely sparse.\n",
    "\n",
    "- E.g., you are probably not friends with over 1,000 people."
   ]
  },
  {
   "cell_type": "markdown",
   "metadata": {
    "slideshow": {
     "slide_type": "slide"
    }
   },
   "source": [
    "# Measuring Graphs\n",
    "\n",
    "- How can we summarize a graph?\n",
    "  - Besides number of edges and number of nodes.\n",
    "  \n",
    "<br><br>\n",
    "  \n",
    "- Allows us to determine if two graphs are \"similar\"\n",
    "\n",
    "<br><br><br><br>"
   ]
  },
  {
   "cell_type": "markdown",
   "metadata": {
    "slideshow": {
     "slide_type": "slide"
    }
   },
   "source": [
    "# Degree distribution\n",
    "\n",
    "- Probability that a randomly chosen node has degree $k$\n",
    "\n",
    "<br><br>\n",
    "\n",
    "- $N_k$: number of nodes with degree $k$\n",
    "- $P(k) = $ ?\n",
    "\n",
    "<br><br><br><br><br><br><br><br><br><br>\n",
    "\n",
    "$$P(k) = \\frac{N_k}{N}$$\n"
   ]
  },
  {
   "cell_type": "code",
   "execution_count": 3,
   "metadata": {
    "slideshow": {
     "slide_type": "slide"
    }
   },
   "outputs": [
    {
     "data": {
      "image/png": "[encoded data removed]",
      "text/plain": [
       "<matplotlib.figure.Figure at 0x7f20f7ede438>"
      ]
     },
     "metadata": {},
     "output_type": "display_data"
    }
   ],
   "source": [
    "# See Karate Club network: http://vlado.fmf.uni-lj.si/pub/networks/data/Ucinet/UciData.htm#zachary\n",
    "# First, we print the degree for each of the 34 nodes.\n",
    "import warnings\n",
    "warnings.filterwarnings(\"ignore\")\n",
    "import networkx as nx\n",
    "G=nx.karate_club_graph()\n",
    "nx.draw(G, with_labels=True)"
   ]
  },
  {
   "cell_type": "code",
   "execution_count": 4,
   "metadata": {},
   "outputs": [
    {
     "data": {
      "text/plain": [
       "{0: 16,\n",
       " 1: 9,\n",
       " 2: 10,\n",
       " 3: 6,\n",
       " 4: 3,\n",
       " 5: 4,\n",
       " 6: 4,\n",
       " 7: 4,\n",
       " 8: 5,\n",
       " 9: 2,\n",
       " 10: 3,\n",
       " 11: 1,\n",
       " 12: 2,\n",
       " 13: 5,\n",
       " 14: 2,\n",
       " 15: 2,\n",
       " 16: 2,\n",
       " 17: 2,\n",
       " 18: 2,\n",
       " 19: 3,\n",
       " 20: 2,\n",
       " 21: 2,\n",
       " 22: 2,\n",
       " 23: 5,\n",
       " 24: 3,\n",
       " 25: 3,\n",
       " 26: 2,\n",
       " 27: 4,\n",
       " 28: 3,\n",
       " 29: 4,\n",
       " 30: 4,\n",
       " 31: 6,\n",
       " 32: 12,\n",
       " 33: 17}"
      ]
     },
     "execution_count": 4,
     "metadata": {},
     "output_type": "execute_result"
    }
   ],
   "source": [
    "# dict from node id to degree\n",
    "degrees = nx.degree(G)\n",
    "degrees"
   ]
  },
  {
   "cell_type": "code",
   "execution_count": 5,
   "metadata": {},
   "outputs": [
    {
     "data": {
      "text/plain": [
       "Counter({1: 1,\n",
       "         2: 11,\n",
       "         3: 6,\n",
       "         4: 6,\n",
       "         5: 3,\n",
       "         6: 2,\n",
       "         9: 1,\n",
       "         10: 1,\n",
       "         12: 1,\n",
       "         16: 1,\n",
       "         17: 1})"
      ]
     },
     "execution_count": 5,
     "metadata": {},
     "output_type": "execute_result"
    }
   ],
   "source": [
    "# Count number of nodes with each degree value.\n",
    "from collections import Counter\n",
    "degree_counts = Counter(degrees.values())\n",
    "degree_counts\n",
    "# e.g., 11 nodes have degree of 2"
   ]
  },
  {
   "cell_type": "code",
   "execution_count": 7,
   "metadata": {
    "slideshow": {
     "slide_type": "slide"
    }
   },
   "outputs": [
    {
     "name": "stdout",
     "output_type": "stream",
     "text": [
      "[(1, 0.029411764705882353), (2, 0.3235294117647059), (3, 0.17647058823529413), (4, 0.17647058823529413), (5, 0.08823529411764706)]\n"
     ]
    },
    {
     "data": {
      "image/png": "[encoded data removed]",
      "text/plain": [
       "<matplotlib.figure.Figure at 0x7f20f1cdf518>"
      ]
     },
     "metadata": {},
     "output_type": "display_data"
    }
   ],
   "source": [
    "# Now, let's plot the bar graph for the distribution of P(k)\n",
    "# probability of a node having degree k\n",
    "p_k = [(degree, count / len(G.nodes()))\n",
    "       for degree, count in degree_counts.items()]\n",
    "p_k = sorted(p_k)\n",
    "print(p_k[:5])\n",
    "ks = [x[0] for x in p_k]  # Get the first element of each tuple (the degree)\n",
    "# Plot the bar chart.\n",
    "x_pos = range(len(ks))\n",
    "plt.xticks(x_pos, ks)\n",
    "plt.bar(x_pos, [x[1] for x in p_k], align='center', alpha=0.4)\n",
    "plt.xlabel('$k$')\n",
    "plt.ylabel('$P(k)$')\n",
    "mean = 1. * sum(degrees.values()) / len(G.nodes())\n",
    "plt.title(\"Degree Distribution for Karate Network (mean=%.2f)\" % mean)\n",
    "plt.show()"
   ]
  },
  {
   "cell_type": "code",
   "execution_count": null,
   "metadata": {
    "collapsed": true
   },
   "outputs": [],
   "source": [
    "#noteharish: skewed distribution"
   ]
  },
  {
   "cell_type": "markdown",
   "metadata": {},
   "source": [
    "A [Long Tail](http://en.wikipedia.org/wiki/Long_tail)\n",
    "- We'll see a lot of these.\n",
    "- The mean value of a long-tailed distribution is often misleading.\n",
    "\n",
    "<br><br><br><br>"
   ]
  },
  {
   "cell_type": "markdown",
   "metadata": {
    "slideshow": {
     "slide_type": "slide"
    }
   },
   "source": [
    "**Diameter:** The maximum shortest-path between any pair of nodes.\n",
    "\n",
    "**Average path length:** The average shortest-path between any pair of nodes (in one component)."
   ]
  },
  {
   "cell_type": "code",
   "execution_count": null,
   "metadata": {
    "collapsed": true
   },
   "outputs": [],
   "source": [
    "#harish:"
   ]
  },
  {
   "cell_type": "markdown",
   "metadata": {
    "slideshow": {
     "slide_type": "slide"
    }
   },
   "source": [
    "**Clustering coefficient:** The fraction of a node's neighbors that are neighbors  \n",
    "(number of neighbor-neighbor links divided by number of possible neighbor-neighbor links)\n",
    "\n",
    "$$C_i = \\frac{2e_i}{k_i(k_i - 1)}$$\n",
    "\n",
    "- $e_i$: number of edges between neighbors of node $i$\n",
    "- $k_i$: degree of node $i$\n",
    "\n",
    "**Average Clustering Coefficient:**\n",
    "\n",
    "$$C = \\frac{1}{N}\\sum_i C_i  $$\n",
    "\n",
    "![cluster](cluster.png)\n",
    "\n",
    "$$C_i = \\frac{2e_i}{k_i(k_i - 1)}$$\n",
    "\n",
    "[Source](http://web.stanford.edu/class/cs224w/slides/02-gnp.pdf)\n",
    "\n",
    "<br><br><br>\n",
    "What is clustering coefficient of node D?"
   ]
  },
  {
   "cell_type": "markdown",
   "metadata": {
    "slideshow": {
     "slide_type": "slide"
    }
   },
   "source": [
    "$k_D=4, e_D=2, C_D=4/12 = 1/3$\n",
    "\n",
    "<br><br><br>\n",
    "\n",
    "...of node B?\n",
    "\n",
    "<br><br><br>\n",
    "\n",
    "$k_B=2, e_B=1, C_B=2/2 = 1$\n",
    "\n"
   ]
  },
  {
   "cell_type": "code",
   "execution_count": 9,
   "metadata": {},
   "outputs": [
    {
     "data": {
      "text/plain": [
       "{0: 0.15,\n",
       " 1: 0.3333333333333333,\n",
       " 2: 0.24444444444444444,\n",
       " 3: 0.6666666666666666,\n",
       " 4: 0.6666666666666666,\n",
       " 5: 0.5,\n",
       " 6: 0.5,\n",
       " 7: 1.0,\n",
       " 8: 0.5,\n",
       " 9: 0.0,\n",
       " 10: 0.6666666666666666,\n",
       " 11: 0.0,\n",
       " 12: 1.0,\n",
       " 13: 0.6,\n",
       " 14: 1.0,\n",
       " 15: 1.0,\n",
       " 16: 1.0,\n",
       " 17: 1.0,\n",
       " 18: 1.0,\n",
       " 19: 0.3333333333333333,\n",
       " 20: 1.0,\n",
       " 21: 1.0,\n",
       " 22: 1.0,\n",
       " 23: 0.4,\n",
       " 24: 0.3333333333333333,\n",
       " 25: 0.3333333333333333,\n",
       " 26: 1.0,\n",
       " 27: 0.16666666666666666,\n",
       " 28: 0.3333333333333333,\n",
       " 29: 0.6666666666666666,\n",
       " 30: 0.5,\n",
       " 31: 0.2,\n",
       " 32: 0.19696969696969696,\n",
       " 33: 0.11029411764705882}"
      ]
     },
     "execution_count": 9,
     "metadata": {},
     "output_type": "execute_result"
    }
   ],
   "source": [
    "# dict from node id to clustering coefficient.\n",
    "import numpy as np\n",
    "# np.mean(list(nx.clustering(G).values()))\n",
    "nx.clustering(G)"
   ]
  },
  {
   "cell_type": "code",
   "execution_count": 11,
   "metadata": {},
   "outputs": [
    {
     "data": {
      "image/png": "[encoded data removed]",
      "text/plain": [
       "<matplotlib.figure.Figure at 0x7f20f7eef278>"
      ]
     },
     "metadata": {},
     "output_type": "display_data"
    }
   ],
   "source": [
    "plt.hist(list(nx.clustering(G).values()), bins=10)\n",
    "plt.xlabel('clustering coefficient')\n",
    "plt.ylabel('count')\n",
    "plt.show()"
   ]
  },
  {
   "cell_type": "code",
   "execution_count": 13,
   "metadata": {},
   "outputs": [
    {
     "data": {
      "image/png": "[encoded data removed]",
      "text/plain": [
       "<matplotlib.figure.Figure at 0x7f20f7ef60f0>"
      ]
     },
     "metadata": {},
     "output_type": "display_data"
    }
   ],
   "source": [
    "plt.figure()\n",
    "plt.plot(sorted(list(nx.clustering(G).values())), 'bo-')\n",
    "plt.xlabel('rank')\n",
    "plt.ylabel('clustering coefficient')\n",
    "plt.show()"
   ]
  },
  {
   "cell_type": "code",
   "execution_count": 15,
   "metadata": {
    "collapsed": true
   },
   "outputs": [],
   "source": [
    "#harish:\n",
    "#what is this scatter plot relationship look like?:\n",
    "#ans: friends of friends with lower degree"
   ]
  },
  {
   "cell_type": "code",
   "execution_count": 16,
   "metadata": {},
   "outputs": [
    {
     "data": {
      "image/png": "[encoded data removed]",
      "text/plain": [
       "<matplotlib.figure.Figure at 0x7f20f1c486a0>"
      ]
     },
     "metadata": {},
     "output_type": "display_data"
    }
   ],
   "source": [
    "plt.figure()\n",
    "plt.scatter(list(nx.degree(G).values()), list(nx.clustering(G).values()))\n",
    "plt.xlabel('degree')\n",
    "plt.ylabel('clustering coefficient')\n",
    "plt.show()"
   ]
  },
  {
   "cell_type": "code",
   "execution_count": null,
   "metadata": {
    "collapsed": true
   },
   "outputs": [],
   "source": []
  }
 ],
 "metadata": {
  "kernelspec": {
   "display_name": "Python 3",
   "language": "python",
   "name": "python3"
  },
  "language_info": {
   "codemirror_mode": {
    "name": "ipython",
    "version": 3
   },
   "file_extension": ".py",
   "mimetype": "text/x-python",
   "name": "python",
   "nbconvert_exporter": "python",
   "pygments_lexer": "ipython3",
   "version": "3.5.2"
  }
 },
 "nbformat": 4,
 "nbformat_minor": 1
}
