{
 "cells": [
  {
   "cell_type": "markdown",
   "metadata": {
    "slideshow": {
     "slide_type": "slide"
    }
   },
   "source": [
    "# CS579: Lecture 02\n",
    "# Data Collection\n",
    "\n",
    "<br><br>\n",
    "\n",
    "*[Dr. Aron Culotta](http://cs.iit.edu/~culotta)*  \n",
    "*[Illinois Institute of Technology](http://iit.edu)*\n",
    "\n",
    "<br><br><br><br><br><br>\n",
    "<br><br><br><br><br><br>"
   ]
  },
  {
   "cell_type": "markdown",
   "metadata": {},
   "source": [
    "**Today's Goals**\n",
    "- Give examples of\n",
    "  - Collecting Twitter data\n",
    "  - Constructing social graphs with networkx\n",
    "  - Python tips and tricks\n",
    "- Discuss the first assignment"
   ]
  },
  {
   "cell_type": "markdown",
   "metadata": {
    "slideshow": {
     "slide_type": "slide"
    }
   },
   "source": [
    "# Twitter\n",
    "\n",
    "- Platform for broadcasting messages.\n",
    "- https://twitter.com/justinbieber\n",
    "<br><br><br><br><br><br>"
   ]
  },
  {
   "cell_type": "markdown",
   "metadata": {
    "slideshow": {
     "slide_type": "slide"
    }
   },
   "source": [
    "# Twitter Jargon\n",
    "\n",
    "- **tweet**: A message, max 140 characters\n",
    "- **timeline**: A list of tweets from a user\n",
    "- **follower**: If user $A$ follows $B$, $A$ will receive tweets from $B$'s timeline\n",
    "- **friend**: If $A$ follows $B$, then $B$ is a *friend* of $A$.\n",
    "  - Notice the asymmetry: If $A$ follows $B$, but $B$ does not follow $A$, then $A$ is not a friend of $B$.\n",
    "\n",
    "<br><br><br><br><br><br>\n"
   ]
  },
  {
   "cell_type": "markdown",
   "metadata": {
    "slideshow": {
     "slide_type": "slide"
    }
   },
   "source": [
    "# Twitter API\n",
    "\n",
    "- https://dev.twitter.com/\n",
    "- Provides programmatic access to *public* Twitter data\n",
    "  - *direct messages* not included\n",
    "  - A user can set their timeline to be private, but this is rare.\n",
    "  \n",
    " <br><br><br><br><br><br>\n"
   ]
  },
  {
   "cell_type": "markdown",
   "metadata": {
    "slideshow": {
     "slide_type": "slide"
    }
   },
   "source": [
    "# Twitter API\n",
    "\n",
    "Two sub-APIs:\n",
    "- *[REST API](https://dev.twitter.com/docs/api/1.1)*: Submit HTTP requests to access specific information (tweets, friends, ...)\n",
    "- *[Streaming API](https://dev.twitter.com/docs/api/streaming)*: Open a continuous connection to Twitter to receive real-time data.\n",
    "\n",
    "These APIs are simply HTTP GET requests:\n",
    "\n",
    "https://api.twitter.com/1.1/search/tweets.json?q=chicago\n",
    "\n",
    "<br><br><br><br><br><br>\n"
   ]
  },
  {
   "cell_type": "markdown",
   "metadata": {
    "slideshow": {
     "slide_type": "slide"
    }
   },
   "source": [
    "# Authentication\n",
    "\n",
    "- Twitter uses [OAuth](https://dev.twitter.com/docs/auth/oauth) to enable secure requests to the API\n",
    "- After creating an account, you can generate tokens: https://dev.twitter.com/docs/auth/tokens-devtwittercom\n",
    "- These tokens will be sent with each API request\n",
    "- Many libraries exist to make this easier: https://dev.twitter.com/docs/twitter-libraries\n",
    "<br><br><br><br><br><br>\n"
   ]
  },
  {
   "cell_type": "code",
   "execution_count": 68,
   "metadata": {
    "collapsed": false,
    "slideshow": {
     "slide_type": "slide"
    }
   },
   "outputs": [
    {
     "name": "stdout",
     "output_type": "stream",
     "text": [
      "Established Twitter connection.\n"
     ]
    }
   ],
   "source": [
    "# Create a Twitter connection using TwitterAPI:\n",
    "#   https://github.com/geduldig/TwitterAPI\n",
    "# Start with `pip install TwitterAPI`\n",
    "# You'll need to edit twitter.cfg with your own tokens.\n",
    "import configparser\n",
    "from TwitterAPI import TwitterAPI\n",
    "\n",
    "def get_twitter(config_file):\n",
    "    \"\"\" Read the config_file and construct an instance of TwitterAPI.\n",
    "    Args:\n",
    "      config_file ... A config file in ConfigParser format with Twitter credentials\n",
    "    Returns:\n",
    "      An instance of TwitterAPI.\n",
    "    \"\"\"\n",
    "    config = configparser.ConfigParser()\n",
    "    config.read(config_file)\n",
    "    twitter = TwitterAPI(\n",
    "                   config.get('twitter', 'consumer_key'),\n",
    "                   config.get('twitter', 'consumer_secret'),\n",
    "                   config.get('twitter', 'access_token'),\n",
    "                   config.get('twitter', 'access_token_secret'))\n",
    "    return twitter\n",
    "\n",
    "twitter = get_twitter('twitter.cfg')\n",
    "print('Established Twitter connection.')"
   ]
  },
  {
   "cell_type": "code",
   "execution_count": 69,
   "metadata": {
    "collapsed": false
   },
   "outputs": [
    {
     "data": {
      "text/plain": [
       "TwitterAPI.TwitterAPI.TwitterAPI"
      ]
     },
     "execution_count": 69,
     "metadata": {},
     "output_type": "execute_result"
    }
   ],
   "source": [
    "type(twitter)"
   ]
  },
  {
   "cell_type": "code",
   "execution_count": 70,
   "metadata": {
    "collapsed": false
   },
   "outputs": [
    {
     "data": {
      "text/plain": [
       "['__class__',\n",
       " '__delattr__',\n",
       " '__dict__',\n",
       " '__dir__',\n",
       " '__doc__',\n",
       " '__eq__',\n",
       " '__format__',\n",
       " '__ge__',\n",
       " '__getattribute__',\n",
       " '__gt__',\n",
       " '__hash__',\n",
       " '__init__',\n",
       " '__init_subclass__',\n",
       " '__le__',\n",
       " '__lt__',\n",
       " '__module__',\n",
       " '__ne__',\n",
       " '__new__',\n",
       " '__reduce__',\n",
       " '__reduce_ex__',\n",
       " '__repr__',\n",
       " '__setattr__',\n",
       " '__sizeof__',\n",
       " '__str__',\n",
       " '__subclasshook__',\n",
       " '__weakref__',\n",
       " '_get_endpoint',\n",
       " '_prepare_url',\n",
       " 'auth',\n",
       " 'proxies',\n",
       " 'request']"
      ]
     },
     "execution_count": 70,
     "metadata": {},
     "output_type": "execute_result"
    }
   ],
   "source": [
    "# What can we do with this twitter object?\n",
    "# builtin method `dir` tells us...\n",
    "dir(twitter)"
   ]
  },
  {
   "cell_type": "code",
   "execution_count": 71,
   "metadata": {
    "collapsed": false
   },
   "outputs": [
    {
     "name": "stdout",
     "output_type": "stream",
     "text": [
      "Help on method request in module TwitterAPI.TwitterAPI:\n",
      "\n",
      "request(resource, params=None, files=None, method_override=None) method of TwitterAPI.TwitterAPI.TwitterAPI instance\n",
      "    Request a Twitter REST API or Streaming API resource.\n",
      "    \n",
      "    :param resource: A valid Twitter endpoint (ex. \"search/tweets\")\n",
      "    :param params: Dictionary with endpoint parameters or None (default)\n",
      "    :param files: Dictionary with multipart-encoded file or None (default)\n",
      "    :param method_override: Request method to override or None (default)\n",
      "    \n",
      "    :returns: TwitterResponse\n",
      "    :raises: TwitterConnectionError\n",
      "\n"
     ]
    }
   ],
   "source": [
    "# Get help on the `request` method using the builtin method called...`help`\n",
    "help(twitter.request)"
   ]
  },
  {
   "cell_type": "code",
   "execution_count": 72,
   "metadata": {
    "collapsed": false
   },
   "outputs": [],
   "source": [
    "# Let's start by querying the search API\n",
    "request = twitter.request('search/tweets', {'q': 'chicago'}) "
   ]
  },
  {
   "cell_type": "code",
   "execution_count": 9,
   "metadata": {
    "collapsed": false
   },
   "outputs": [
    {
     "name": "stdout",
     "output_type": "stream",
     "text": [
      "<class 'TwitterAPI.TwitterAPI.TwitterResponse'>\n"
     ]
    },
    {
     "data": {
      "text/plain": [
       "['__class__',\n",
       " '__delattr__',\n",
       " '__dict__',\n",
       " '__dir__',\n",
       " '__doc__',\n",
       " '__eq__',\n",
       " '__format__',\n",
       " '__ge__',\n",
       " '__getattribute__',\n",
       " '__gt__',\n",
       " '__hash__',\n",
       " '__init__',\n",
       " '__init_subclass__',\n",
       " '__iter__',\n",
       " '__le__',\n",
       " '__lt__',\n",
       " '__module__',\n",
       " '__ne__',\n",
       " '__new__',\n",
       " '__reduce__',\n",
       " '__reduce_ex__',\n",
       " '__repr__',\n",
       " '__setattr__',\n",
       " '__sizeof__',\n",
       " '__str__',\n",
       " '__subclasshook__',\n",
       " '__weakref__',\n",
       " 'close',\n",
       " 'get_iterator',\n",
       " 'get_rest_quota',\n",
       " 'headers',\n",
       " 'json',\n",
       " 'response',\n",
       " 'status_code',\n",
       " 'stream',\n",
       " 'text']"
      ]
     },
     "execution_count": 9,
     "metadata": {},
     "output_type": "execute_result"
    }
   ],
   "source": [
    "# What object is returned?\n",
    "# builtin type method will tell us.\n",
    "print(type(request))\n",
    "dir(request)"
   ]
  },
  {
   "cell_type": "code",
   "execution_count": 73,
   "metadata": {
    "collapsed": false
   },
   "outputs": [
    {
     "data": {
      "text/plain": [
       "200"
      ]
     },
     "execution_count": 73,
     "metadata": {},
     "output_type": "execute_result"
    }
   ],
   "source": [
    "request.status_code\n",
    "# See https://dev.twitter.com/overview/api/response-codes"
   ]
  },
  {
   "cell_type": "code",
   "execution_count": 74,
   "metadata": {
    "collapsed": false
   },
   "outputs": [
    {
     "name": "stdout",
     "output_type": "stream",
     "text": [
      "1\n",
      "2\n",
      "3\n"
     ]
    }
   ],
   "source": [
    "for i in [1,2,3]:\n",
    "    print(i)"
   ]
  },
  {
   "cell_type": "code",
   "execution_count": 75,
   "metadata": {
    "collapsed": false
   },
   "outputs": [
    {
     "name": "stdout",
     "output_type": "stream",
     "text": [
      "[2, 4, 6]\n"
     ]
    }
   ],
   "source": [
    "print([i*2 for i in [1,2,3]])"
   ]
  },
  {
   "cell_type": "code",
   "execution_count": 76,
   "metadata": {
    "collapsed": false
   },
   "outputs": [],
   "source": [
    "# The __iter__ method means we can loop over this object.\n",
    "# See https://wiki.python.org/moin/Iterator\n",
    "tweets = [r for r in request]\n",
    "# List comprehensions used a lot in Python. See:\n",
    "# https://docs.python.org/2/tutorial/datastructures.html"
   ]
  },
  {
   "cell_type": "code",
   "execution_count": 77,
   "metadata": {
    "collapsed": false
   },
   "outputs": [
    {
     "name": "stdout",
     "output_type": "stream",
     "text": [
      "found 15 tweets\n"
     ]
    }
   ],
   "source": [
    "print('found %d tweets' % len(tweets))"
   ]
  },
  {
   "cell_type": "code",
   "execution_count": 78,
   "metadata": {
    "collapsed": false
   },
   "outputs": [
    {
     "data": {
      "text/plain": [
       "dict"
      ]
     },
     "execution_count": 78,
     "metadata": {},
     "output_type": "execute_result"
    }
   ],
   "source": [
    "# What is the first tweet?\n",
    "a_tweet = tweets[0]\n",
    "type(a_tweet)"
   ]
  },
  {
   "cell_type": "code",
   "execution_count": 79,
   "metadata": {
    "collapsed": false
   },
   "outputs": [
    {
     "name": "stdout",
     "output_type": "stream",
     "text": [
      "Help on dict object:\n",
      "\n",
      "class dict(object)\n",
      " |  dict() -> new empty dictionary\n",
      " |  dict(mapping) -> new dictionary initialized from a mapping object's\n",
      " |      (key, value) pairs\n",
      " |  dict(iterable) -> new dictionary initialized as if via:\n",
      " |      d = {}\n",
      " |      for k, v in iterable:\n",
      " |          d[k] = v\n",
      " |  dict(**kwargs) -> new dictionary initialized with the name=value pairs\n",
      " |      in the keyword argument list.  For example:  dict(one=1, two=2)\n",
      " |  \n",
      " |  Methods defined here:\n",
      " |  \n",
      " |  __contains__(self, key, /)\n",
      " |      True if D has a key k, else False.\n",
      " |  \n",
      " |  __delitem__(self, key, /)\n",
      " |      Delete self[key].\n",
      " |  \n",
      " |  __eq__(self, value, /)\n",
      " |      Return self==value.\n",
      " |  \n",
      " |  __ge__(self, value, /)\n",
      " |      Return self>=value.\n",
      " |  \n",
      " |  __getattribute__(self, name, /)\n",
      " |      Return getattr(self, name).\n",
      " |  \n",
      " |  __getitem__(...)\n",
      " |      x.__getitem__(y) <==> x[y]\n",
      " |  \n",
      " |  __gt__(self, value, /)\n",
      " |      Return self>value.\n",
      " |  \n",
      " |  __init__(self, /, *args, **kwargs)\n",
      " |      Initialize self.  See help(type(self)) for accurate signature.\n",
      " |  \n",
      " |  __iter__(self, /)\n",
      " |      Implement iter(self).\n",
      " |  \n",
      " |  __le__(self, value, /)\n",
      " |      Return self<=value.\n",
      " |  \n",
      " |  __len__(self, /)\n",
      " |      Return len(self).\n",
      " |  \n",
      " |  __lt__(self, value, /)\n",
      " |      Return self<value.\n",
      " |  \n",
      " |  __ne__(self, value, /)\n",
      " |      Return self!=value.\n",
      " |  \n",
      " |  __new__(*args, **kwargs) from builtins.type\n",
      " |      Create and return a new object.  See help(type) for accurate signature.\n",
      " |  \n",
      " |  __repr__(self, /)\n",
      " |      Return repr(self).\n",
      " |  \n",
      " |  __setitem__(self, key, value, /)\n",
      " |      Set self[key] to value.\n",
      " |  \n",
      " |  __sizeof__(...)\n",
      " |      D.__sizeof__() -> size of D in memory, in bytes\n",
      " |  \n",
      " |  clear(...)\n",
      " |      D.clear() -> None.  Remove all items from D.\n",
      " |  \n",
      " |  copy(...)\n",
      " |      D.copy() -> a shallow copy of D\n",
      " |  \n",
      " |  fromkeys(iterable, value=None, /) from builtins.type\n",
      " |      Returns a new dict with keys from iterable and values equal to value.\n",
      " |  \n",
      " |  get(...)\n",
      " |      D.get(k[,d]) -> D[k] if k in D, else d.  d defaults to None.\n",
      " |  \n",
      " |  items(...)\n",
      " |      D.items() -> a set-like object providing a view on D's items\n",
      " |  \n",
      " |  keys(...)\n",
      " |      D.keys() -> a set-like object providing a view on D's keys\n",
      " |  \n",
      " |  pop(...)\n",
      " |      D.pop(k[,d]) -> v, remove specified key and return the corresponding value.\n",
      " |      If key is not found, d is returned if given, otherwise KeyError is raised\n",
      " |  \n",
      " |  popitem(...)\n",
      " |      D.popitem() -> (k, v), remove and return some (key, value) pair as a\n",
      " |      2-tuple; but raise KeyError if D is empty.\n",
      " |  \n",
      " |  setdefault(...)\n",
      " |      D.setdefault(k[,d]) -> D.get(k,d), also set D[k]=d if k not in D\n",
      " |  \n",
      " |  update(...)\n",
      " |      D.update([E, ]**F) -> None.  Update D from dict/iterable E and F.\n",
      " |      If E is present and has a .keys() method, then does:  for k in E: D[k] = E[k]\n",
      " |      If E is present and lacks a .keys() method, then does:  for k, v in E: D[k] = v\n",
      " |      In either case, this is followed by: for k in F:  D[k] = F[k]\n",
      " |  \n",
      " |  values(...)\n",
      " |      D.values() -> an object providing a view on D's values\n",
      " |  \n",
      " |  ----------------------------------------------------------------------\n",
      " |  Data and other attributes defined here:\n",
      " |  \n",
      " |  __hash__ = None\n",
      "\n"
     ]
    }
   ],
   "source": [
    "# What can we do with dicts?\n",
    "help(a_tweet)"
   ]
  },
  {
   "cell_type": "code",
   "execution_count": 80,
   "metadata": {
    "collapsed": false
   },
   "outputs": [
    {
     "data": {
      "text/plain": [
       "dict_keys(['created_at', 'id', 'id_str', 'text', 'truncated', 'entities', 'metadata', 'source', 'in_reply_to_status_id', 'in_reply_to_status_id_str', 'in_reply_to_user_id', 'in_reply_to_user_id_str', 'in_reply_to_screen_name', 'user', 'geo', 'coordinates', 'place', 'contributors', 'retweeted_status', 'is_quote_status', 'retweet_count', 'favorite_count', 'favorited', 'retweeted', 'lang'])"
      ]
     },
     "execution_count": 80,
     "metadata": {},
     "output_type": "execute_result"
    }
   ],
   "source": [
    "# Print keys.\n",
    "a_tweet.keys()"
   ]
  },
  {
   "cell_type": "code",
   "execution_count": 81,
   "metadata": {
    "collapsed": false
   },
   "outputs": [
    {
     "name": "stdout",
     "output_type": "stream",
     "text": [
      "RT @st47ck: Girls From Georgia, Texas , Chicago😩😍\n",
      "Wed Aug 23 19:16:48 +0000 2017\n"
     ]
    }
   ],
   "source": [
    "# The text.\n",
    "print(a_tweet['text'])\n",
    "print(a_tweet['created_at'])"
   ]
  },
  {
   "cell_type": "code",
   "execution_count": 82,
   "metadata": {
    "collapsed": false
   },
   "outputs": [
    {
     "data": {
      "text/plain": [
       "{'contributors_enabled': False,\n",
       " 'created_at': 'Thu Apr 14 11:58:03 +0000 2016',\n",
       " 'default_profile': True,\n",
       " 'default_profile_image': False,\n",
       " 'description': \"God ain't finished with me yet.. 🙏🏾AlbanyStateUniversity 🐏💙💛\",\n",
       " 'entities': {'description': {'urls': []}},\n",
       " 'favourites_count': 21027,\n",
       " 'follow_request_sent': False,\n",
       " 'followers_count': 1079,\n",
       " 'following': False,\n",
       " 'friends_count': 702,\n",
       " 'geo_enabled': True,\n",
       " 'has_extended_profile': True,\n",
       " 'id': 720581882803535872,\n",
       " 'id_str': '720581882803535872',\n",
       " 'is_translation_enabled': False,\n",
       " 'is_translator': False,\n",
       " 'lang': 'en',\n",
       " 'listed_count': 4,\n",
       " 'location': 'Forsyth, GA',\n",
       " 'name': 'QC ✨🐐',\n",
       " 'notifications': False,\n",
       " 'profile_background_color': 'F5F8FA',\n",
       " 'profile_background_image_url': None,\n",
       " 'profile_background_image_url_https': None,\n",
       " 'profile_background_tile': False,\n",
       " 'profile_banner_url': 'https://pbs.twimg.com/profile_banners/720581882803535872/1489971160',\n",
       " 'profile_image_url': 'http://pbs.twimg.com/profile_images/898587267916279809/y8hUt4jj_normal.jpg',\n",
       " 'profile_image_url_https': 'https://pbs.twimg.com/profile_images/898587267916279809/y8hUt4jj_normal.jpg',\n",
       " 'profile_link_color': '1DA1F2',\n",
       " 'profile_sidebar_border_color': 'C0DEED',\n",
       " 'profile_sidebar_fill_color': 'DDEEF6',\n",
       " 'profile_text_color': '333333',\n",
       " 'profile_use_background_image': True,\n",
       " 'protected': False,\n",
       " 'screen_name': '_miquala97',\n",
       " 'statuses_count': 27952,\n",
       " 'time_zone': None,\n",
       " 'translator_type': 'none',\n",
       " 'url': None,\n",
       " 'utc_offset': None,\n",
       " 'verified': False}"
      ]
     },
     "execution_count": 82,
     "metadata": {},
     "output_type": "execute_result"
    }
   ],
   "source": [
    "# What is a user?...another dict\n",
    "a_tweet['user']"
   ]
  },
  {
   "cell_type": "code",
   "execution_count": 83,
   "metadata": {
    "collapsed": false
   },
   "outputs": [
    {
     "name": "stdout",
     "output_type": "stream",
     "text": [
      "screen_name=_miquala97, name=QC ✨🐐, location=Forsyth, GA\n"
     ]
    }
   ],
   "source": [
    "user = a_tweet['user']\n",
    "print('screen_name=%s, name=%s, location=%s' % (user['screen_name'], user['name'], user['location']))"
   ]
  },
  {
   "cell_type": "code",
   "execution_count": 84,
   "metadata": {
    "collapsed": false
   },
   "outputs": [
    {
     "name": "stdout",
     "output_type": "stream",
     "text": [
      "found 200 followers for _miquala97\n"
     ]
    }
   ],
   "source": [
    "# Who follows this person?\n",
    "# https://dev.twitter.com/docs/api/1.1/get/followers/list\n",
    "screen_name = user['screen_name']\n",
    "request = twitter.request('followers/list', {'screen_name': screen_name, 'count':200})\n",
    "followers = [r for r in request]\n",
    "        \n",
    "print('found %d followers for %s' % (len(followers), screen_name))\n",
    "# See more about paging here: https://dev.twitter.com/docs/working-with-timelines"
   ]
  },
  {
   "cell_type": "code",
   "execution_count": 85,
   "metadata": {
    "collapsed": false
   },
   "outputs": [
    {
     "data": {
      "text/plain": [
       "dict"
      ]
     },
     "execution_count": 85,
     "metadata": {},
     "output_type": "execute_result"
    }
   ],
   "source": [
    "type(followers[0])"
   ]
  },
  {
   "cell_type": "code",
   "execution_count": 86,
   "metadata": {
    "collapsed": false
   },
   "outputs": [
    {
     "data": {
      "text/plain": [
       "dict_keys(['id', 'id_str', 'name', 'screen_name', 'location', 'description', 'url', 'entities', 'protected', 'followers_count', 'friends_count', 'listed_count', 'created_at', 'favourites_count', 'utc_offset', 'time_zone', 'geo_enabled', 'verified', 'statuses_count', 'lang', 'status', 'contributors_enabled', 'is_translator', 'is_translation_enabled', 'profile_background_color', 'profile_background_image_url', 'profile_background_image_url_https', 'profile_background_tile', 'profile_image_url', 'profile_image_url_https', 'profile_banner_url', 'profile_link_color', 'profile_sidebar_border_color', 'profile_sidebar_fill_color', 'profile_text_color', 'profile_use_background_image', 'has_extended_profile', 'default_profile', 'default_profile_image', 'following', 'live_following', 'follow_request_sent', 'notifications', 'muting', 'blocking', 'blocked_by', 'translator_type'])"
      ]
     },
     "execution_count": 86,
     "metadata": {},
     "output_type": "execute_result"
    }
   ],
   "source": [
    "followers[0].keys()"
   ]
  },
  {
   "cell_type": "code",
   "execution_count": 87,
   "metadata": {
    "collapsed": false
   },
   "outputs": [
    {
     "data": {
      "text/plain": [
       "'keylonnnn'"
      ]
     },
     "execution_count": 87,
     "metadata": {},
     "output_type": "execute_result"
    }
   ],
   "source": [
    "followers[0]['screen_name']"
   ]
  },
  {
   "cell_type": "code",
   "execution_count": 88,
   "metadata": {
    "collapsed": true
   },
   "outputs": [],
   "source": [
    "# What happens if we get an error?\n",
    "request = twitter.request('followers/list',\n",
    "                          {'screen_name': 'this_is_not_a_valid_screen_name',\n",
    "                           'count':200})"
   ]
  },
  {
   "cell_type": "code",
   "execution_count": 89,
   "metadata": {
    "collapsed": false
   },
   "outputs": [
    {
     "ename": "TwitterRequestError",
     "evalue": "Twitter request failed (404)",
     "output_type": "error",
     "traceback": [
      "\u001b[0;31m---------------------------------------------------------------------------\u001b[0m",
      "\u001b[0;31mTwitterRequestError\u001b[0m                       Traceback (most recent call last)",
      "\u001b[0;32m<ipython-input-89-80faf051b933>\u001b[0m in \u001b[0;36m<module>\u001b[0;34m()\u001b[0m\n\u001b[0;32m----> 1\u001b[0;31m \u001b[0mbad_followers\u001b[0m \u001b[0;34m=\u001b[0m \u001b[0;34m[\u001b[0m\u001b[0mr\u001b[0m \u001b[0;32mfor\u001b[0m \u001b[0mr\u001b[0m \u001b[0;32min\u001b[0m \u001b[0mrequest\u001b[0m\u001b[0;34m]\u001b[0m\u001b[0;34m\u001b[0m\u001b[0m\n\u001b[0m",
      "\u001b[0;32m/usr/local/lib/python3.6/site-packages/TwitterAPI/TwitterAPI.py\u001b[0m in \u001b[0;36m__iter__\u001b[0;34m(self)\u001b[0m\n\u001b[1;32m    187\u001b[0m         \u001b[0;34m:\u001b[0m\u001b[0mraises\u001b[0m\u001b[0;34m:\u001b[0m \u001b[0mTwitterConnectionError\u001b[0m\u001b[0;34m,\u001b[0m \u001b[0mTwitterRequestError\u001b[0m\u001b[0;34m\u001b[0m\u001b[0m\n\u001b[1;32m    188\u001b[0m         \"\"\"\n\u001b[0;32m--> 189\u001b[0;31m         \u001b[0;32mreturn\u001b[0m \u001b[0mself\u001b[0m\u001b[0;34m.\u001b[0m\u001b[0mget_iterator\u001b[0m\u001b[0;34m(\u001b[0m\u001b[0;34m)\u001b[0m\u001b[0;34m\u001b[0m\u001b[0m\n\u001b[0m\u001b[1;32m    190\u001b[0m \u001b[0;34m\u001b[0m\u001b[0m\n\u001b[1;32m    191\u001b[0m     \u001b[0;32mdef\u001b[0m \u001b[0mget_rest_quota\u001b[0m\u001b[0;34m(\u001b[0m\u001b[0mself\u001b[0m\u001b[0;34m)\u001b[0m\u001b[0;34m:\u001b[0m\u001b[0;34m\u001b[0m\u001b[0m\n",
      "\u001b[0;32m/usr/local/lib/python3.6/site-packages/TwitterAPI/TwitterAPI.py\u001b[0m in \u001b[0;36mget_iterator\u001b[0;34m(self)\u001b[0m\n\u001b[1;32m    174\u001b[0m         \"\"\"\n\u001b[1;32m    175\u001b[0m         \u001b[0;32mif\u001b[0m \u001b[0mself\u001b[0m\u001b[0;34m.\u001b[0m\u001b[0mresponse\u001b[0m\u001b[0;34m.\u001b[0m\u001b[0mstatus_code\u001b[0m \u001b[0;34m!=\u001b[0m \u001b[0;36m200\u001b[0m\u001b[0;34m:\u001b[0m\u001b[0;34m\u001b[0m\u001b[0m\n\u001b[0;32m--> 176\u001b[0;31m             \u001b[0;32mraise\u001b[0m \u001b[0mTwitterRequestError\u001b[0m\u001b[0;34m(\u001b[0m\u001b[0mself\u001b[0m\u001b[0;34m.\u001b[0m\u001b[0mresponse\u001b[0m\u001b[0;34m.\u001b[0m\u001b[0mstatus_code\u001b[0m\u001b[0;34m)\u001b[0m\u001b[0;34m\u001b[0m\u001b[0m\n\u001b[0m\u001b[1;32m    177\u001b[0m \u001b[0;34m\u001b[0m\u001b[0m\n\u001b[1;32m    178\u001b[0m         \u001b[0;32mif\u001b[0m \u001b[0mself\u001b[0m\u001b[0;34m.\u001b[0m\u001b[0mstream\u001b[0m\u001b[0;34m:\u001b[0m\u001b[0;34m\u001b[0m\u001b[0m\n",
      "\u001b[0;31mTwitterRequestError\u001b[0m: Twitter request failed (404)"
     ]
    }
   ],
   "source": [
    "bad_followers = [r for r in request]"
   ]
  },
  {
   "cell_type": "code",
   "execution_count": 90,
   "metadata": {
    "collapsed": false
   },
   "outputs": [
    {
     "data": {
      "text/plain": [
       "404"
      ]
     },
     "execution_count": 90,
     "metadata": {},
     "output_type": "execute_result"
    }
   ],
   "source": [
    "request.status_code"
   ]
  },
  {
   "cell_type": "markdown",
   "metadata": {},
   "source": [
    "# Limitations\n",
    "\n",
    "- Can only search 2 weeks in past\n",
    "  - But can get up to 3,200 most recent tweets of a user\n",
    "- Rate limits! https://dev.twitter.com/docs/rate-limiting/1.1/limits\n",
    "  - e.g., 180 requests in 15 minute window"
   ]
  },
  {
   "cell_type": "code",
   "execution_count": 91,
   "metadata": {
    "collapsed": false
   },
   "outputs": [],
   "source": [
    "# Working around rate limits.\n",
    "def robust_request(twitter, resource, params, max_tries=5):\n",
    "    \"\"\" If a Twitter request fails, sleep for 15 minutes.\n",
    "    Do this at most max_tries times before quitting.\n",
    "    Args:\n",
    "      twitter .... A TwitterAPI object.\n",
    "      resource ... A resource string to request.\n",
    "      params ..... A parameter dictionary for the request.\n",
    "      max_tries .. The maximum number of tries to attempt.\n",
    "    Returns:\n",
    "      A TwitterResponse object, or None if failed.\n",
    "    \"\"\"\n",
    "    for i in range(max_tries):\n",
    "        request = twitter.request(resource, params)\n",
    "        if request.status_code == 200:\n",
    "            return request\n",
    "        else:\n",
    "            print('Got error: %s \\nsleeping for 15 minutes.' % request.text)\n",
    "            time.sleep(61 * 15)"
   ]
  },
  {
   "cell_type": "markdown",
   "metadata": {},
   "source": [
    "## Drawing graphs with NetworkX"
   ]
  },
  {
   "cell_type": "code",
   "execution_count": 92,
   "metadata": {
    "collapsed": false
   },
   "outputs": [
    {
     "data": {
      "image/png": "[encoded data removed]",
      "text/plain": [
       "<matplotlib.figure.Figure at 0x10b710240>"
      ]
     },
     "metadata": {},
     "output_type": "display_data"
    }
   ],
   "source": [
    "import warnings\n",
    "warnings.filterwarnings(\"ignore\")\n",
    "# Drawing graphs: http://networkx.github.io/\n",
    "# `pip install networkx`\n",
    "import networkx as nx\n",
    "# Create a graph\n",
    "graph = nx.DiGraph()\n",
    "# Add a node\n",
    "graph.add_node(screen_name)\n",
    "# Draw the graph\n",
    "nx.draw(graph, with_labels=True)"
   ]
  },
  {
   "cell_type": "code",
   "execution_count": 93,
   "metadata": {
    "collapsed": true
   },
   "outputs": [],
   "source": [
    "# Didn't draw anything? Need to place it inline.\n",
    "import matplotlib.pyplot as plt  \n",
    "%matplotlib inline\n",
    "# See many more magic spells:\n",
    "# http://ipython.org/ipython-doc/stable/interactive/reference.html#magic-command-system"
   ]
  },
  {
   "cell_type": "code",
   "execution_count": 94,
   "metadata": {
    "collapsed": false
   },
   "outputs": [
    {
     "data": {
      "image/png": "[encoded data removed]",
      "text/plain": [
       "<matplotlib.figure.Figure at 0x10828def0>"
      ]
     },
     "metadata": {},
     "output_type": "display_data"
    }
   ],
   "source": [
    "nx.draw(graph, with_labels=True)"
   ]
  },
  {
   "cell_type": "code",
   "execution_count": 95,
   "metadata": {
    "collapsed": false
   },
   "outputs": [
    {
     "data": {
      "image/png": "[encoded data removed]",
      "text/plain": [
       "<matplotlib.figure.Figure at 0x108360978>"
      ]
     },
     "metadata": {},
     "output_type": "display_data"
    }
   ],
   "source": [
    "# Add an edge to a follower\n",
    "graph.add_edge(followers[0]['screen_name'], screen_name)\n",
    "nx.draw(graph, with_labels=True)"
   ]
  },
  {
   "cell_type": "code",
   "execution_count": 96,
   "metadata": {
    "collapsed": false
   },
   "outputs": [
    {
     "data": {
      "image/png": "[encoded data removed]",
      "text/plain": [
       "<matplotlib.figure.Figure at 0x10c0ff518>"
      ]
     },
     "metadata": {},
     "output_type": "display_data"
    }
   ],
   "source": [
    "# Make link symmetric.\n",
    "graph.add_edge(screen_name, followers[0]['screen_name'])\n",
    "nx.draw(graph, with_labels=True)"
   ]
  },
  {
   "cell_type": "code",
   "execution_count": 97,
   "metadata": {
    "collapsed": false
   },
   "outputs": [
    {
     "name": "stdout",
     "output_type": "stream",
     "text": [
      "got 199 tweets for user _miquala97\n"
     ]
    }
   ],
   "source": [
    "# Get this person's timeline\n",
    "timeline = [tweet for tweet in twitter.request('statuses/user_timeline',\n",
    "                                                {'screen_name': screen_name,\n",
    "                                                 'count': 200})]\n",
    "print('got %d tweets for user %s' % (len(timeline), screen_name))"
   ]
  },
  {
   "cell_type": "markdown",
   "metadata": {},
   "source": [
    "** Why not 200? **"
   ]
  },
  {
   "cell_type": "code",
   "execution_count": 98,
   "metadata": {
    "collapsed": false,
    "scrolled": true
   },
   "outputs": [
    {
     "name": "stdout",
     "output_type": "stream",
     "text": [
      "RT @Tyonna_Moss: and you'll never be last. https://t.co/3TyXhIZdCC\n",
      "RT @st47ck: Girls From Georgia, Texas , Chicago😩😍\n",
      "RT @Symphonynyy: Hey big head😊 https://t.co/XDrC05GL5a\n",
      "RT @kaytrendyme_: i'm a tomboy &amp; girly girl but mostly tomboy\n",
      "RT @D_EssenceG: Absolutely in love with my classroom! https://t.co/HXSvEd2QTO\n",
      "RT @okMute: Fuck small talk, be straight up with me\n",
      "Ready to be done for today 🤦🏽‍♀️\n",
      "RT @iSPRINT_SUMM: I don't get enough sleep 😭\n",
      "RT @DillTrill_: I'm the person alone at the bottom https://t.co/X4LCtEJPZw\n",
      "RT @OmgQuan: 🗣 I LOVE NATURAL BEAUTY ! FUCK YOUR MAKEUP AND YOUR FOUNDATION. I THINK WOMEN MUCH MORE ELEGANT WITHOUT ALL THAT EXTRA BS 😩😍😋❗️\n",
      "RT @tamir1_: social media got y'all folks heads messed up\n",
      "RT @youhdaay: i hate disrespectful kids , it's not funny or cute 🙄\n",
      "RT @VlNCHY: Bitch i'm just tryna see https://t.co/4W7wDmLWsF\n",
      "RT @JalenBush22: It's almost safe to say the best way to live life is to not have expectations from anybody.\n",
      "RT @sexualgifs_: what in the hannah montana season 1 https://t.co/maF8tTYEnA\n",
      "RT @_teewrex: When the activities that you were about to find an excuse not to attend, gets cancelled. https://t.co/qcXZA7kaZk\n",
      "RT @RyanGafford: If my kid cries when I drop him/her off at school for the first time, we're going back home... https://t.co/sttdBFlaYA\n",
      "RT @pIayboigus: Build a bond first, don't force anything.\n",
      "RT @LebaenesePapi: Ima still go tho https://t.co/YZdDutxB5T\n",
      "RT @DonteMacc: I thought this was about to be a happy ending LMFAOO https://t.co/tm7roHHSdz\n",
      "RT @TheLifeOfKale: Barack Obama https://t.co/heENDpuRpi\n",
      "RT @tanaye2x_: how many times you gotta \" work it out\" if they keep doing the same shit tho? https://t.co/y9fA6aStkM\n",
      "RT @FameKeef: Deadass now my shit be dry as fuck 😭 https://t.co/bz3jdtSQoM\n",
      "Ready to get back to my bed &amp; ain't even left yet 😩🤦🏽‍♀️\n",
      "RT @shauddd: I hate that friendly shit\n",
      "RT @OmgQuan: i'm chilling, ian pressed for nobody 💯❗️\n",
      "RT @OmgQuan: wish i was laid the fuck up 😩🤤💯\n",
      "RT @tajiahgary: I couldn't imagine life without God.\n",
      "RT @mariahtrully: swear but idfw nobody nomore https://t.co/V6qQNpsXEu\n",
      "RT @BigKahunaTP: Still is fuck you talm bout . https://t.co/yGRo0pw43b\n",
      "RT @JustSay_Ash: Big Chic over Popeyes any day\n",
      "RT @chocolate5hawty: I woulda had to stop the video too 😂😂😂😂 https://t.co/XN9Ph6PmE0\n",
      "RT @LilAbeed: Never forget that moment when Bobby did this in front his label https://t.co/S6bKLf9CAs\n",
      "RT @BuffaloDigest: They're building a real-life Mario Cart racing track in Niagara Falls 😍 https://t.co/QwMkoNm89r\n",
      "RT @Svlmxn: Watch what the fuck you say to me.\n",
      "RT @PDE_YOUNGNUDY: Look what that money make a bitch do\n",
      "RT @igvess_Jimi: @_miquala97 👿👿👿😇\n",
      "@igvess_Jimi gah damn  🙃\n",
      "RT @igvess_Jimi: @_miquala97 Lmao karma ain't gone play with you\n",
      "😂😂😂😂 imma asshole for even laughing at this 🤦🏽‍♀️ https://t.co/3lP0UfFOl1\n",
      "RT @_SavageMoses: Just bc I dnt say nothing dnt mean I dnt kno what's going on❗️\n",
      "RT @RealWildWilly: Them lil strawberry short cake things look wet Asf 😭🤤🤤 https://t.co/TiZdDRz8NV\n",
      "It's all about respect 🤷🏽‍♀️💯\n",
      "RT @k_raeg: What in the fuck happened to Rico https://t.co/nJ1qVjindP\n",
      "RT @Mike__2ff: Take your false claims to McDonald's hoe.....😤 https://t.co/4pWDXtWzZL\n",
      "RT @_niyyy: I'm such a spoiled brat if I don't get my way I act a fool 😂🤷🏾‍♀️\n",
      "RT @10kBenji: when ya granny save you from ya mama https://t.co/dkTMl4NkOM\n",
      "RT @Taylorislaaame: When you look at the clock and realize you got 2+ more hours to sleep until your alarm goes off https://t.co/OkrUT8MkU9\n",
      "RT @CallMeGT: I been peeping all that lil hoe shit\n",
      "RT @Johanna_Ay: To my future fiancé: IM GONNA LOVE ANY RING YOU PUT ON MY FINGER. https://t.co/m6EFhOlF66\n",
      "RT @yannaajaay: y'all kiss ass to be friends w/ anybody 🤦🏽‍♀️ pathetic.\n",
      "RT @madisonretes: yolanda can still catch these hands till this day. https://t.co/x62mMnWifJ\n",
      "RT @CjayyTaughtHer: This school year I cannot procrastinate, I need to get my self together lol\n",
      "RT @devolve: I miss you. The old you.\n",
      "Now, I just wanna feel better 😔😞\n",
      "Thank god for only two classes today 🙏🏾\n",
      "RT @sneakyshorty: GO RUN THAT LAME SHIT ON ANOTHER LAME BITCH !\n",
      "RT @iThiefTweets: Financially stable years old https://t.co/OyQDe9Kw2m\n",
      "RT @bahjarodriguez: I'd rather be alone and happy, than miserable with you.\n",
      "It is what it is homie 🤷🏽‍♀️\n",
      "RT @brownsuga_marie: i am not ashamed to admit i love GOD, because without him i am nothing 💙\n",
      "RT @ansontm: getting played https://t.co/sIZqjU0Ulr\n",
      "@deshundrick_ I need all the help I can get!\n",
      "RT @deshundrick_: @_miquala97 i'll help you 🙃\n",
      "@deshundrick_ QC gets no play 🤦🏽‍♀️\n",
      "RT @deshundrick_: @_miquala97 L O V E L Y ❗️\n",
      "mbn! 😭 https://t.co/Eq4sAhQZNW\n",
      "frustrationsss 🤦🏽‍♀️🤦🏽‍♀️🤦🏽‍♀️🤦🏽‍♀️🤦🏽‍♀️🤦🏽‍♀️🤦🏽‍♀️\n",
      "RT @OmgQuan: On Folk Nem ❗️❗️❗️ https://t.co/WgBAiCLaFG\n",
      "RT @shellywelly53: Shit I'll even go to his practices https://t.co/Pi1AZ4uxgn\n",
      "RT @Jaysiah__: Just want a lil boo and escape somewhere 🤷🏾‍♂️\n",
      "RT @htxkel: giving your nigga head should give YOU pleasure\n",
      "RT @hecraveskay: If we fucking with each other strong .. I require all of your attention 😌\n",
      "RT @swaggmiiyaa: I really can twerk\n",
      "RT @iivoryj: i'm so fucking pretty😫😫😫🤤🤤🤤🤤🤤🤤🤤😍😍😍😍😍😍😍😍😍😍😍😍😍\n",
      "RT @mmizz1e: I literally do this😂 https://t.co/IVHTeF3fbd\n",
      "RT @loyalgaI: HE SAID HE GONE CHOKE ME. I SAID BOY DON'T THREATEN ME WITH A GOOD TIME.\n",
      "RT @JalenBush22: 😂 This cafe food overrated\n",
      "Starving 🤦🏽‍♀️\n",
      "RT @SensuaIgifss: i luv being kissed &amp; hugged, like i'm a lil baby\n",
      "RT @Kushbabyyy_: rule #1, never pass up on an opportunity for a man. ever. https://t.co/lBZ53PwT5Z\n",
      "RT @ladruggie: you gotta accept shit for what it is 😂\n",
      "RT @JonTLangston: Shook https://t.co/XMVkSdtxmO\n",
      "RT @stefondiggs: Let all bad energy go...\n",
      "RT @marielenaaa_: except one nigga https://t.co/QSpkoXxZXV\n",
      "RT @unvxbe: this generation is on a wave i can't ride.\n",
      "RT @WesChandler_: Your MCM blinded himself for some retweets https://t.co/5QClOKd6as\n",
      "RT @40oz_VAN: Let whoever think whatever.\n",
      "RT @OfficialT_Ray: put her to sleep then don't put her on Twitter https://t.co/0C83Vk1FzE\n",
      "I'm the strong friend, so if and when I break.. nobody knows what to say or what to do.. that's just the actuality. I don't fold easily!\n",
      "Facts!! https://t.co/Fc4wH4bPwK\n",
      "RT @Ss4l_Bearpooh: You cant force nobody to be with you..\n",
      "RT @GigiMetty: Homewreckers are a myth. How'd she get in??? Ya man opened the door.\n",
      "RT @im_kaayy: Stop Doubting yourself ✨\n",
      "RT @hecraveskay: y'all bitches always worried bout the next bitch 😩😂\n",
      "RT @imjusgreatness: What's wrong with learning if you don't know. lol. You lame for posting this. https://t.co/UVis7FlPCz\n",
      "RT @90sGoldBabe: ASU v. VSU After party 🏈 x #Nupeology ♦️ LIVE @ Albany Fairgrounds Sep. 2nd. DJ Tray on sound control 🔊 Tickets on Sale, C…\n",
      "RT @Tyonna_Moss: UNO IS SERIOUS MY NIGGA.\n",
      "RT @6ix_lord: She ain't no real gf then &amp; he stupid asf 🤣 https://t.co/3CEHON9KhS\n",
      "RT @Zyphree_: I do this while going through my memories &amp; seeing all the stupid shit I've done 😂 https://t.co/8m9ZISkSYQ\n",
      "I want some steak and loaded mash potatoes 😭😭😭🤤\n",
      "RT @_Bshadanti: prayers, progress , patience 🙏🏾 https://t.co/knfoNwpBQ0\n",
      "RT @kaylahazel_: this is Atlanta https://t.co/bdcQJvxqno\n",
      "😂😂😂 https://t.co/HRyAw9WAet\n",
      "RT @martina_mckee: if you arent trynna bake these w me &amp; watch scary movies... i dont want ya https://t.co/RJCa4AVljf\n",
      "RT @vinodahost: You must haven't heard of the Unsinkable Albany State University? https://t.co/LUFR0vjZOQ\n",
      "RT @datassque: your boyfriend dumb as shit https://t.co/Hc2NgBrWgd\n",
      "RT @iamwilliewill: Them mfs beautiful. https://t.co/x64RsUcrZx\n",
      "RT @Ss4l_Bearpooh: Any weapon formed against me shall not prosper 🙏🏾\n",
      "RT @A_JAYOFFICIAL: No one said it would be easy\n",
      "RT @brownsuga_marie: BOOKS SHOULD BE INCLUDED IN TUITION. period.\n",
      "I don't feel good!!!!!!!!! 😡😡😡\n",
      "Need to be sleep\n",
      "RT @eenahsanairb: don't u ... ever ... get too ... comfortable!\n",
      "RT @flowered_one: I want a nigga that's only mine 😩😩\n",
      "RT @sharkboi_: if you care more about the size of a diamond than getting to spend the rest of your life with the one you love most, you don…\n",
      "RT @kiIIakaye: this isn't normal? because i be all in my mans business.. nose, ears, face, wallet.. everything lmao https://t.co/GUcdwuHnyv\n",
      "RT @BIacknMild: Thats sandy cheeks home you uncultured swine https://t.co/xzHeHBmMCi\n",
      "RT @wcfn4: I can't help the way I was raised up\n",
      "RT @PrettyGirlDarri: When you just left financial aid and everything's good. Then you go to the caf and they say your financial aid ain't s…\n",
      "If you my dawg, just be my dawg and don't you change on me 😓\n",
      "Sooo pissed!!! 😡😡\n",
      "RT @apaidone: Done ARGUING I put shit on MUTE🤐\n",
      "RT @NECROMANClNG: WHY WOULD YOU DO THAT TO HIM!!!!!!!!!!!! https://t.co/fKCsDHxx0e\n",
      "RT @Mariah_mmorris: I'm finna just starting sending out hey big heads\n",
      "RT @ChaizYnic: 24/7 every sec . https://t.co/hnpIWae7m9\n",
      "RT @Tyonna_Moss: a very stupid bitch 😭😭😂😂😂 https://t.co/ft2hiUBG64\n",
      "RT @djdaniel_14: If they left they was never wit you 💯\n",
      "RT @el_debargee: I wanna be boo'd up 😩\n",
      "RT @PETTYMAMII: Alot of bitches don't like me and I can name 1 nigga why😌\n",
      "RT @sheloveslina: This is what happens when you're in a group chat and had no service... https://t.co/O9TnrpB8dt\n",
      "Focused!!!!\n",
      "RT @CurlyHeadJackyy: This how I am in all seats of the car 😂 https://t.co/OLIlh8BBnQ\n",
      "RT @yanaeeee_: I just wanna cuddle now 😩\n",
      "NOW SHE SAY SHE GONE DO WHAT? TO WHO? Let's find out and see 😏👌🏽\n",
      "RT @HottyScotty_: Stupid dumb ass bitch.\n",
      "RT @StevanPalmer: How females be in the backseat😂😂😂https://t.co/XuSQL7xsSx\n",
      "RT @JalenBush22: So tired if eating that cafe food it's ridiculous 🤦🏽‍♂️\n",
      "RT @sodamnsexual: So romantic https://t.co/4zibJmiQRU\n",
      "RT @Stack_Giox: She deadass moved her baby to her ass https://t.co/ITclGod0vI\n",
      "RT @Chazer11: *suck her tiddies https://t.co/3zRobtuzT2\n",
      "RT @hallekinsey: im so excited to start gettin my nails done with fall colors https://t.co/L2E6fB9j1U\n",
      "snack 😍🤤 https://t.co/8IhBJPcXwp\n",
      "RT @baelitt: When you shave for the first time in months https://t.co/GZIcPxmhiD\n",
      "RT @quen_42: Everything ain't always what it seems 🙃\n",
      "RT @justdanyaal: Backseat, driver seat, and passenger 😂😂 https://t.co/1AomdodMAg\n",
      "RT @Tyonna_Moss: If he my man, yes. https://t.co/PE4RBvjG3A\n",
      "RT @SkyeAsiyanbi: The caption is my life https://t.co/x7ENhr6e99\n",
      "RT @Tyonna_Moss: facts!! https://t.co/WnvJoY5O82\n",
      "RT @princessyanas: I don't dress to impress, I dress according to how I feel 😂🤦🏾‍♀️\n",
      "I feel worse than I did last night 🤧🤒..\n",
      "RT @JaydaAyanna: I'm stingy with my cootie cat🙅🏽\n",
      "RT @swiftjenkins: Black moms when they don't feel like cookin the rest of the week. https://t.co/x6aqvIEvo8\n",
      "RT @sxmikins: full ride scholarship https://t.co/ZAQRwx7SIl\n",
      "RT @drefromjerz: King Julian stay wildn boyyyy😂 https://t.co/lTzuRC36ZT\n",
      "RT @highlydefective: \"Hope u havin fun witcho hoeass friends u fuckin thot if I see a nigga in ya snaps im shootin up ya crib n ya moms I m…\n",
      "RT @myjahh_: lmfao💀 https://t.co/XIy3mwHvs5\n",
      "yeaaah, I gotta get tf outta Forsyth . Albany me!\n",
      "I gotta stalker 🙄\n",
      "RT @rosariiiums: you found it, now stay there. https://t.co/rtLWCDpAIx\n",
      "RT @lildropoutbih: if you think ima have a straight face every time i type \"LMFAOOOOO IM WEAK\" you're damn right\n",
      "RT @jadeselenia: i want a boyfriend\n",
      "RT @asiacle: I go hard because I want better for myself.. that's all.\n",
      "RT @NiggaCommentary: When she fine af, goofy, not for everybody, got goals &amp; ambitions, can take a joke &amp; clap back when you roast her 😂😂🤣h…\n",
      "RT @thatgalvet: I want a steak fr\n",
      "RT @therealfoxxfur: Niggas do everything they wouldn't want they bitch doing🤦🏽‍♀️\n",
      "RT @igvess_Jimi: Play yo role lil bitty bitch\n",
      "RT @_aliciaaw: When Cardi B said \"She say she, gone do what to who? Let's find out &amp; see\" I felt that shit in my soul\n",
      "@Kadijaahhh97 I know the feeling\n",
      "RT @Kadijaahhh97: @_miquala97 this been going on for two weeks now! I need some friends or sumtin 🤦🏽‍♀️😂\n",
      "Omg 😂😂😂.. https://t.co/6U7ArFdsX3\n",
      "RT @janeaaaal: No problem bby https://t.co/GYQ6yZWghJ\n",
      "@janeaaaal Thank you baby 😘😘\n",
      "RT @janeaaaal: 😍 https://t.co/Ba2ECjbh2X\n",
      "RT @Daavld: My house cleaner fucking sucks https://t.co/X0uBAsrbdI\n",
      "@OmgQuan Always giving me hell\n",
      "@OmgQuan maaan 😂😂🙃\n",
      "RT @OmgQuan: @_miquala97 face ass 😂😂\n",
      "I be in the Bany! #ASU21 💙💛 https://t.co/19PYBjNCgF\n",
      "RT @YungKaylaaa_: Bro I don't think y'all understand that sting that come after every forceful ass slap. https://t.co/LgspoI2Hmf\n",
      "RT @RonOfficiaI: Rt if you love your pets https://t.co/z4wNQ2cXnN\n",
      "RT @Juice2Wavy: This how white people age when they are hate free and completely unproblematic 😌 https://t.co/6YZZVhq1w0\n",
      "RT @ammerr_nicolee: Around me, my GPA, my bank account... etc https://t.co/z1bjffOhCI\n",
      "RT @DonteMacc: My black ass really just sat here entertained asf all 2:14 seconds https://t.co/xJEOERx9ZH\n",
      "RT @_Braze_: First off I wanna thank the man up above... https://t.co/p7gk0K7YHI\n",
      "RT @LBreaunn: This.... is....love https://t.co/YOnfCDlK3R\n",
      "RT @kay_mychelle: * if you attend Albany State University, you are the shit !!!! 💙💛💙💛💙 https://t.co/hLUrx1WHhg\n",
      "RT @joeybrink00: HE'S TRYING FUCKING ASSHOLE https://t.co/0JeLGqXoRC\n",
      "RT @__graciegrace: \"How extra are you?\"\n",
      "Me: https://t.co/CgfiYWr560\n",
      "RT @hoodrichgabb: Cause WE UGLY https://t.co/5v5JEzhf8D\n",
      "RT @Misfitdre: I pray my daughter never get caught up wit these lames and I pray my son never be one\n",
      "RT @_aworkofart: Y'all 😭 https://t.co/b6QOr3oUYv\n",
      "RT @zayyuhx: this how y'all look when y'all refuse to leave niggas who constantly cheat on y'all and put their hands on you. https://t.co/t…\n",
      "RT @melachildd: Praying for a clear mind✨\n",
      "RT @raynesmguerra: no literally https://t.co/ynjHzLxVQ5\n",
      "Facts 😭 https://t.co/4RdLN8bxnQ\n",
      "RT @iamwilliewill: \"Omgosh! Bob look at how unique that building was ma- ... Bob? Bob? Bob!?\" https://t.co/wmm0Q7Fpu5\n",
      "RT @lordflaconegro: That's a down ass bitch https://t.co/DIYvRq7hN9\n",
      "RT @queeenzeee: BOOKS SHOULD BE INCLUDED IN TUITION. period.\n"
     ]
    }
   ],
   "source": [
    "# Print the text.\n",
    "print('\\n'.join(t['text'] for t in timeline))"
   ]
  },
  {
   "cell_type": "code",
   "execution_count": 43,
   "metadata": {
    "collapsed": false
   },
   "outputs": [
    {
     "name": "stdout",
     "output_type": "stream",
     "text": [
      "Counter({1: 2, 2: 1})\n",
      "Counter({1: 4, 2: 2})\n"
     ]
    }
   ],
   "source": [
    "from collections import Counter  # This is just a fancy dict mapping from object->int, starting at 0.\n",
    "c = Counter()\n",
    "c.update([1,2,1])\n",
    "print(c)\n",
    "c.update([1,2,1])\n",
    "print(c)"
   ]
  },
  {
   "cell_type": "code",
   "execution_count": 99,
   "metadata": {
    "collapsed": false
   },
   "outputs": [
    {
     "name": "stdout",
     "output_type": "stream",
     "text": [
      "found 1050 unique terms in 199 tweets\n"
     ]
    },
    {
     "data": {
      "text/plain": [
       "[('rt', 166),\n",
       " ('i', 67),\n",
       " ('the', 35),\n",
       " ('you', 35),\n",
       " ('to', 34),\n",
       " ('a', 24),\n",
       " ('my', 24),\n",
       " ('be', 18),\n",
       " ('and', 17),\n",
       " ('if', 16)]"
      ]
     },
     "execution_count": 99,
     "metadata": {},
     "output_type": "execute_result"
    }
   ],
   "source": [
    "# Count words\n",
    "counts = Counter()\n",
    "for tweet in timeline:\n",
    "    counts.update(tweet['text'].lower().split())  # to lower case; split on whitespace.\n",
    "print('found %d unique terms in %d tweets' % (len(counts), len(timeline)))\n",
    "counts.most_common(10)"
   ]
  },
  {
   "cell_type": "code",
   "execution_count": 100,
   "metadata": {
    "collapsed": false
   },
   "outputs": [
    {
     "data": {
      "text/plain": [
       "'rt'"
      ]
     },
     "execution_count": 100,
     "metadata": {},
     "output_type": "execute_result"
    }
   ],
   "source": [
    "list(counts.keys())[0]"
   ]
  },
  {
   "cell_type": "code",
   "execution_count": 102,
   "metadata": {
    "collapsed": false
   },
   "outputs": [
    {
     "data": {
      "text/plain": [
       "[5, 4, -1, -10]"
      ]
     },
     "execution_count": 102,
     "metadata": {},
     "output_type": "execute_result"
    }
   ],
   "source": [
    "sorted([5,4,-10,-1], key=lambda x: -x)"
   ]
  },
  {
   "cell_type": "code",
   "execution_count": 103,
   "metadata": {
    "collapsed": false
   },
   "outputs": [
    {
     "data": {
      "text/plain": [
       "[('mary', 20), ('jim', 15), ('joe', 10), ('joe', 5)]"
      ]
     },
     "execution_count": 103,
     "metadata": {},
     "output_type": "execute_result"
    }
   ],
   "source": [
    "sorted([('joe', 10), ('mary', 20), ('jim', 15), ('joe', 5)],\n",
    "      key=lambda x: -x[1])"
   ]
  },
  {
   "cell_type": "code",
   "execution_count": 104,
   "metadata": {
    "collapsed": true
   },
   "outputs": [
    {
     "name": "stdout",
     "output_type": "stream",
     "text": [
      "rt=166\n",
      "i=67\n",
      "the=35\n",
      "you=35\n",
      "to=34\n",
      "a=24\n",
      "my=24\n",
      "be=18\n",
      "and=17\n",
      "if=16\n",
      "in=15\n",
      "when=15\n",
      "this=15\n",
      "for=14\n",
      "don't=14\n",
      "that=13\n",
      "on=13\n",
      "shit=12\n",
      "with=11\n",
      "your=11\n",
      "what=11\n",
      "i'm=10\n",
      "all=10\n",
      "just=10\n",
      "is=10\n",
      "&amp;=9\n",
      "up=9\n",
      "get=8\n",
      "y'all=8\n",
      "bitch=8\n",
      "they=8\n",
      "want=8\n",
      "fuck=7\n",
      "me=7\n",
      "say=7\n",
      "how=7\n",
      "do=7\n",
      "ya=7\n",
      "ass=7\n",
      "of=7\n",
      "never=6\n",
      "love=6\n",
      "not=6\n",
      "it=6\n",
      "@_miquala97=6\n",
      "no=6\n",
      "her=6\n",
      "she=6\n",
      "@tyonna_moss:=5\n",
      "🤦🏽‍♀️=5\n",
      "😭=5\n",
      "at=5\n",
      "@omgquan:=5\n",
      "go=5\n",
      "was=5\n",
      "ain't=5\n",
      "look=5\n",
      "lil=5\n",
      "put=5\n",
      "can=5\n",
      "feel=5\n",
      "nigga=5\n",
      "so=5\n",
      "done=4\n",
      "sleep=4\n",
      "think=4\n",
      "it's=4\n",
      "life=4\n",
      "about=4\n",
      "going=4\n",
      "gotta=4\n",
      "now=4\n",
      "nobody=4\n",
      "gone=4\n",
      "im=4\n",
      "need=4\n",
      "you.=4\n",
      "wanna=4\n",
      "fucking=4\n",
      "he=4\n",
      "said=4\n",
      "😂=4\n",
      "one=4\n",
      "that's=4\n",
      "are=4\n",
      "albany=4\n",
      "stupid=4\n",
      "...=4\n",
      "from=3\n",
      ",=3\n",
      "big=3\n",
      "more=3\n",
      "without=3\n",
      "got=3\n",
      "hate=3\n",
      "or=3\n",
      "see=3\n",
      "@jalenbush22:=3\n",
      "way=3\n",
      "find=3\n",
      "off=3\n",
      "first=3\n",
      "back=3\n",
      "still=3\n",
      "even=3\n",
      "left=3\n",
      ".=3\n",
      "any=3\n",
      "@igvess_jimi:=3\n",
      "🙃=3\n",
      "play=3\n",
      "dnt=3\n",
      "asf=3\n",
      "friends=3\n",
      "these=3\n",
      "thank=3\n",
      "🙏🏾=3\n",
      "lame=3\n",
      "than=3\n",
      "am=3\n",
      "because=3\n",
      "help=3\n",
      "should=3\n",
      "like=3\n",
      "baby=3\n",
      "some=3\n",
      "then=3\n",
      "always=3\n",
      "u=3\n",
      "everything=3\n",
      "out=3\n",
      "every=3\n",
      "hey=2\n",
      "tomboy=2\n",
      "but=2\n",
      "straight=2\n",
      "ready=2\n",
      "today=2\n",
      "alone=2\n",
      "!=2\n",
      "extra=2\n",
      "heads=2\n",
      "🙄=2\n",
      "live=2\n",
      "have=2\n",
      "1=2\n",
      "an=2\n",
      "gets=2\n",
      "school=2\n",
      "force=2\n",
      "ima=2\n",
      "@dontemacc:=2\n",
      "deadass=2\n",
      "as=2\n",
      "bout=2\n",
      "had=2\n",
      "stop=2\n",
      "too=2\n",
      "😂😂😂😂=2\n",
      "did=2\n",
      "his=2\n",
      "building=2\n",
      "😍=2\n",
      "watch=2\n",
      "me.=2\n",
      "damn=2\n",
      "lmao=2\n",
      "asshole=2\n",
      "nothing=2\n",
      "what's=2\n",
      "them=2\n",
      "take=2\n",
      "been=2\n",
      "hands=2\n",
      "old=2\n",
      "better=2\n",
      "only=2\n",
      "two=2\n",
      "@brownsuga_marie:=2\n",
      "getting=2\n",
      "@deshundrick_=2\n",
      "@deshundrick_:=2\n",
      "i'll=2\n",
      "l=2\n",
      "giving=2\n",
      "@hecraveskay:=2\n",
      "we=2\n",
      "strong=2\n",
      "😌=2\n",
      "really=2\n",
      "literally=2\n",
      "cafe=2\n",
      "food=2\n",
      "let=2\n",
      "can't=2\n",
      "facts!!=2\n",
      "@ss4l_bearpooh:=2\n",
      "man=2\n",
      "bitches=2\n",
      "after=2\n",
      "steak=2\n",
      "state=2\n",
      "boyfriend=2\n",
      "dumb=2\n",
      "@iamwilliewill:=2\n",
      "would=2\n",
      "books=2\n",
      "included=2\n",
      "tuition.=2\n",
      "period.=2\n",
      "rest=2\n",
      "financial=2\n",
      "aid=2\n",
      "wit=2\n",
      "😩=2\n",
      "you're=2\n",
      "who?=2\n",
      "let's=2\n",
      "time=2\n",
      "😂😂=2\n",
      "dress=2\n",
      "black=2\n",
      "moms=2\n",
      "stay=2\n",
      "face=2\n",
      "niggas=2\n",
      "@janeaaaal:=2\n",
      "@omgquan=2\n",
      "pray=2\n",
      "bob?=2\n",
      "you'll=1\n",
      "last.=1\n",
      "https://t.co/3tyxhizdcc=1\n",
      "@st47ck:=1\n",
      "girls=1\n",
      "georgia,=1\n",
      "texas=1\n",
      "chicago😩😍=1\n",
      "@symphonynyy:=1\n",
      "head😊=1\n",
      "https://t.co/xdrc05gl5a=1\n",
      "@kaytrendyme_:=1\n",
      "girly=1\n",
      "girl=1\n",
      "mostly=1\n",
      "@d_essenceg:=1\n",
      "absolutely=1\n",
      "classroom!=1\n",
      "https://t.co/hxsved2qto=1\n",
      "@okmute:=1\n",
      "small=1\n",
      "talk,=1\n",
      "@isprint_summ:=1\n",
      "enough=1\n",
      "@dilltrill_:=1\n",
      "person=1\n",
      "bottom=1\n",
      "https://t.co/x4lctejpzw=1\n",
      "🗣=1\n",
      "natural=1\n",
      "beauty=1\n",
      "makeup=1\n",
      "foundation.=1\n",
      "women=1\n",
      "much=1\n",
      "elegant=1\n",
      "bs=1\n",
      "😩😍😋❗️=1\n",
      "@tamir1_:=1\n",
      "social=1\n",
      "media=1\n",
      "folks=1\n",
      "messed=1\n",
      "@youhdaay:=1\n",
      "disrespectful=1\n",
      "kids=1\n",
      "funny=1\n",
      "cute=1\n",
      "@vlnchy:=1\n",
      "tryna=1\n",
      "https://t.co/4w7wdmlwsf=1\n",
      "almost=1\n",
      "safe=1\n",
      "best=1\n",
      "expectations=1\n",
      "anybody.=1\n",
      "@sexualgifs_:=1\n",
      "hannah=1\n",
      "montana=1\n",
      "season=1\n",
      "https://t.co/maf8ttyena=1\n",
      "@_teewrex:=1\n",
      "activities=1\n",
      "were=1\n",
      "excuse=1\n",
      "attend,=1\n",
      "cancelled.=1\n",
      "https://t.co/qcxza7kazk=1\n",
      "@ryangafford:=1\n",
      "kid=1\n",
      "cries=1\n",
      "drop=1\n",
      "him/her=1\n",
      "time,=1\n",
      "we're=1\n",
      "home...=1\n",
      "https://t.co/sttdbflaya=1\n",
      "@piayboigus:=1\n",
      "build=1\n",
      "bond=1\n",
      "first,=1\n",
      "anything.=1\n",
      "@lebaenesepapi:=1\n",
      "tho=1\n",
      "https://t.co/yzddutxb5t=1\n",
      "thought=1\n",
      "happy=1\n",
      "ending=1\n",
      "lmfaoo=1\n",
      "https://t.co/tm7rohhsdz=1\n",
      "@thelifeofkale:=1\n",
      "barack=1\n",
      "obama=1\n",
      "https://t.co/heendpurpi=1\n",
      "@tanaye2x_:=1\n",
      "many=1\n",
      "times=1\n",
      "\"=1\n",
      "work=1\n",
      "out\"=1\n",
      "keep=1\n",
      "doing=1\n",
      "same=1\n",
      "tho?=1\n",
      "https://t.co/y9fa6astkm=1\n",
      "@famekeef:=1\n",
      "dry=1\n",
      "https://t.co/bz3jdtsqom=1\n",
      "bed=1\n",
      "yet=1\n",
      "😩🤦🏽‍♀️=1\n",
      "@shauddd:=1\n",
      "friendly=1\n",
      "chilling,=1\n",
      "ian=1\n",
      "pressed=1\n",
      "💯❗️=1\n",
      "wish=1\n",
      "laid=1\n",
      "😩🤤💯=1\n",
      "@tajiahgary:=1\n",
      "couldn't=1\n",
      "imagine=1\n",
      "god.=1\n",
      "@mariahtrully:=1\n",
      "swear=1\n",
      "idfw=1\n",
      "nomore=1\n",
      "https://t.co/v6qqnpsxeu=1\n",
      "@bigkahunatp:=1\n",
      "talm=1\n",
      "https://t.co/ygro0pw43b=1\n",
      "@justsay_ash:=1\n",
      "chic=1\n",
      "over=1\n",
      "popeyes=1\n",
      "day=1\n",
      "@chocolate5hawty:=1\n",
      "woulda=1\n",
      "video=1\n",
      "https://t.co/xn9ph6pme0=1\n",
      "@lilabeed:=1\n",
      "forget=1\n",
      "moment=1\n",
      "bobby=1\n",
      "front=1\n",
      "label=1\n",
      "https://t.co/s6bklf9cas=1\n",
      "@buffalodigest:=1\n",
      "they're=1\n",
      "real-life=1\n",
      "mario=1\n",
      "cart=1\n",
      "racing=1\n",
      "track=1\n",
      "niagara=1\n",
      "falls=1\n",
      "https://t.co/qwmkonm89r=1\n",
      "@svlmxn:=1\n",
      "@pde_youngnudy:=1\n",
      "money=1\n",
      "make=1\n",
      "👿👿👿😇=1\n",
      "@igvess_jimi=1\n",
      "gah=1\n",
      "karma=1\n",
      "imma=1\n",
      "laughing=1\n",
      "https://t.co/3lp0uffol1=1\n",
      "@_savagemoses:=1\n",
      "bc=1\n",
      "mean=1\n",
      "kno=1\n",
      "on❗️=1\n",
      "@realwildwilly:=1\n",
      "strawberry=1\n",
      "short=1\n",
      "cake=1\n",
      "things=1\n",
      "wet=1\n",
      "😭🤤🤤=1\n",
      "https://t.co/tizddrz8nv=1\n",
      "respect=1\n",
      "🤷🏽‍♀️💯=1\n",
      "@k_raeg:=1\n",
      "happened=1\n",
      "rico=1\n",
      "https://t.co/nj1qvjindp=1\n",
      "@mike__2ff:=1\n",
      "false=1\n",
      "claims=1\n",
      "mcdonald's=1\n",
      "hoe.....😤=1\n",
      "https://t.co/4pwdxtwzzl=1\n",
      "@_niyyy:=1\n",
      "such=1\n",
      "spoiled=1\n",
      "brat=1\n",
      "act=1\n",
      "fool=1\n",
      "😂🤷🏾‍♀️=1\n",
      "@10kbenji:=1\n",
      "granny=1\n",
      "save=1\n",
      "mama=1\n",
      "https://t.co/dktml4nkom=1\n",
      "@taylorislaaame:=1\n",
      "clock=1\n",
      "realize=1\n",
      "2+=1\n",
      "hours=1\n",
      "until=1\n",
      "alarm=1\n",
      "goes=1\n",
      "https://t.co/okrut8mku9=1\n",
      "@callmegt:=1\n",
      "peeping=1\n",
      "hoe=1\n",
      "@johanna_ay:=1\n",
      "future=1\n",
      "fiancé:=1\n",
      "gonna=1\n",
      "ring=1\n",
      "finger.=1\n",
      "https://t.co/m6efholf66=1\n",
      "@yannaajaay:=1\n",
      "kiss=1\n",
      "w/=1\n",
      "anybody=1\n",
      "pathetic.=1\n",
      "@madisonretes:=1\n",
      "yolanda=1\n",
      "catch=1\n",
      "till=1\n",
      "day.=1\n",
      "https://t.co/x62mmnwifj=1\n",
      "@cjayytaughther:=1\n",
      "year=1\n",
      "cannot=1\n",
      "procrastinate,=1\n",
      "self=1\n",
      "together=1\n",
      "lol=1\n",
      "@devolve:=1\n",
      "miss=1\n",
      "now,=1\n",
      "😔😞=1\n",
      "god=1\n",
      "classes=1\n",
      "@sneakyshorty:=1\n",
      "run=1\n",
      "another=1\n",
      "@ithieftweets:=1\n",
      "financially=1\n",
      "stable=1\n",
      "years=1\n",
      "https://t.co/oyqde9kw2m=1\n",
      "@bahjarodriguez:=1\n",
      "i'd=1\n",
      "rather=1\n",
      "happy,=1\n",
      "miserable=1\n",
      "homie=1\n",
      "🤷🏽‍♀️=1\n",
      "ashamed=1\n",
      "admit=1\n",
      "god,=1\n",
      "him=1\n",
      "💙=1\n",
      "@ansontm:=1\n",
      "played=1\n",
      "https://t.co/sizqju0ulr=1\n",
      "get!=1\n",
      "qc=1\n",
      "o=1\n",
      "v=1\n",
      "e=1\n",
      "y=1\n",
      "❗️=1\n",
      "mbn!=1\n",
      "https://t.co/eq4sahqznw=1\n",
      "frustrationsss=1\n",
      "🤦🏽‍♀️🤦🏽‍♀️🤦🏽‍♀️🤦🏽‍♀️🤦🏽‍♀️🤦🏽‍♀️🤦🏽‍♀️=1\n",
      "folk=1\n",
      "nem=1\n",
      "❗️❗️❗️=1\n",
      "https://t.co/wgbaiclafg=1\n",
      "@shellywelly53:=1\n",
      "practices=1\n",
      "https://t.co/pi1az4uxgn=1\n",
      "@jaysiah__:=1\n",
      "boo=1\n",
      "escape=1\n",
      "somewhere=1\n",
      "🤷🏾‍♂️=1\n",
      "@htxkel:=1\n",
      "head=1\n",
      "give=1\n",
      "pleasure=1\n",
      "each=1\n",
      "other=1\n",
      "..=1\n",
      "require=1\n",
      "attention=1\n",
      "@swaggmiiyaa:=1\n",
      "twerk=1\n",
      "@iivoryj:=1\n",
      "pretty😫😫😫🤤🤤🤤🤤🤤🤤🤤😍😍😍😍😍😍😍😍😍😍😍😍😍=1\n",
      "@mmizz1e:=1\n",
      "this😂=1\n",
      "https://t.co/ivhtef3fbd=1\n",
      "@loyalgai:=1\n",
      "choke=1\n",
      "boy=1\n",
      "threaten=1\n",
      "good=1\n",
      "time.=1\n",
      "overrated=1\n",
      "starving=1\n",
      "@sensuaigifss:=1\n",
      "luv=1\n",
      "being=1\n",
      "kissed=1\n",
      "hugged,=1\n",
      "@kushbabyyy_:=1\n",
      "rule=1\n",
      "#1,=1\n",
      "pass=1\n",
      "opportunity=1\n",
      "man.=1\n",
      "ever.=1\n",
      "https://t.co/lbz53pwt5z=1\n",
      "@ladruggie:=1\n",
      "accept=1\n",
      "@jontlangston:=1\n",
      "shook=1\n",
      "https://t.co/xmvksdtxmo=1\n",
      "@stefondiggs:=1\n",
      "bad=1\n",
      "energy=1\n",
      "go...=1\n",
      "@marielenaaa_:=1\n",
      "except=1\n",
      "https://t.co/qspkoxxzxv=1\n",
      "@unvxbe:=1\n",
      "generation=1\n",
      "wave=1\n",
      "ride.=1\n",
      "@weschandler_:=1\n",
      "mcm=1\n",
      "blinded=1\n",
      "himself=1\n",
      "retweets=1\n",
      "https://t.co/5qclokd6as=1\n",
      "@40oz_van:=1\n",
      "whoever=1\n",
      "whatever.=1\n",
      "@officialt_ray:=1\n",
      "twitter=1\n",
      "https://t.co/0c83vk1fze=1\n",
      "friend,=1\n",
      "break..=1\n",
      "knows=1\n",
      "do..=1\n",
      "actuality.=1\n",
      "fold=1\n",
      "easily!=1\n",
      "https://t.co/fc4wh4bpwk=1\n",
      "cant=1\n",
      "you..=1\n",
      "@gigimetty:=1\n",
      "homewreckers=1\n",
      "myth.=1\n",
      "how'd=1\n",
      "in???=1\n",
      "opened=1\n",
      "door.=1\n",
      "@im_kaayy:=1\n",
      "doubting=1\n",
      "yourself=1\n",
      "✨=1\n",
      "worried=1\n",
      "next=1\n",
      "😩😂=1\n",
      "@imjusgreatness:=1\n",
      "wrong=1\n",
      "learning=1\n",
      "know.=1\n",
      "lol.=1\n",
      "posting=1\n",
      "this.=1\n",
      "https://t.co/uvis7flpcz=1\n",
      "@90sgoldbabe:=1\n",
      "asu=1\n",
      "v.=1\n",
      "vsu=1\n",
      "party=1\n",
      "🏈=1\n",
      "x=1\n",
      "#nupeology=1\n",
      "♦️=1\n",
      "@=1\n",
      "fairgrounds=1\n",
      "sep.=1\n",
      "2nd.=1\n",
      "dj=1\n",
      "tray=1\n",
      "sound=1\n",
      "control=1\n",
      "🔊=1\n",
      "tickets=1\n",
      "sale,=1\n",
      "c…=1\n",
      "uno=1\n",
      "serious=1\n",
      "nigga.=1\n",
      "@6ix_lord:=1\n",
      "real=1\n",
      "gf=1\n",
      "🤣=1\n",
      "https://t.co/3cehon9khs=1\n",
      "@zyphree_:=1\n",
      "while=1\n",
      "through=1\n",
      "memories=1\n",
      "seeing=1\n",
      "i've=1\n",
      "https://t.co/8m9zisksyq=1\n",
      "loaded=1\n",
      "mash=1\n",
      "potatoes=1\n",
      "😭😭😭🤤=1\n",
      "@_bshadanti:=1\n",
      "prayers,=1\n",
      "progress=1\n",
      "patience=1\n",
      "https://t.co/knfonwpbq0=1\n",
      "@kaylahazel_:=1\n",
      "atlanta=1\n",
      "https://t.co/bdcqjvxqno=1\n",
      "😂😂😂=1\n",
      "https://t.co/hryaw9waet=1\n",
      "@martina_mckee:=1\n",
      "arent=1\n",
      "trynna=1\n",
      "bake=1\n",
      "w=1\n",
      "scary=1\n",
      "movies...=1\n",
      "dont=1\n",
      "https://t.co/rjca4avljf=1\n",
      "@vinodahost:=1\n",
      "must=1\n",
      "haven't=1\n",
      "heard=1\n",
      "unsinkable=1\n",
      "university?=1\n",
      "https://t.co/lufr0vjzoq=1\n",
      "@datassque:=1\n",
      "https://t.co/hc2ngbrwgd=1\n",
      "mfs=1\n",
      "beautiful.=1\n",
      "https://t.co/x64rsucrzx=1\n",
      "weapon=1\n",
      "formed=1\n",
      "against=1\n",
      "shall=1\n",
      "prosper=1\n",
      "@a_jayofficial:=1\n",
      "easy=1\n",
      "good!!!!!!!!!=1\n",
      "😡😡😡=1\n",
      "@eenahsanairb:=1\n",
      "ever=1\n",
      "comfortable!=1\n",
      "@flowered_one:=1\n",
      "mine=1\n",
      "😩😩=1\n",
      "@sharkboi_:=1\n",
      "care=1\n",
      "size=1\n",
      "diamond=1\n",
      "spend=1\n",
      "most,=1\n",
      "don…=1\n",
      "@kiiiakaye:=1\n",
      "isn't=1\n",
      "normal?=1\n",
      "mans=1\n",
      "business..=1\n",
      "nose,=1\n",
      "ears,=1\n",
      "face,=1\n",
      "wallet..=1\n",
      "https://t.co/gucdwuhnyv=1\n",
      "@biacknmild:=1\n",
      "thats=1\n",
      "sandy=1\n",
      "cheeks=1\n",
      "home=1\n",
      "uncultured=1\n",
      "swine=1\n",
      "https://t.co/xzhehbmmci=1\n",
      "@wcfn4:=1\n",
      "raised=1\n",
      "@prettygirldarri:=1\n",
      "everything's=1\n",
      "good.=1\n",
      "caf=1\n",
      "s…=1\n",
      "dawg,=1\n",
      "dawg=1\n",
      "change=1\n",
      "😓=1\n",
      "sooo=1\n",
      "pissed!!!=1\n",
      "😡😡=1\n",
      "@apaidone:=1\n",
      "arguing=1\n",
      "mute🤐=1\n",
      "@necromanclng:=1\n",
      "why=1\n",
      "him!!!!!!!!!!!!=1\n",
      "https://t.co/fkcsdhxx0e=1\n",
      "@mariah_mmorris:=1\n",
      "finna=1\n",
      "starting=1\n",
      "sending=1\n",
      "@chaizynic:=1\n",
      "24/7=1\n",
      "sec=1\n",
      "https://t.co/hnpiwae7m9=1\n",
      "very=1\n",
      "😭😭😂😂😂=1\n",
      "https://t.co/ft2hiubg64=1\n",
      "@djdaniel_14:=1\n",
      "💯=1\n",
      "@el_debargee:=1\n",
      "boo'd=1\n",
      "@pettymamii:=1\n",
      "alot=1\n",
      "name=1\n",
      "why😌=1\n",
      "@sheloveslina:=1\n",
      "happens=1\n",
      "group=1\n",
      "chat=1\n",
      "service...=1\n",
      "https://t.co/o9tnrpb8dt=1\n",
      "focused!!!!=1\n",
      "@curlyheadjackyy:=1\n",
      "seats=1\n",
      "car=1\n",
      "https://t.co/olilh8bbnq=1\n",
      "@yanaeeee_:=1\n",
      "cuddle=1\n",
      "what?=1\n",
      "😏👌🏽=1\n",
      "@hottyscotty_:=1\n",
      "bitch.=1\n",
      "@stevanpalmer:=1\n",
      "females=1\n",
      "backseat😂😂😂https://t.co/xusql7xssx=1\n",
      "tired=1\n",
      "eating=1\n",
      "ridiculous=1\n",
      "🤦🏽‍♂️=1\n",
      "@sodamnsexual:=1\n",
      "romantic=1\n",
      "https://t.co/4zibjmiqru=1\n",
      "@stack_giox:=1\n",
      "moved=1\n",
      "https://t.co/itclgod0vi=1\n",
      "@chazer11:=1\n",
      "*suck=1\n",
      "tiddies=1\n",
      "https://t.co/3zrobtuzt2=1\n",
      "@hallekinsey:=1\n",
      "excited=1\n",
      "start=1\n",
      "gettin=1\n",
      "nails=1\n",
      "fall=1\n",
      "colors=1\n",
      "https://t.co/l2e6fb9j1u=1\n",
      "snack=1\n",
      "😍🤤=1\n",
      "https://t.co/8ihbjpcxwp=1\n",
      "@baelitt:=1\n",
      "shave=1\n",
      "months=1\n",
      "https://t.co/gzicpxmhid=1\n",
      "@quen_42:=1\n",
      "seems=1\n",
      "@justdanyaal:=1\n",
      "backseat,=1\n",
      "driver=1\n",
      "seat,=1\n",
      "passenger=1\n",
      "https://t.co/1aomdodmag=1\n",
      "man,=1\n",
      "yes.=1\n",
      "https://t.co/pe4rbvjg3a=1\n",
      "@skyeasiyanbi:=1\n",
      "caption=1\n",
      "https://t.co/x7enhr6e99=1\n",
      "https://t.co/wnvjoy5o82=1\n",
      "@princessyanas:=1\n",
      "impress,=1\n",
      "according=1\n",
      "😂🤦🏾‍♀️=1\n",
      "worse=1\n",
      "last=1\n",
      "night=1\n",
      "🤧🤒..=1\n",
      "@jaydaayanna:=1\n",
      "stingy=1\n",
      "cootie=1\n",
      "cat🙅🏽=1\n",
      "@swiftjenkins:=1\n",
      "cookin=1\n",
      "week.=1\n",
      "https://t.co/x6aqvievo8=1\n",
      "@sxmikins:=1\n",
      "full=1\n",
      "ride=1\n",
      "scholarship=1\n",
      "https://t.co/zaqrwx7sil=1\n",
      "@drefromjerz:=1\n",
      "king=1\n",
      "julian=1\n",
      "wildn=1\n",
      "boyyyy😂=1\n",
      "https://t.co/ltzurc36zt=1\n",
      "@highlydefective:=1\n",
      "\"hope=1\n",
      "havin=1\n",
      "fun=1\n",
      "witcho=1\n",
      "hoeass=1\n",
      "fuckin=1\n",
      "thot=1\n",
      "snaps=1\n",
      "shootin=1\n",
      "crib=1\n",
      "n=1\n",
      "m…=1\n",
      "@myjahh_:=1\n",
      "lmfao💀=1\n",
      "https://t.co/xiy3mwhvs5=1\n",
      "yeaaah,=1\n",
      "tf=1\n",
      "outta=1\n",
      "forsyth=1\n",
      "me!=1\n",
      "stalker=1\n",
      "@rosariiiums:=1\n",
      "found=1\n",
      "it,=1\n",
      "there.=1\n",
      "https://t.co/rtlwcdpaix=1\n",
      "@lildropoutbih:=1\n",
      "type=1\n",
      "\"lmfaooooo=1\n",
      "weak\"=1\n",
      "right=1\n",
      "@jadeselenia:=1\n",
      "@asiacle:=1\n",
      "hard=1\n",
      "myself..=1\n",
      "all.=1\n",
      "@niggacommentary:=1\n",
      "fine=1\n",
      "af,=1\n",
      "goofy,=1\n",
      "everybody,=1\n",
      "goals=1\n",
      "ambitions,=1\n",
      "joke=1\n",
      "clap=1\n",
      "roast=1\n",
      "😂😂🤣h…=1\n",
      "@thatgalvet:=1\n",
      "fr=1\n",
      "@therealfoxxfur:=1\n",
      "wouldn't=1\n",
      "doing🤦🏽‍♀️=1\n",
      "yo=1\n",
      "role=1\n",
      "bitty=1\n",
      "@_aliciaaw:=1\n",
      "cardi=1\n",
      "b=1\n",
      "\"she=1\n",
      "she,=1\n",
      "see\"=1\n",
      "felt=1\n",
      "soul=1\n",
      "@kadijaahhh97=1\n",
      "know=1\n",
      "feeling=1\n",
      "@kadijaahhh97:=1\n",
      "weeks=1\n",
      "now!=1\n",
      "sumtin=1\n",
      "🤦🏽‍♀️😂=1\n",
      "omg=1\n",
      "😂😂😂..=1\n",
      "https://t.co/6u7arfdsx3=1\n",
      "problem=1\n",
      "bby=1\n",
      "https://t.co/gyq6yzwghj=1\n",
      "@janeaaaal=1\n",
      "😘😘=1\n",
      "https://t.co/ba2ecjbh2x=1\n",
      "@daavld:=1\n",
      "house=1\n",
      "cleaner=1\n",
      "sucks=1\n",
      "https://t.co/x0ubasrbdi=1\n",
      "hell=1\n",
      "maaan=1\n",
      "😂😂🙃=1\n",
      "bany!=1\n",
      "#asu21=1\n",
      "💙💛=1\n",
      "https://t.co/19pybjncgf=1\n",
      "@yungkaylaaa_:=1\n",
      "bro=1\n",
      "understand=1\n",
      "sting=1\n",
      "come=1\n",
      "forceful=1\n",
      "slap.=1\n",
      "https://t.co/lgspoi2hmf=1\n",
      "@ronofficiai:=1\n",
      "pets=1\n",
      "https://t.co/z4wnq2cxnn=1\n",
      "@juice2wavy:=1\n",
      "white=1\n",
      "people=1\n",
      "age=1\n",
      "free=1\n",
      "completely=1\n",
      "unproblematic=1\n",
      "https://t.co/6yzzvhq1w0=1\n",
      "@ammerr_nicolee:=1\n",
      "around=1\n",
      "me,=1\n",
      "gpa,=1\n",
      "bank=1\n",
      "account...=1\n",
      "etc=1\n",
      "https://t.co/z1bjffohci=1\n",
      "sat=1\n",
      "here=1\n",
      "entertained=1\n",
      "2:14=1\n",
      "seconds=1\n",
      "https://t.co/xjeoerx9zh=1\n",
      "@_braze_:=1\n",
      "above...=1\n",
      "https://t.co/p7gk0k7yhi=1\n",
      "@lbreaunn:=1\n",
      "this....=1\n",
      "is....love=1\n",
      "https://t.co/yonfcdlk3r=1\n",
      "@kay_mychelle:=1\n",
      "*=1\n",
      "attend=1\n",
      "university,=1\n",
      "!!!!=1\n",
      "💙💛💙💛💙=1\n",
      "https://t.co/hlurx1whhg=1\n",
      "@joeybrink00:=1\n",
      "he's=1\n",
      "trying=1\n",
      "https://t.co/0jelgqxorc=1\n",
      "@__graciegrace:=1\n",
      "\"how=1\n",
      "you?\"=1\n",
      "me:=1\n",
      "https://t.co/cgfiywr560=1\n",
      "@hoodrichgabb:=1\n",
      "cause=1\n",
      "ugly=1\n",
      "https://t.co/5v5jezhf8d=1\n",
      "@misfitdre:=1\n",
      "daughter=1\n",
      "caught=1\n",
      "lames=1\n",
      "son=1\n",
      "@_aworkofart:=1\n",
      "https://t.co/b6qor3ouyv=1\n",
      "@zayyuhx:=1\n",
      "refuse=1\n",
      "leave=1\n",
      "who=1\n",
      "constantly=1\n",
      "cheat=1\n",
      "their=1\n",
      "https://t.co/t…=1\n",
      "@melachildd:=1\n",
      "praying=1\n",
      "clear=1\n",
      "mind✨=1\n",
      "@raynesmguerra:=1\n",
      "https://t.co/ynjhzlxvq5=1\n",
      "facts=1\n",
      "https://t.co/4rdln8bxnq=1\n",
      "\"omgosh!=1\n",
      "bob=1\n",
      "unique=1\n",
      "ma-=1\n",
      "bob!?\"=1\n",
      "https://t.co/wmm0q7fpu5=1\n",
      "@lordflaconegro:=1\n",
      "down=1\n",
      "https://t.co/diyvrq7hn9=1\n",
      "@queeenzeee:=1\n"
     ]
    }
   ],
   "source": [
    "# Sort by value, descending.\n",
    "sorted_counts = sorted(counts.items(), key=lambda x: x[1], reverse=True)\n",
    "# See more about Python's lambda expressions:\n",
    "# https://docs.python.org/2/tutorial/controlflow.html#lambda-expressions\n",
    "\n",
    "print('\\n'.join('%s=%d' % (item[0], item[1]) \n",
    "                 for item in sorted_counts))"
   ]
  },
  {
   "cell_type": "code",
   "execution_count": 105,
   "metadata": {
    "collapsed": false
   },
   "outputs": [
    {
     "data": {
      "image/png": "[encoded data removed]",
      "text/plain": [
       "<matplotlib.figure.Figure at 0x10bbe6fd0>"
      ]
     },
     "metadata": {},
     "output_type": "display_data"
    }
   ],
   "source": [
    "# Plot these counts.\n",
    "import matplotlib.pyplot as plt\n",
    "plt.hist(list(counts.values()), bins=100)\n",
    "plt.xlabel('count')\n",
    "plt.ylabel('frequency')\n",
    "plt.ylim((0,100))\n",
    "plt.show()"
   ]
  },
  {
   "cell_type": "markdown",
   "metadata": {},
   "source": [
    "**Zipf's Law**: (roughly) there are many rare words; there are a small number of extremely frequent words.\n",
    "\n",
    "Alternatively:   \n",
    "The frequency of a term is inversely proportional to its rank.\n",
    "\n",
    "Let $f_i$ be the frequency of the $i$th most common term.\n",
    "\n",
    "$ f_i \\propto \\frac{1}{i} $ \n",
    "\n",
    "equivalently\n",
    "\n",
    "$ f_i = k$ $i^b $ for constant $k$ and $b=-1$"
   ]
  },
  {
   "cell_type": "code",
   "execution_count": 106,
   "metadata": {
    "collapsed": false
   },
   "outputs": [
    {
     "data": {
      "text/plain": [
       "[166, 67, 35, 35, 34, 24, 24, 18, 17, 16]"
      ]
     },
     "execution_count": 106,
     "metadata": {},
     "output_type": "execute_result"
    }
   ],
   "source": [
    "freqs = sorted(counts.values(), reverse=True)\n",
    "freqs[:10]"
   ]
  },
  {
   "cell_type": "code",
   "execution_count": 115,
   "metadata": {
    "collapsed": false
   },
   "outputs": [],
   "source": [
    "ranks = list(range(1, len(freqs)+1))"
   ]
  },
  {
   "cell_type": "code",
   "execution_count": 110,
   "metadata": {
    "collapsed": true
   },
   "outputs": [
    {
     "name": "stdout",
     "output_type": "stream",
     "text": [
      "Help on function curve_fit in module scipy.optimize.minpack:\n",
      "\n",
      "curve_fit(f, xdata, ydata, p0=None, sigma=None, absolute_sigma=False, check_finite=True, bounds=(-inf, inf), method=None, jac=None, **kwargs)\n",
      "    Use non-linear least squares to fit a function, f, to data.\n",
      "    \n",
      "    Assumes ``ydata = f(xdata, *params) + eps``\n",
      "    \n",
      "    Parameters\n",
      "    ----------\n",
      "    f : callable\n",
      "        The model function, f(x, ...).  It must take the independent\n",
      "        variable as the first argument and the parameters to fit as\n",
      "        separate remaining arguments.\n",
      "    xdata : An M-length sequence or an (k,M)-shaped array\n",
      "        for functions with k predictors.\n",
      "        The independent variable where the data is measured.\n",
      "    ydata : M-length sequence\n",
      "        The dependent data --- nominally f(xdata, ...)\n",
      "    p0 : None, scalar, or N-length sequence, optional\n",
      "        Initial guess for the parameters.  If None, then the initial\n",
      "        values will all be 1 (if the number of parameters for the function\n",
      "        can be determined using introspection, otherwise a ValueError\n",
      "        is raised).\n",
      "    sigma : None or M-length sequence, optional\n",
      "        If not None, the uncertainties in the ydata array. These are used as\n",
      "        weights in the least-squares problem\n",
      "        i.e. minimising ``np.sum( ((f(xdata, *popt) - ydata) / sigma)**2 )``\n",
      "        If None, the uncertainties are assumed to be 1.\n",
      "    absolute_sigma : bool, optional\n",
      "        If False, `sigma` denotes relative weights of the data points.\n",
      "        The returned covariance matrix `pcov` is based on *estimated*\n",
      "        errors in the data, and is not affected by the overall\n",
      "        magnitude of the values in `sigma`. Only the relative\n",
      "        magnitudes of the `sigma` values matter.\n",
      "    \n",
      "        If True, `sigma` describes one standard deviation errors of\n",
      "        the input data points. The estimated covariance in `pcov` is\n",
      "        based on these values.\n",
      "    check_finite : bool, optional\n",
      "        If True, check that the input arrays do not contain nans of infs,\n",
      "        and raise a ValueError if they do. Setting this parameter to\n",
      "        False may silently produce nonsensical results if the input arrays\n",
      "        do contain nans. Default is True.\n",
      "    bounds : 2-tuple of array_like, optional\n",
      "        Lower and upper bounds on independent variables. Defaults to no bounds.        \n",
      "        Each element of the tuple must be either an array with the length equal\n",
      "        to the number of parameters, or a scalar (in which case the bound is\n",
      "        taken to be the same for all parameters.) Use ``np.inf`` with an\n",
      "        appropriate sign to disable bounds on all or some parameters.\n",
      "    \n",
      "        .. versionadded:: 0.17\n",
      "    method : {'lm', 'trf', 'dogbox'}, optional\n",
      "        Method to use for optimization.  See `least_squares` for more details.\n",
      "        Default is 'lm' for unconstrained problems and 'trf' if `bounds` are\n",
      "        provided. The method 'lm' won't work when the number of observations\n",
      "        is less than the number of variables, use 'trf' or 'dogbox' in this\n",
      "        case.\n",
      "    \n",
      "        .. versionadded:: 0.17\n",
      "    jac : callable, string or None, optional\n",
      "        Function with signature ``jac(x, ...)`` which computes the Jacobian\n",
      "        matrix of the model function with respect to parameters as a dense\n",
      "        array_like structure. It will be scaled according to provided `sigma`.\n",
      "        If None (default), the Jacobian will be estimated numerically.\n",
      "        String keywords for 'trf' and 'dogbox' methods can be used to select\n",
      "        a finite difference scheme, see `least_squares`.\n",
      "    \n",
      "        .. versionadded:: 0.18\n",
      "    kwargs\n",
      "        Keyword arguments passed to `leastsq` for ``method='lm'`` or\n",
      "        `least_squares` otherwise.\n",
      "    \n",
      "    Returns\n",
      "    -------\n",
      "    popt : array\n",
      "        Optimal values for the parameters so that the sum of the squared error\n",
      "        of ``f(xdata, *popt) - ydata`` is minimized\n",
      "    pcov : 2d array\n",
      "        The estimated covariance of popt. The diagonals provide the variance\n",
      "        of the parameter estimate. To compute one standard deviation errors\n",
      "        on the parameters use ``perr = np.sqrt(np.diag(pcov))``.\n",
      "    \n",
      "        How the `sigma` parameter affects the estimated covariance\n",
      "        depends on `absolute_sigma` argument, as described above.\n",
      "    \n",
      "        If the Jacobian matrix at the solution doesn't have a full rank, then\n",
      "        'lm' method returns a matrix filled with ``np.inf``, on the other hand\n",
      "        'trf'  and 'dogbox' methods use Moore-Penrose pseudoinverse to compute\n",
      "        the covariance matrix.\n",
      "    \n",
      "    Raises\n",
      "    ------\n",
      "    ValueError\n",
      "        if either `ydata` or `xdata` contain NaNs, or if incompatible options\n",
      "        are used.\n",
      "    \n",
      "    RuntimeError\n",
      "        if the least-squares minimization fails.\n",
      "    \n",
      "    OptimizeWarning\n",
      "        if covariance of the parameters can not be estimated.\n",
      "    \n",
      "    See Also\n",
      "    --------\n",
      "    least_squares : Minimize the sum of squares of nonlinear functions.\n",
      "    stats.linregress : Calculate a linear least squares regression for two sets\n",
      "                       of measurements.\n",
      "    \n",
      "    Notes\n",
      "    -----\n",
      "    With ``method='lm'``, the algorithm uses the Levenberg-Marquardt algorithm\n",
      "    through `leastsq`. Note that this algorithm can only deal with\n",
      "    unconstrained problems.\n",
      "    \n",
      "    Box constraints can be handled by methods 'trf' and 'dogbox'. Refer to\n",
      "    the docstring of `least_squares` for more information.\n",
      "    \n",
      "    Examples\n",
      "    --------\n",
      "    >>> import numpy as np\n",
      "    >>> from scipy.optimize import curve_fit\n",
      "    >>> def func(x, a, b, c):\n",
      "    ...     return a * np.exp(-b * x) + c\n",
      "    \n",
      "    >>> xdata = np.linspace(0, 4, 50)\n",
      "    >>> y = func(xdata, 2.5, 1.3, 0.5)\n",
      "    >>> ydata = y + 0.2 * np.random.normal(size=len(xdata))\n",
      "    \n",
      "    >>> popt, pcov = curve_fit(func, xdata, ydata)\n",
      "    \n",
      "    Constrain the optimization to the region of ``0 < a < 3``, ``0 < b < 2``\n",
      "    and ``0 < c < 1``:\n",
      "    \n",
      "    >>> popt, pcov = curve_fit(func, xdata, ydata, bounds=(0, [3., 2., 1.]))\n",
      "\n"
     ]
    }
   ],
   "source": [
    "# Minimize mean squared error to find best value of k\n",
    "from scipy.optimize import curve_fit\n",
    "help(curve_fit)"
   ]
  },
  {
   "cell_type": "code",
   "execution_count": 112,
   "metadata": {
    "collapsed": false
   },
   "outputs": [
    {
     "name": "stdout",
     "output_type": "stream",
     "text": [
      "Zipf fit is 159.57*T^-1\n"
     ]
    }
   ],
   "source": [
    "# Define the Zipf function and fit the k parameter.\n",
    "def zipfs(i, k):\n",
    "    return k / i\n",
    "zipf_parms,covar = curve_fit(zipfs, ranks, freqs)\n",
    "print('Zipf fit is %.2f*T^-1' % zipf_parms[0])"
   ]
  },
  {
   "cell_type": "code",
   "execution_count": 113,
   "metadata": {
    "collapsed": false
   },
   "outputs": [
    {
     "data": {
      "text/plain": [
       "<matplotlib.text.Text at 0x10c0d5f60>"
      ]
     },
     "execution_count": 113,
     "metadata": {},
     "output_type": "execute_result"
    },
    {
     "data": {
      "image/png": "[encoded data removed]",
      "text/plain": [
       "<matplotlib.figure.Figure at 0x10c133d30>"
      ]
     },
     "metadata": {},
     "output_type": "display_data"
    }
   ],
   "source": [
    "# Try a log-log plot.\n",
    "import numpy as np\n",
    "l_ranks = np.log10(ranks)\n",
    "l_freqs = np.log10(freqs)\n",
    "plt.plot(l_ranks, l_freqs, 'bo', label='data')\n",
    "plt.legend(loc='best')\n",
    "plt.xlabel('log(rank)')\n",
    "plt.ylabel('log(frequency)')"
   ]
  },
  {
   "cell_type": "code",
   "execution_count": 114,
   "metadata": {
    "collapsed": false
   },
   "outputs": [
    {
     "data": {
      "text/plain": [
       "<matplotlib.legend.Legend at 0x10c44cc18>"
      ]
     },
     "execution_count": 114,
     "metadata": {},
     "output_type": "execute_result"
    },
    {
     "data": {
      "image/png": "[encoded data removed]",
      "text/plain": [
       "<matplotlib.figure.Figure at 0x10bb0e390>"
      ]
     },
     "metadata": {},
     "output_type": "display_data"
    }
   ],
   "source": [
    "plt.plot(l_ranks, l_freqs, 'bo', label='data')\n",
    "plt.xlabel('log(rank)')\n",
    "plt.ylabel('log(frequency)')\n",
    "plt.plot(l_ranks, np.log10(zipfs(ranks, *zipf_parms)), 'k--', label='zipf')  # k-- = black dashed line\n",
    "plt.legend(loc='best')"
   ]
  }
 ],
 "metadata": {
  "kernelspec": {
   "display_name": "Python 3",
   "language": "python",
   "name": "python3"
  },
  "language_info": {
   "codemirror_mode": {
    "name": "ipython",
    "version": 3
   },
   "file_extension": ".py",
   "mimetype": "text/x-python",
   "name": "python",
   "nbconvert_exporter": "python",
   "pygments_lexer": "ipython3",
   "version": "3.6.0"
  }
 },
 "nbformat": 4,
 "nbformat_minor": 0
}
