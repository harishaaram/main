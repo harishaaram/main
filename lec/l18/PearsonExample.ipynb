{
 "cells": [
  {
   "cell_type": "markdown",
   "metadata": {},
   "source": [
    "## Pearson correlation\n",
    "Here, I correct the notes in [Lecture l18](https://github.com/iit-cs579/main/blob/master/lec/l18/l18.pdf), which miscalculated the pearson correlation between two movies.\n",
    "\n",
    "Recall that the goal is to compute the correlation between the ratings for two movies $x$ and $y$ using the formula given on slide 24:\n",
    "\n",
    "$$\n",
    "sim(x,y) = \\frac{\\sum_{s \\in S_{xy}}(r_{xs} - \\bar{r}_x)(r_{ys} - \n",
    "\\bar{r}_y)}{\\sqrt{\\sum_{s \\in S_{xy}}(r_{xs} - \\bar{r}_x)^2}\\sqrt{\\sum_{s \\in S_{xy}}(r_{ys} - \\bar{r}_y)^2}}\n",
    "$$\n",
    "where\n",
    "- $r_{xs}$ is the rating given by user $s$ to movie $x$\n",
    "- $\\bar{x}$ is the mean of $x$; $\\bar{y}$ is the mean of $y$\n",
    "- $S_{xy}$ is the set of users who have rated both movie $x$ and movie $y$.\n",
    "\n",
    "The problem in the slide is how the denominator is computed. The examples given on page 30 use all ratings to compute the norm; instead, only those ratings in $S_{xy}$ should be used."
   ]
  },
  {
   "cell_type": "code",
   "execution_count": 8,
   "metadata": {
    "collapsed": true
   },
   "outputs": [],
   "source": [
    "# In this example, we'll compute the similarity of\n",
    "# rows 1 and 3 from page 30, where 0 means \"no rating\".\n",
    "import numpy as np\n",
    "import math\n",
    "m1 = np.array([0, 4, 0, 5, 0, 0, 5, 0, 0, 3, 0, 1])\n",
    "m3 = np.array([0, 5, 3, 4, 0, 3, 0, 2, 1, 0, 4, 2])"
   ]
  },
  {
   "cell_type": "code",
   "execution_count": 9,
   "metadata": {
    "collapsed": false
   },
   "outputs": [
    {
     "data": {
      "text/plain": [
       "[1, 3, 11]"
      ]
     },
     "execution_count": 9,
     "metadata": {},
     "output_type": "execute_result"
    }
   ],
   "source": [
    "# find indices of overlapping ratings.\n",
    "overlap = [i for i in range(len(m1)) if m1[i] != 0 and m3[i] != 0]\n",
    "overlap"
   ]
  },
  {
   "cell_type": "code",
   "execution_count": 10,
   "metadata": {
    "collapsed": false
   },
   "outputs": [
    {
     "name": "stdout",
     "output_type": "stream",
     "text": [
      "m1 mean=3.600 m3 mean=3.000\n"
     ]
    }
   ],
   "source": [
    "# Compute means (excluding non-zeros)\n",
    "m1_mean = np.mean(m1[np.where(m1 != 0)])\n",
    "m3_mean = np.mean(m3[np.where(m3 != 0)])\n",
    "print('m1 mean=%.3f m3 mean=%.3f' % (m1_mean, m3_mean))"
   ]
  },
  {
   "cell_type": "markdown",
   "metadata": {},
   "source": [
    "Compute numerator:\n",
    "$$\n",
    "\\sum_{s \\in S_{xy}}(r_{xs} - \\bar{r}_x)(r_{ys} - \n",
    "\\bar{r}_y)\n",
    "$$"
   ]
  },
  {
   "cell_type": "code",
   "execution_count": 11,
   "metadata": {
    "collapsed": false
   },
   "outputs": [
    {
     "data": {
      "text/plain": [
       "4.7999999999999998"
      ]
     },
     "execution_count": 11,
     "metadata": {},
     "output_type": "execute_result"
    }
   ],
   "source": [
    "numerator = ((m1[overlap] - m1_mean) * (m3[overlap] - m3_mean)).sum()\n",
    "numerator"
   ]
  },
  {
   "cell_type": "markdown",
   "metadata": {},
   "source": [
    "Compute denominator\n",
    "\n",
    "$$\n",
    "\\sqrt{\\sum_{s \\in S_{xy}}(r_{xs} - \\bar{r}_x)^2}\\sqrt{\\sum_{s \\in S_{xy}}(r_{ys} - \\bar{r}_y)^2}\n",
    "$$"
   ]
  },
  {
   "cell_type": "code",
   "execution_count": 14,
   "metadata": {
    "collapsed": false
   },
   "outputs": [
    {
     "data": {
      "text/plain": [
       "7.299315036357863"
      ]
     },
     "execution_count": 14,
     "metadata": {},
     "output_type": "execute_result"
    }
   ],
   "source": [
    "denominator = (  math.sqrt(((m1[overlap] - m1_mean)**2).sum()) \n",
    "               * math.sqrt(((m3[overlap] - m3_mean)**2).sum())  )\n",
    "denominator"
   ]
  },
  {
   "cell_type": "code",
   "execution_count": 15,
   "metadata": {
    "collapsed": false
   },
   "outputs": [
    {
     "data": {
      "text/plain": [
       "0.65759594922142917"
      ]
     },
     "execution_count": 15,
     "metadata": {},
     "output_type": "execute_result"
    }
   ],
   "source": [
    "numerator / denominator"
   ]
  },
  {
   "cell_type": "markdown",
   "metadata": {},
   "source": [
    "So, 0.658 should be the correct answer for the similarity between movies m1 and m3 (**not** 0.41, as listed on the slides).\n",
    "\n",
    "You can repeat the process to get values for other movies."
   ]
  }
 ],
 "metadata": {
  "kernelspec": {
   "display_name": "Python 3",
   "language": "python",
   "name": "python3"
  },
  "language_info": {
   "codemirror_mode": {
    "name": "ipython",
    "version": 3
   },
   "file_extension": ".py",
   "mimetype": "text/x-python",
   "name": "python",
   "nbconvert_exporter": "python",
   "pygments_lexer": "ipython3",
   "version": "3.5.0"
  }
 },
 "nbformat": 4,
 "nbformat_minor": 1
}
