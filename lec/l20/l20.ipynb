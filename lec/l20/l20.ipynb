{
 "metadata": {
  "name": "",
  "signature": "sha256:e59a633c3997c1af1e62c0a46a0997a5db020396ae2b5bb0a3b48b59dae052ef"
 },
 "nbformat": 3,
 "nbformat_minor": 0,
 "worksheets": [
  {
   "cells": [
    {
     "cell_type": "markdown",
     "metadata": {},
     "source": [
      "# CS579: Lecture 20  \n",
      "*[Dr. Aron Culotta](http://cs.iit.edu/~culotta)*  \n",
      "*[Illinois Institute of Technology](http://iit.edu)*"
     ]
    }
   ],
   "metadata": {}
  }
 ]
}
