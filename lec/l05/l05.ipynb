{
 "cells": [
  {
   "cell_type": "markdown",
   "metadata": {
    "slideshow": {
     "slide_type": "slide"
    }
   },
   "source": [
    "# CS579: Lecture 05  \n",
    "** Community Detection **\n",
    "\n",
    "*[Dr. Aron Culotta](http://cs.iit.edu/~culotta)*  \n",
    "*[Illinois Institute of Technology](http://iit.edu)*\n",
    "\n",
    "(Many figures come from [Mining of Massive Datasets](http://www.mmds.org/), Jure Leskovec, Anand Rajaraman, Jeff Ullman)"
   ]
  },
  {
   "cell_type": "markdown",
   "metadata": {
    "slideshow": {
     "slide_type": "slide"
    }
   },
   "source": [
    "![network](network.png)\n",
    "\n",
    "- **Why do we want to identify communities?**\n",
    "- **What are the \"communities\" in this graph?**\n",
    "- **Why did you choose these communities?**\n",
    "\n",
    "<br><br><br><br><br>"
   ]
  },
  {
   "cell_type": "markdown",
   "metadata": {},
   "source": [
    "**A bad solution: Agglomerative clustering**\n",
    "\n",
    "- Let distance function $d(A,B)$ be the shortest path between nodes $A$ and $B$\n",
    "- Let $C_i$ and $C_j$ be two clusters of nodes. Then, let the distance between two clusters be the minimum distance of any two nodes: $d(C_i, C_j) = \\min_{X \\in C_i, Y \\in C_j} \\hspace{.1cm} d(X, Y)$\n",
    "- Greedy agglomerative clustering iterative merges the closest two clusters \n",
    "\n",
    "<img width=200 src=\"https://upload.wikimedia.org/wikipedia/commons/a/ad/Hierarchical_clustering_simple_diagram.svg\">"
   ]
  },
  {
   "cell_type": "markdown",
   "metadata": {},
   "source": [
    "**What would agglomerative clustering do on this network? **\n",
    "\n",
    "![network](network.png)\n",
    "\n",
    "$d(A,B) = d(A,C) = d(B, C) = d(B,D) = d(D,E) = d(D,F) = d(D,G) = d(E,F) = d(G,F) = 1$\n",
    "\n",
    "$d(A,D) = d(C,D) ... = 2$\n",
    "\n",
    "<br><br><br>\n",
    "First merge: sample randomly from all nodes with distance == 1.\n",
    "\n",
    "\n",
    "<br><br><br>\n",
    "So, $\\frac{1}{9}$ chance we merge $B$ and $D$ in first merge.\n",
    "\n",
    "Not desireable...any other ideas?\n",
    "\n",
    "What makes the edge between $B$ and $D$ special?\n",
    "\n",
    "<br><br><br><br>"
   ]
  },
  {
   "cell_type": "code",
   "execution_count": 1,
   "metadata": {
    "collapsed": true
   },
   "outputs": [],
   "source": [
    "#HARISH:"
   ]
  },
  {
   "cell_type": "markdown",
   "metadata": {
    "slideshow": {
     "slide_type": "slide"
    }
   },
   "source": [
    "**Betweenness:** The betweenness of an edge $(A, B)$ is the fraction of shortest paths between any nodes $X$ and $Y$ that include edge $(A, B)$.\n",
    "\n",
    "High betweenness $\\rightarrow$ $A$ and $B$ belong in different communities."
   ]
  },
  {
   "cell_type": "markdown",
   "metadata": {
    "slideshow": {
     "slide_type": "slide"
    }
   },
   "source": [
    "![network](network.png)\n",
    "\n"
   ]
  },
  {
   "cell_type": "markdown",
   "metadata": {
    "slideshow": {
     "slide_type": "slide"
    }
   },
   "source": [
    "What is **betweenness** of $(B,D)$?\n",
    "\n",
    "<br><br><br><br>\n",
    "\n",
    "> $(B,D)$ is on all shortest paths connecting any of $\\{A,B,C\\}$ to any of $\\{D,E,F,G\\}$.\n",
    "\n",
    "> Thus, total number of shortest paths = number passing through $(B,D)$ =  $3 * 4 = \\mathbf{12}.$. So, $bt(B,D) = 12$\n",
    "\n",
    "\n",
    "<br><br><br><br>\n",
    "What is **betweenness** of $(D,F)$?\n",
    "\n",
    "<br><br><br><br>\n",
    "\n",
    "> $(D,F)$ is on shortest paths from $\\{A,B,C,D\\}$ to $\\{F\\}$.\n",
    "\n",
    "> Thus, betweenness is $4 * 1 = \\mathbf{4}.$\n",
    "\n"
   ]
  },
  {
   "cell_type": "code",
   "execution_count": 2,
   "metadata": {
    "collapsed": true
   },
   "outputs": [],
   "source": [
    "#harish:"
   ]
  },
  {
   "cell_type": "markdown",
   "metadata": {},
   "source": [
    "$$\n",
    "bt(e) =\\sum_{s,t \\in V} \\frac{\\sigma(s, t|e)}{\\sigma(s, t)}\n",
    "$$\n",
    "where\n",
    "\n",
    "- $V$ is the set of nodes\n",
    "- $\\sigma(s, t)$ is the number of shortest paths between nodes $s$ and $t$\n",
    "- $\\sigma(s, t|e)$ is the number of those paths  passing through some  edge $e$ \n",
    "\n",
    "If $s = t$, $\\sigma(s, t) = 1$\n",
    "\n",
    "So, if there are two shortest paths between $s$ and $t$, but only one goes through $e$, betweenness only increases by 0.5.\n",
    "\n",
    "What is **betweenness** of $(D,G)$?\n",
    "\n",
    "\n",
    "![between](between3.png)\n",
    "\n",
    "<br><br><br>\n",
    "\n",
    "> $(D,G)$ is on one of the two shortest paths from $D$ to $F$ and $E$ to $G$. \n",
    "\n",
    "> It is also on the only shortest path from $D$ to $G$.\n",
    "\n",
    "> Thus, betweenness is $\\frac{1}{2} + \\frac{1}{2} + 1 = \\mathbf{2}.$\n"
   ]
  },
  {
   "cell_type": "code",
   "execution_count": 3,
   "metadata": {
    "scrolled": true
   },
   "outputs": [
    {
     "data": {
      "image/png": "[encoded data removed]",
      "text/plain": [
       "<matplotlib.figure.Figure at 0x7fd2c4f45be0>"
      ]
     },
     "metadata": {},
     "output_type": "display_data"
    }
   ],
   "source": [
    "import warnings\n",
    "warnings.filterwarnings(\"ignore\")\n",
    "import networkx as nx\n",
    "%matplotlib inline\n",
    "def create_example_graph():\n",
    "    graph = nx.Graph()\n",
    "    graph.add_edges_from([('A', 'B'), ('A', 'C'), ('B', 'C'),\n",
    "                          ('B', 'D'), ('D', 'E'), ('D', 'F'),\n",
    "                          ('D', 'G'), ('E', 'F'), ('G', 'F')])\n",
    "    return graph\n",
    "\n",
    "graph = create_example_graph()\n",
    "nx.draw(graph, with_labels=True)"
   ]
  },
  {
   "cell_type": "code",
   "execution_count": 4,
   "metadata": {
    "collapsed": true
   },
   "outputs": [],
   "source": [
    "#harish:"
   ]
  },
  {
   "cell_type": "code",
   "execution_count": 5,
   "metadata": {},
   "outputs": [
    {
     "data": {
      "text/plain": [
       "{('A', 'B'): 5.0,\n",
       " ('A', 'C'): 1.0,\n",
       " ('C', 'B'): 5.0,\n",
       " ('D', 'B'): 12.0,\n",
       " ('D', 'E'): 4.5,\n",
       " ('D', 'F'): 4.0,\n",
       " ('D', 'G'): 4.5,\n",
       " ('E', 'F'): 1.5,\n",
       " ('F', 'G'): 1.5}"
      ]
     },
     "execution_count": 5,
     "metadata": {},
     "output_type": "execute_result"
    }
   ],
   "source": [
    "# We'll use networkx's built-in betweenness computation in this example.\n",
    "nx.edge_betweenness_centrality(graph, normalized=False)\n",
    "# nx.edge_betweenness_centrality(graph, normalized=True)\n",
    "# normalized between 0-1"
   ]
  },
  {
   "cell_type": "markdown",
   "metadata": {},
   "source": [
    "** How to compute shortest path in undirected graph? **\n",
    "\n",
    "<br><br><br>\n",
    "<img src=\"https://upload.wikimedia.org/wikipedia/commons/4/46/Animated_BFS.gif\">\n",
    "\n",
    "[source](https://en.wikipedia.org/wiki/File:Animated_BFS.gif)\n",
    "\n",
    "** Breadth first search: ** Given a sourse node $s$, compute the shortest paths to each of its neighbors. Proceed"
   ]
  },
  {
   "cell_type": "code",
   "execution_count": 6,
   "metadata": {},
   "outputs": [
    {
     "name": "stdout",
     "output_type": "stream",
     "text": [
      "deque([1])\n",
      "deque([1, 2])\n",
      "deque([1, 2, 3])\n",
      "popleft returns: 1\n",
      "deque([2, 3])\n",
      "pop returns: 3\n",
      "deque([2])\n"
     ]
    }
   ],
   "source": [
    "from collections import deque\n",
    "# double ended queue\n",
    "# stored as a doubly linked list\n",
    "\n",
    "q = deque()\n",
    "q.append(1)\n",
    "print(q)\n",
    "q.append(2)\n",
    "print(q)\n",
    "q.append(3)\n",
    "print(q)\n",
    "print('popleft returns: %d' %  q.popleft())\n",
    "print(q)\n",
    "print('pop returns: %d' %  q.pop())\n",
    "print(q)"
   ]
  },
  {
   "cell_type": "code",
   "execution_count": 7,
   "metadata": {},
   "outputs": [
    {
     "name": "stdout",
     "output_type": "stream",
     "text": [
      "1\n"
     ]
    },
    {
     "data": {
      "text/plain": [
       "[2, 3]"
      ]
     },
     "execution_count": 7,
     "metadata": {},
     "output_type": "execute_result"
    }
   ],
   "source": [
    "# compare with:\n",
    "a = [1,2,3]\n",
    "print(a.pop(0))\n",
    "a"
   ]
  },
  {
   "cell_type": "markdown",
   "metadata": {},
   "source": [
    "**What is running time to remove first element of a dynamic array with $n$ elements (a list in Python)?**\n",
    "\n",
    "<br><br><br>\n",
    "\n",
    "$O(n)$: Need to shift all elements to the left.\n",
    "\n",
    "<br><br><br>\n",
    "\n",
    "**What is the running time to remove first element of a doubly linked list $n$ elements (a deque in Python)?**\n",
    "\n",
    "<br><br><br>\n",
    "\n",
    "$O(1)$\n",
    "\n",
    "See more:\n",
    "https://wiki.python.org/moin/TimeComplexity\n"
   ]
  },
  {
   "cell_type": "code",
   "execution_count": 8,
   "metadata": {},
   "outputs": [
    {
     "name": "stdout",
     "output_type": "stream",
     "text": [
      "['A', 2, '?']\n",
      "A\n",
      "2\n"
     ]
    }
   ],
   "source": [
    "class Node:\n",
    "    def __init__(self, val):\n",
    "        self.val = val\n",
    "        self.prev = None\n",
    "        self.next = None\n",
    "        self.head = self\n",
    "        \n",
    "    def display(self):\n",
    "        node = self.head\n",
    "        vals = []\n",
    "        while node:\n",
    "            vals.append(node.val)\n",
    "            node = node.next\n",
    "        print(vals)\n",
    "            \n",
    "    def popleft(self):\n",
    "        \"\"\"\n",
    "        Remove leftmost element of list.\n",
    "        \"\"\"\n",
    "        v = self.head.val\n",
    "        self.next.prev = None\n",
    "        self.head = self.next\n",
    "        return v\n",
    "        \n",
    "n1 = Node('A')\n",
    "n2 = Node(2)\n",
    "n3 = Node('?')\n",
    "n1.next = n2\n",
    "n2.prev = n1\n",
    "n2.next = n3\n",
    "n3.prev = n2\n",
    "\n",
    "mylist = n1\n",
    "mylist.display()  \n",
    "print(mylist.popleft())\n",
    "print(mylist.popleft())"
   ]
  },
  {
   "cell_type": "code",
   "execution_count": 9,
   "metadata": {},
   "outputs": [
    {
     "data": {
      "text/plain": [
       "['B', 'C']"
      ]
     },
     "execution_count": 9,
     "metadata": {},
     "output_type": "execute_result"
    }
   ],
   "source": [
    "# to get the neighbors of a node:\n",
    "graph.neighbors('A')"
   ]
  },
  {
   "cell_type": "code",
   "execution_count": 10,
   "metadata": {},
   "outputs": [
    {
     "data": {
      "image/png": "[encoded data removed]",
      "text/plain": [
       "<matplotlib.figure.Figure at 0x7fd295f4dda0>"
      ]
     },
     "metadata": {},
     "output_type": "display_data"
    }
   ],
   "source": [
    "nx.draw(graph, with_labels=True)"
   ]
  },
  {
   "cell_type": "code",
   "execution_count": 11,
   "metadata": {
    "collapsed": true
   },
   "outputs": [],
   "source": [
    "#harish:"
   ]
  },
  {
   "cell_type": "code",
   "execution_count": 21,
   "metadata": {},
   "outputs": [
    {
     "name": "stdout",
     "output_type": "stream",
     "text": [
      "seen\n",
      "['D']\n",
      "appending\n",
      "deque(['B'])\n",
      "appending\n",
      "deque(['B', 'G'])\n",
      "appending\n",
      "deque(['B', 'G', 'F'])\n",
      "appending\n",
      "deque(['B', 'G', 'F', 'E'])\n",
      "seen\n",
      "['D', 'B']\n",
      "appending\n",
      "deque(['G', 'F', 'E', 'A'])\n",
      "appending\n",
      "deque(['G', 'F', 'E', 'A', 'C'])\n",
      "seen\n",
      "['D', 'B', 'G']\n",
      "appending\n",
      "deque(['F', 'E', 'A', 'C', 'F'])\n",
      "seen\n",
      "['D', 'B', 'G', 'F']\n",
      "appending\n",
      "deque(['E', 'A', 'C', 'F', 'E'])\n",
      "seen\n",
      "['D', 'B', 'G', 'F', 'E']\n",
      "seen\n",
      "['D', 'B', 'G', 'F', 'E', 'A']\n",
      "appending\n",
      "deque(['C', 'F', 'E', 'C'])\n",
      "seen\n",
      "['D', 'B', 'G', 'F', 'E', 'A', 'C']\n"
     ]
    },
    {
     "data": {
      "text/plain": [
       "['D', 'B', 'G', 'F', 'E', 'A', 'C']"
      ]
     },
     "execution_count": 21,
     "metadata": {},
     "output_type": "execute_result"
    }
   ],
   "source": [
    "def bfs(graph, start):\n",
    "    \"\"\"\n",
    "    Return the order in which nodes are visited in a breadth-first \n",
    "    traversal, starting with the given node.\n",
    "    \"\"\"\n",
    "    q = deque()\n",
    "    q.append(start)\n",
    "    seen = set()\n",
    "    res = []\n",
    "    while len(q) > 0:\n",
    "        n = q.popleft()\n",
    "        if n not in seen:\n",
    "            res.append(n)\n",
    "            seen.add(n)\n",
    "            print(\"seen\")\n",
    "            print(res)\n",
    "            #harish: dfs vs bfs\n",
    "        for nn in graph.neighbors(n):\n",
    "            if nn not in seen:\n",
    "                q.append(nn)\n",
    "                print(\"appending\")\n",
    "                print(q)\n",
    "    return res\n",
    "\n",
    "bfs(graph, 'D')"
   ]
  },
  {
   "cell_type": "markdown",
   "metadata": {},
   "source": [
    "To get all shortest paths from a node, perform BFS, while keeping track of the depth of the search."
   ]
  },
  {
   "cell_type": "code",
   "execution_count": 13,
   "metadata": {},
   "outputs": [
    {
     "name": "stdout",
     "output_type": "stream",
     "text": [
      "\n",
      "shortest paths for A\n",
      "{'A': ['A'], 'C': ['A', 'C'], 'E': ['A', 'B', 'D', 'E'], 'D': ['A', 'B', 'D'], 'B': ['A', 'B'], 'F': ['A', 'B', 'D', 'F'], 'G': ['A', 'B', 'D', 'G']}\n",
      "\n",
      "shortest paths for C\n",
      "{'A': ['C', 'A'], 'C': ['C'], 'E': ['C', 'B', 'D', 'E'], 'D': ['C', 'B', 'D'], 'B': ['C', 'B'], 'F': ['C', 'B', 'D', 'F'], 'G': ['C', 'B', 'D', 'G']}\n",
      "\n",
      "shortest paths for D\n",
      "{'D': ['D'], 'A': ['D', 'B', 'A'], 'E': ['D', 'E'], 'B': ['D', 'B'], 'C': ['D', 'B', 'C'], 'F': ['D', 'F'], 'G': ['D', 'G']}\n",
      "\n",
      "shortest paths for E\n",
      "{'E': ['E'], 'A': ['E', 'D', 'B', 'A'], 'D': ['E', 'D'], 'B': ['E', 'D', 'B'], 'C': ['E', 'D', 'B', 'C'], 'F': ['E', 'F'], 'G': ['E', 'D', 'G']}\n",
      "\n",
      "shortest paths for B\n",
      "{'D': ['B', 'D'], 'C': ['B', 'C'], 'E': ['B', 'D', 'E'], 'A': ['B', 'A'], 'B': ['B'], 'F': ['B', 'D', 'F'], 'G': ['B', 'D', 'G']}\n",
      "\n",
      "shortest paths for F\n",
      "{'D': ['F', 'D'], 'A': ['F', 'D', 'B', 'A'], 'E': ['F', 'E'], 'B': ['F', 'D', 'B'], 'C': ['F', 'D', 'B', 'C'], 'F': ['F'], 'G': ['F', 'G']}\n",
      "\n",
      "shortest paths for G\n",
      "{'D': ['G', 'D'], 'A': ['G', 'D', 'B', 'A'], 'E': ['G', 'D', 'E'], 'B': ['G', 'D', 'B'], 'C': ['G', 'D', 'B', 'C'], 'F': ['G', 'F'], 'G': ['G']}\n"
     ]
    }
   ],
   "source": [
    "for s in graph.nodes():\n",
    "    paths = nx.single_source_shortest_path(graph, s)\n",
    "    print('\\nshortest paths for %s' % s)\n",
    "    print(paths)"
   ]
  },
  {
   "cell_type": "code",
   "execution_count": 14,
   "metadata": {
    "collapsed": true
   },
   "outputs": [],
   "source": [
    "#harish:"
   ]
  },
  {
   "cell_type": "markdown",
   "metadata": {
    "slideshow": {
     "slide_type": "slide"
    }
   },
   "source": [
    "# Girvan-Newman Algorithm\n",
    "\n",
    "**Input:** Graph $G$; desired number of clusters $k$\n",
    "\n",
    "**Output:** A hierarchical clustering of nodes, based on edge betweenness\n",
    "\n",
    "- **While** number of clusters $< k$:\n",
    "  - Compute the betweenness of all edges in $G$\n",
    "  - Remove edge with highest betweenness\n"
   ]
  },
  {
   "cell_type": "markdown",
   "metadata": {
    "slideshow": {
     "slide_type": "slide"
    }
   },
   "source": [
    "![between](between.png)"
   ]
  },
  {
   "cell_type": "markdown",
   "metadata": {
    "slideshow": {
     "slide_type": "slide"
    }
   },
   "source": [
    "![between2](between2.png)"
   ]
  },
  {
   "cell_type": "markdown",
   "metadata": {
    "slideshow": {
     "slide_type": "slide"
    }
   },
   "source": [
    "## Computing betweenness of all edges\n",
    "\n",
    "- All pairs-shortest-paths, but need to store the paths.\n",
    "- How can we reduce redundant computation?"
   ]
  },
  {
   "cell_type": "code",
   "execution_count": 15,
   "metadata": {
    "collapsed": true
   },
   "outputs": [],
   "source": [
    "#harisH: starts with source node(here E)"
   ]
  },
  {
   "cell_type": "markdown",
   "metadata": {
    "slideshow": {
     "slide_type": "slide"
    }
   },
   "source": [
    "## Computing betweenness of all edges\n",
    "\n",
    "![newman1](newman1.png)\n",
    "\n",
    "1.) Do breadth-first search starting at node $E$.\n",
    "  - Each level is length of shortest path from $E$ to that node\n",
    "  - Edges within the same level cannot be part of a shortest path from $E$ to some target.\n",
    "  \n",
    "2.) Label each node by the number of shortest paths that reach it from the root.\n",
    "  - Start by labeling the root ($E$). Then, each child node is the sum of its parents.\n",
    "  - E.g., $G = D + F$\n"
   ]
  },
  {
   "cell_type": "markdown",
   "metadata": {
    "slideshow": {
     "slide_type": "slide"
    }
   },
   "source": [
    "## Computing betweenness of all edges\n",
    "\n",
    "![newman1](newman2.png)\n",
    "\n",
    "3.) Compute fraction of shortest paths through each edge (bottom up).\n",
    "  - leaf nodes get credit 1\n",
    "  - non-leaf nodes get credit of 1 + credits for edges to nodes at level below\n",
    "  - edges to level above gets credit proportional to fraction of shortest paths that go through it.\n",
    "\n",
    "E.g. Level 3:\n",
    " - $A$ and $C$ are given credit 1 (they are leaf nodes)\n",
    " \n",
    "Level 2:\n",
    " - $B$ gets credit $3$ ($A + C + 1$)\n",
    "   - All shortest paths from  $\\{E\\}$ to $\\{A, B, C\\}$ go through B.\n",
    " - $G$ gets credit 1 (leaf)\n"
   ]
  },
  {
   "cell_type": "markdown",
   "metadata": {
    "slideshow": {
     "slide_type": "slide"
    }
   },
   "source": [
    "## Computing betweenness of all edges\n",
    "\n",
    "![newman1](newman3.png)\n",
    "\n",
    "Level 1 Edges:\n",
    " - $D,B$ edge gets all credit from node $B$ (3)\n",
    " - $G$ has two parents, so edges $(D,G)$, $(F,G)$ share the credit from $G$\n",
    "   - From step 1, $D$ and $F$ each have credit 1, so shared equally. $(\\frac{1}{1+1} = .5)$\n",
    "   - What if $D=5$, $F=3$?  $\\frac{5}{8}$, $\\frac{3}{8}$\n",
    "    \n",
    "\n",
    "Level 1 Nodes:\n",
    "  - $D = 1 + 3 + .5 = 4.5$\n",
    "  - $F = 1 + .5 = 1.5$"
   ]
  },
  {
   "cell_type": "markdown",
   "metadata": {
    "slideshow": {
     "slide_type": "slide"
    }
   },
   "source": [
    "## Computing betweenness of all edges\n",
    "\n",
    "![newman1](newman3.png)\n",
    "\n",
    "- What if $D=5$, $F=3$?  \n"
   ]
  },
  {
   "cell_type": "markdown",
   "metadata": {
    "slideshow": {
     "slide_type": "slide"
    }
   },
   "source": [
    "## Computing betweenness of all edges\n",
    "\n",
    "![newman1](newman3.png)\n",
    "\n",
    "- What if $D=5$, $F=3$?  \n",
    "$(D,G) = \\frac{5}{8}$, $(F,G) = \\frac{3}{8}$"
   ]
  },
  {
   "cell_type": "markdown",
   "metadata": {
    "slideshow": {
     "slide_type": "slide"
    }
   },
   "source": [
    "Final steps:\n",
    "\n",
    "- Repeat for each node as source\n",
    "- Divide total by 2 (since each shortest path found twice, once in each direction)\n",
    "\n",
    "![between](between.png)"
   ]
  },
  {
   "cell_type": "code",
   "execution_count": 16,
   "metadata": {
    "collapsed": true
   },
   "outputs": [],
   "source": [
    "def girvan_newman(G, depth=0):\n",
    "    \"\"\" Recursive implementation of the girvan_newman algorithm.\n",
    "    See http://www-rohan.sdsu.edu/~gawron/python_for_ss/course_core/book_draft/Social_Networks/Networkx.html\n",
    "    \n",
    "    Args:\n",
    "    G.....a networkx graph\n",
    "\n",
    "    Returns:\n",
    "    A list of all discovered communities,\n",
    "    a list of lists of nodes. \"\"\"\n",
    "\n",
    "    if G.order() == 1:\n",
    "        return [G.nodes()]\n",
    "    \n",
    "    def find_best_edge(G0):\n",
    "        eb = nx.edge_betweenness_centrality(G0)\n",
    "        # eb is dict of (edge, score) pairs, where higher is better\n",
    "        # Return the edge with the highest score.\n",
    "        return sorted(eb.items(), key=lambda x: x[1], reverse=True)[0][0]\n",
    "\n",
    "    # Each component is a separate community. We cluster each of these.\n",
    "    components = [c for c in nx.connected_component_subgraphs(G)]\n",
    "    indent = '   ' * depth  # for printing\n",
    "    while len(components) == 1:\n",
    "        edge_to_remove = find_best_edge(G)\n",
    "        print(indent + 'removing ' + str(edge_to_remove))\n",
    "        G.remove_edge(*edge_to_remove)\n",
    "        components = [c for c in nx.connected_component_subgraphs(G)]\n",
    "\n",
    "    result = [c.nodes() for c in components]\n",
    "    print(indent + 'components=' + str(result))\n",
    "    for c in components:\n",
    "        result.extend(girvan_newman(c, depth + 1))\n",
    "\n",
    "    return result"
   ]
  },
  {
   "cell_type": "code",
   "execution_count": 17,
   "metadata": {},
   "outputs": [
    {
     "name": "stdout",
     "output_type": "stream",
     "text": [
      "removing ('D', 'B')\n",
      "components=[['A', 'C', 'B'], ['D', 'E', 'F', 'G']]\n",
      "   removing ('A', 'C')\n",
      "   removing ('A', 'B')\n",
      "   components=[['A'], ['B', 'C']]\n",
      "      removing ('B', 'C')\n",
      "      components=[['B'], ['C']]\n",
      "   removing ('D', 'E')\n",
      "   removing ('F', 'E')\n",
      "   components=[['D', 'F', 'G'], ['E']]\n",
      "      removing ('D', 'F')\n",
      "      removing ('F', 'G')\n",
      "      components=[['D', 'G'], ['F']]\n",
      "         removing ('D', 'G')\n",
      "         components=[['D'], ['G']]\n"
     ]
    }
   ],
   "source": [
    "result = girvan_newman(create_example_graph())"
   ]
  },
  {
   "cell_type": "code",
   "execution_count": 18,
   "metadata": {},
   "outputs": [
    {
     "data": {
      "text/plain": [
       "[['A', 'C', 'B'],\n",
       " ['D', 'E', 'F', 'G'],\n",
       " ['A'],\n",
       " ['B', 'C'],\n",
       " ['A'],\n",
       " ['B'],\n",
       " ['C'],\n",
       " ['B'],\n",
       " ['C'],\n",
       " ['D', 'F', 'G'],\n",
       " ['E'],\n",
       " ['D', 'G'],\n",
       " ['F'],\n",
       " ['D'],\n",
       " ['G'],\n",
       " ['D'],\n",
       " ['G'],\n",
       " ['F'],\n",
       " ['E']]"
      ]
     },
     "execution_count": 18,
     "metadata": {},
     "output_type": "execute_result"
    }
   ],
   "source": [
    "result"
   ]
  }
 ],
 "metadata": {
  "kernelspec": {
   "display_name": "Python 3",
   "language": "python",
   "name": "python3"
  },
  "language_info": {
   "codemirror_mode": {
    "name": "ipython",
    "version": 3
   },
   "file_extension": ".py",
   "mimetype": "text/x-python",
   "name": "python",
   "nbconvert_exporter": "python",
   "pygments_lexer": "ipython3",
   "version": "3.5.2"
  }
 },
 "nbformat": 4,
 "nbformat_minor": 1
}
