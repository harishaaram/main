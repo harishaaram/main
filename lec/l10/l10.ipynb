{
 "cells": [
  {
   "cell_type": "markdown",
   "metadata": {
    "slideshow": {
     "slide_type": "slide"
    }
   },
   "source": [
    "# CS579: Lecture 10  \n",
    "\n",
    "**Sentiment Analysis**\n",
    "\n",
    "*[Dr. Aron Culotta](http://cs.iit.edu/~culotta)*  \n",
    "*[Illinois Institute of Technology](http://iit.edu)*\n",
    "\n",
    "*Warning: Live Twitter data is used below, some or all of which may be offensive.*"
   ]
  },
  {
   "cell_type": "markdown",
   "metadata": {
    "slideshow": {
     "slide_type": "slide"
    }
   },
   "source": [
    "**sen·ti·ment**\n",
    "\n",
    "1. a view of or attitude toward a situation or event; an opinion.\n",
    "2. a feeling or emotion.\n"
   ]
  },
  {
   "cell_type": "markdown",
   "metadata": {
    "slideshow": {
     "slide_type": "slide"
    }
   },
   "source": [
    "**sen·ti·ment &nbsp; a·nal·y·sis ** \n",
    "\n",
    "1. classification of documents/messages by sentiment"
   ]
  },
  {
   "cell_type": "markdown",
   "metadata": {
    "slideshow": {
     "slide_type": "slide"
    }
   },
   "source": [
    "# Examples"
   ]
  },
  {
   "cell_type": "markdown",
   "metadata": {
    "slideshow": {
     "slide_type": "slide"
    }
   },
   "source": [
    "![tmnt.png](tmnt.png)"
   ]
  },
  {
   "cell_type": "markdown",
   "metadata": {
    "slideshow": {
     "slide_type": "slide"
    }
   },
   "source": [
    "![ufo](ufo.png)\n",
    "\n",
    "![ufo-review](ufo-review.png)"
   ]
  },
  {
   "cell_type": "markdown",
   "metadata": {
    "slideshow": {
     "slide_type": "slide"
    }
   },
   "source": [
    "![mcds](mcds.png)"
   ]
  },
  {
   "cell_type": "markdown",
   "metadata": {
    "slideshow": {
     "slide_type": "slide"
    }
   },
   "source": [
    "![rauner](rauner.png)\n",
    "![quinn](quinn.png)"
   ]
  },
  {
   "cell_type": "markdown",
   "metadata": {
    "slideshow": {
     "slide_type": "slide"
    }
   },
   "source": [
    "## Why is this hard?\n"
   ]
  },
  {
   "cell_type": "markdown",
   "metadata": {
    "slideshow": {
     "slide_type": "slide"
    }
   },
   "source": [
    "# Two Approaches\n",
    "\n",
    "- Lexicons (word lists)\n",
    "\n",
    "- Machine learning"
   ]
  },
  {
   "cell_type": "markdown",
   "metadata": {
    "slideshow": {
     "slide_type": "slide"
    }
   },
   "source": [
    "# Lexicons\n",
    "\n",
    "- List of terms with positive/negative/neutral sentiment\n",
    "\n",
    "- E.g., AFINN: http://neuro.imm.dtu.dk/wiki/AFINN\n"
   ]
  },
  {
   "cell_type": "code",
   "execution_count": 1,
   "metadata": {
    "collapsed": false
   },
   "outputs": [
    {
     "name": "stdout",
     "output_type": "stream",
     "text": [
      "read 2462 AFINN terms.\n",
      "E.g.: [('abandon', -2), ('abandoned', -2), ('abandons', -2), ('abducted', -2), ('abduction', -2), ('abductions', -2), ('abhor', -3), ('abhorred', -3), ('abhorrent', -3), ('abhors', -3)]\n"
     ]
    }
   ],
   "source": [
    "# Download the AFINN lexicon, unzip, and read the latest word list in AFINN-111.txt\n",
    "from collections import defaultdict\n",
    "from io import BytesIO\n",
    "from zipfile import ZipFile\n",
    "from urllib.request import urlopen\n",
    "\n",
    "url = urlopen('http://www2.compute.dtu.dk/~faan/data/AFINN.zip')\n",
    "zipfile = ZipFile(BytesIO(url.read()))\n",
    "afinn_file = zipfile.open('AFINN/AFINN-111.txt')\n",
    "\n",
    "afinn = dict()\n",
    "\n",
    "for line in afinn_file:\n",
    "    parts = line.strip().split()\n",
    "    if len(parts) == 2:\n",
    "        afinn[parts[0].decode(\"utf-8\")] = int(parts[1])\n",
    "\n",
    "print('read %d AFINN terms.\\nE.g.: %s' % (len(afinn), \n",
    "                                          str(list(afinn.items())[:10])))"
   ]
  },
  {
   "cell_type": "code",
   "execution_count": 2,
   "metadata": {
    "collapsed": false
   },
   "outputs": [
    {
     "data": {
      "text/plain": [
       "2462"
      ]
     },
     "execution_count": 2,
     "metadata": {},
     "output_type": "execute_result"
    }
   ],
   "source": [
    "len(afinn)"
   ]
  },
  {
   "cell_type": "code",
   "execution_count": 26,
   "metadata": {
    "collapsed": false
   },
   "outputs": [
    {
     "data": {
      "image/png": "[encoded data removed]",
      "text/plain": [
       "<matplotlib.figure.Figure at 0x11448b7b8>"
      ]
     },
     "metadata": {},
     "output_type": "display_data"
    }
   ],
   "source": [
    "# What is the distribution of scores?\n",
    "from collections import Counter\n",
    "import matplotlib.pyplot as plt\n",
    "%matplotlib inline\n",
    "\n",
    "counts = Counter(afinn.values())\n",
    "vals = sorted(counts.keys())\n",
    "\n",
    "plt.bar(vals, counts.values())\n",
    "plt.xticks(vals)\n",
    "plt.xlabel('negative <--       sentiment       --> positive')\n",
    "plt.ylabel('count')\n",
    "plt.show()"
   ]
  },
  {
   "cell_type": "code",
   "execution_count": 27,
   "metadata": {
    "collapsed": false
   },
   "outputs": [
    {
     "name": "stdout",
     "output_type": "stream",
     "text": [
      "\tscam=-2\n",
      "\tbroken=-1\n",
      "AFINN:  -3.0\n"
     ]
    }
   ],
   "source": [
    "# How do we score a document?\n",
    "def afinn_sentiment(terms, afinn):\n",
    "    total = 0.\n",
    "    for t in terms:\n",
    "        if t in afinn:\n",
    "            print('\\t%s=%d' % (t, afinn[t]))\n",
    "            total += afinn[t]\n",
    "    return total\n",
    "    \n",
    "doc = \"i don't know if this is a scam or if mine was broken\".split()\n",
    "print('AFINN: ', afinn_sentiment(doc, afinn))"
   ]
  },
  {
   "cell_type": "code",
   "execution_count": 28,
   "metadata": {
    "collapsed": false
   },
   "outputs": [
    {
     "name": "stdout",
     "output_type": "stream",
     "text": [
      "\tgood=3\n",
      "\tbad=-3\n",
      "AFINN:  0.0\n"
     ]
    }
   ],
   "source": [
    "# What if mixed sentiment?\n",
    "doc = \"it has a hokey plot that is both too good and bad\".split()\n",
    "print('AFINN: ', afinn_sentiment(doc, afinn))"
   ]
  },
  {
   "cell_type": "code",
   "execution_count": 29,
   "metadata": {
    "collapsed": false
   },
   "outputs": [
    {
     "name": "stdout",
     "output_type": "stream",
     "text": [
      "\tgood=3\n",
      "\tbad=-3\n",
      "AFINN: (3, 3)\n"
     ]
    }
   ],
   "source": [
    "# Distinguish neutral from pos/neg.\n",
    "# Return two scores per document.\n",
    "def afinn_sentiment2(terms, afinn, verbose=False):\n",
    "    pos = 0\n",
    "    neg = 0\n",
    "    for t in terms:\n",
    "        if t in afinn:\n",
    "            if verbose:\n",
    "                print('\\t%s=%d' % (t, afinn[t]))\n",
    "            if afinn[t] > 0:\n",
    "                pos += afinn[t]\n",
    "            else:\n",
    "                neg += -1 * afinn[t]\n",
    "    return pos, neg\n",
    "\n",
    "doc = \"it has a hokey plot that is both to good and bad\".split()\n",
    "print('AFINN:', afinn_sentiment2(doc, afinn, verbose=True))"
   ]
  },
  {
   "cell_type": "code",
   "execution_count": 30,
   "metadata": {
    "collapsed": false
   },
   "outputs": [
    {
     "name": "stdout",
     "output_type": "stream",
     "text": [
      "\tbad=-3\n",
      "AFINN: (0, 3)\n"
     ]
    }
   ],
   "source": [
    "doc = \"the plot is not bad\".split()\n",
    "print('AFINN:', afinn_sentiment2(doc, afinn, verbose=True))"
   ]
  },
  {
   "cell_type": "code",
   "execution_count": 31,
   "metadata": {
    "collapsed": false
   },
   "outputs": [],
   "source": [
    "import configparser\n",
    "from TwitterAPI import TwitterAPI\n",
    "\n",
    "# Get some tweets about McDonald's\n",
    "\n",
    "def get_twitter(config_file):\n",
    "    \"\"\" Read the config_file and construct an instance of TwitterAPI.\n",
    "    Args:\n",
    "      config_file ... A config file in ConfigParser format with Twitter credentials\n",
    "    Returns:\n",
    "      An instance of TwitterAPI.\n",
    "    \"\"\"\n",
    "    config = configparser.ConfigParser()\n",
    "    config.read(config_file)\n",
    "    twitter = TwitterAPI(\n",
    "                   config.get('twitter', 'consumer_key'),\n",
    "                   config.get('twitter', 'consumer_secret'),\n",
    "                   config.get('twitter', 'access_token'),\n",
    "                   config.get('twitter', 'access_token_secret'))\n",
    "    return twitter\n",
    "\n",
    "twitter = get_twitter('twitter.cfg')\n",
    "tweets = []\n",
    "for r in twitter.request('search/tweets',\n",
    "                         {'q': 'mcdonalds', 'count': 100}):\n",
    "    tweets.append(r)"
   ]
  },
  {
   "cell_type": "code",
   "execution_count": 32,
   "metadata": {
    "collapsed": false
   },
   "outputs": [
    {
     "name": "stdout",
     "output_type": "stream",
     "text": [
      "read 100 mcdonalds tweets\n"
     ]
    }
   ],
   "source": [
    "print('read %d mcdonalds tweets' % len(tweets))"
   ]
  },
  {
   "cell_type": "code",
   "execution_count": 33,
   "metadata": {
    "collapsed": false,
    "scrolled": true
   },
   "outputs": [
    {
     "name": "stdout",
     "output_type": "stream",
     "text": [
      "tokenized, e.g., \n",
      "RT @FemaleTexts: dont look at my twitter to see how my relationship is going I could tweet “I’m so done” n it’ll be cos my mum didn’t get m…\n",
      "to\n",
      "['rt', 'femaletexts', 'dont', 'look', 'at', 'my', 'twitter', 'to', 'see', 'how', 'my', 'relationship', 'is', 'going', 'i', 'could', 'tweet', 'i', 'm', 'so', 'done', 'n', 'it', 'll', 'be', 'cos', 'my', 'mum', 'didn', 't', 'get', 'm']\n"
     ]
    }
   ],
   "source": [
    "# Tokenize tweets\n",
    "import re\n",
    "\n",
    "# \\w = [a-zA-Z0-9_]\n",
    "def tokenize(text):\n",
    "    return re.sub('\\W+', ' ', text.lower()).split()\n",
    "\n",
    "tokens = [tokenize(t['text']) for t in tweets]\n",
    "print('tokenized, e.g., \\n%s\\nto\\n%s' % \n",
    "      (tweets[10]['text'], tokens[10]))\n",
    "#tweets[50]['user']['name']\n",
    "# tweets[50]['user']['screen_name']"
   ]
  },
  {
   "cell_type": "code",
   "execution_count": 34,
   "metadata": {
    "collapsed": false
   },
   "outputs": [
    {
     "data": {
      "text/plain": [
       "['hi',\n",
       " 'there',\n",
       " 'how',\n",
       " 'are',\n",
       " 'you',\n",
       " 'don',\n",
       " 't',\n",
       " 'you',\n",
       " 'awesome',\n",
       " 'awesome',\n",
       " 'http',\n",
       " 'www',\n",
       " 'good',\n",
       " 'com']"
      ]
     },
     "execution_count": 34,
     "metadata": {},
     "output_type": "execute_result"
    }
   ],
   "source": [
    "tokenize(\"Hi there how are you? Don't you ... #awesome @awesome http://www.good.com\")"
   ]
  },
  {
   "cell_type": "code",
   "execution_count": 35,
   "metadata": {
    "collapsed": false
   },
   "outputs": [],
   "source": [
    "positives = []\n",
    "negatives = []\n",
    "for token_list, tweet in zip(tokens, tweets):\n",
    "    pos, neg = afinn_sentiment2(token_list, afinn)\n",
    "    if pos > neg:\n",
    "        positives.append((tweet['text'], pos, neg))\n",
    "    elif neg > pos:\n",
    "        negatives.append((tweet['text'], pos, neg))"
   ]
  },
  {
   "cell_type": "code",
   "execution_count": 37,
   "metadata": {
    "collapsed": false
   },
   "outputs": [
    {
     "data": {
      "text/plain": [
       "14"
      ]
     },
     "execution_count": 37,
     "metadata": {},
     "output_type": "execute_result"
    }
   ],
   "source": [
    "len(negatives)"
   ]
  },
  {
   "cell_type": "code",
   "execution_count": 38,
   "metadata": {
    "collapsed": false,
    "scrolled": false
   },
   "outputs": [
    {
     "name": "stdout",
     "output_type": "stream",
     "text": [
      "6 1 @brad_schwartz We love hearing that you're a fan! Stop by for lunch again soon.\n",
      "6 3 i love when people told me that working at mcdonalds, you will start to hate the food. me, i started craving it more  LOL\n",
      "5 0 Watched @thefounderfilm and won’t be eating at @McDonalds anymore. Nothing like taking someone’s work and taking the credit! @McDonaldsCorp\n",
      "5 0 @McDonalds thank you for inspiring me\n",
      "5 0 @Ijooheons We hope you enjoy a tasty Big Mac soon!\n",
      "4 0 @McDonalds why won't you chop up my apple pie and put it in my McFlurry for me. Apple pie and ice cream!! I dont want them seperately 😣\n",
      "3 0 RT @TinyKitchenVids: Tiny McDonalds Happy Meal. 🍔🍟 https://t.co/aikdWYWfkR\n",
      "3 0 @LaurenEnchanted We love your dedication to deliciousness!\n",
      "3 0 @TheOGDib We love the enthusiasm! Can't wait to see you.\n",
      "3 0 @McDonalds \"\"best kosher food =Jewish meat cooked in an oven+red wine \" https://t.co/I2U9QfGPt5\n",
      "3 0 I remember when McDonalds nuggets box came with the little thing to put the sauce in 😪 good times\n",
      "2 0 @e_stefan_y Feed the need, pal! Hope to see you today.\n",
      "2 0 I liked a @YouTube video https://t.co/Qm7W1chTUg Spiderman McDONALDS DRIVE THRU Prank! w/ Frozen Elsa Joker Hulk Mickey Movie Kids\n",
      "2 0 @tjchirico2 @TheMinzProject enough people that McDonalds feels like sponsoring a car is a lucrative business ventur… https://t.co/GTReYW7l59\n",
      "2 1 RT @keithellison: C'mon McDonalds, Walmart, and everybody else. Pay your workers right! Thanks @Target @fightfor15\n",
      "1 0 when you ask if you can get mcdonalds on the way home and your mom says yes #blackplottwists\n",
      "1 0 @McDonalds Big Mac All Day 😃\n",
      "1 0 @JAKEYCAYABYAB Let's share a drink, Jacob!\n",
      "1 0 @charliemac60 @boomer2748 @william_fannon @warmerdaze @farringtonpegg2 .@ProcterGamble &amp; .@McDonalds are easy enuff… https://t.co/aXGRQDU0PS\n"
     ]
    }
   ],
   "source": [
    "# Print top positives:\n",
    "for tweet, pos, neg in sorted(positives,\n",
    "                              key=lambda x: x[1],\n",
    "                              reverse=True):\n",
    "    print(pos, neg, tweet)"
   ]
  },
  {
   "cell_type": "code",
   "execution_count": 41,
   "metadata": {
    "collapsed": false
   },
   "outputs": [
    {
     "name": "stdout",
     "output_type": "stream",
     "text": [
      "\twon=3\n",
      "\tlike=2\n"
     ]
    },
    {
     "data": {
      "text/plain": [
       "(5, 0)"
      ]
     },
     "execution_count": 41,
     "metadata": {},
     "output_type": "execute_result"
    }
   ],
   "source": [
    "afinn_sentiment2(tokenize('Watched @thefounderfilm and won’t be eating at @McDonalds anymore. Nothing like taking someone’s work and taking the credit! @McDonaldsCorp'),\n",
    "                 afinn, verbose=True)"
   ]
  },
  {
   "cell_type": "code",
   "execution_count": 42,
   "metadata": {
    "collapsed": false,
    "scrolled": false
   },
   "outputs": [
    {
     "name": "stdout",
     "output_type": "stream",
     "text": [
      "0 5 RT @callboyyy: Mama nein ich hab die 10 euro nicht für drogen ausgegeben ich war in Mcdonalds mit meinen Freunden\n",
      "0 5 RT @OceanGrownTREEZ: This Mcdonalds serve real niggas only. https://t.co/v8zxZIT3WP\n",
      "0 3 I've been on McDonalds five times in one week and I have no problem with that\n",
      "0 3 Харесах видеоклип в @YouTube – https://t.co/RqC0PBn0Y7 „McDONALDS BREAKFAST vs HOMEMADE - So bad we take the food\n",
      "0 2 Only at Williamston's McDonalds a lady would call the manager out to the drive thru ordering machine to complain with 10 cars behind her🤗\n",
      "0 2 RT @_Karlisimmons: I'll just starve before eating McDonalds\n",
      "0 2 passou uma propaganda do @McDonalds_BR  ali agora tem nem um gordo absurdo isso, me chamem\n",
      "0 1 Fue a comprar comida rápida y como no lo atendieron rápido amenazó con matar al vendedor https://t.co/glz3PmIPNB\n",
      "0 1 o jisung me levaria no mcdonalds\n",
      "0 1 McDonalds no se da cuenta de que si su servicio a domicilio llegase a mi resi, solo conmigo ya estarían el triple de forrados\n",
      "0 1 ong me leva no mcdonalds\n",
      "0 1 RT @ChuckNASCAR: CALL OUT ALL of these @NFL sponsors!\n",
      "DUMP THE NFL!! @AnheuserBusch @Campbells @Ford @CoverGirl @FedEx @Fritolay @Gillette…\n",
      "0 1 Alright it's official Mcdonalds chicken tenders are bomb\n",
      "0 1 RT @ChuckNASCAR: CALL OUT ALL of these @NFL sponsors!\n",
      "DUMP THE NFL!! @AnheuserBusch @Campbells @Ford @CoverGirl @FedEx @Fritolay @Gillette…\n"
     ]
    }
   ],
   "source": [
    "# Print top negatives:\n",
    "for tweet, pos, neg in sorted(negatives, key=lambda x: x[2], reverse=True):\n",
    "    print(pos, neg, tweet)"
   ]
  },
  {
   "cell_type": "code",
   "execution_count": 45,
   "metadata": {
    "collapsed": false
   },
   "outputs": [
    {
     "name": "stdout",
     "output_type": "stream",
     "text": [
      "\tno=-1\n"
     ]
    },
    {
     "data": {
      "text/plain": [
       "(0, 1)"
      ]
     },
     "execution_count": 45,
     "metadata": {},
     "output_type": "execute_result"
    }
   ],
   "source": [
    "afinn_sentiment2(tokenize(\"Fue a comprar comida rápida y como no lo atendieron rápido amenazó con matar al vendedor\"),\n",
    "                 afinn, verbose=True)"
   ]
  },
  {
   "cell_type": "markdown",
   "metadata": {},
   "source": [
    "# Sentiment Trends?\n",
    "![politico](politico.png)\n",
    "\n",
    "What can go wrong?\n",
    "\n",
    "<br><br><br><br>"
   ]
  },
  {
   "cell_type": "code",
   "execution_count": 46,
   "metadata": {
    "collapsed": false
   },
   "outputs": [
    {
     "name": "stdout",
     "output_type": "stream",
     "text": [
      "no count=5 sentiment=-1\n",
      "love count=4 sentiment=3\n",
      "big count=2 sentiment=1\n",
      "won count=2 sentiment=3\n",
      "like count=2 sentiment=2\n",
      "hope count=2 sentiment=2\n",
      "dump count=2 sentiment=-1\n",
      "yes count=1 sentiment=1\n",
      "happy count=1 sentiment=3\n",
      "complain count=1 sentiment=-2\n",
      "thank count=1 sentiment=2\n"
     ]
    }
   ],
   "source": [
    "# Which words contribute most to sentiment?\n",
    "all_counts = Counter()\n",
    "for tweet in tokens:\n",
    "    all_counts.update(tweet)\n",
    "sorted_tokens = sorted(all_counts.items(),\n",
    "                       key=lambda x:x[1],\n",
    "                       reverse=True)\n",
    "i = 0\n",
    "for token, count in sorted_tokens:\n",
    "    if token in afinn:\n",
    "        print('%s count=%d sentiment=%d' % (token, count, afinn[token]))\n",
    "        i += 1\n",
    "        if i > 10:\n",
    "            break"
   ]
  },
  {
   "cell_type": "code",
   "execution_count": 50,
   "metadata": {
    "collapsed": false,
    "scrolled": true
   },
   "outputs": [
    {
     "data": {
      "text/plain": [
       "[['rt',\n",
       "  'tinykitchenvids',\n",
       "  'tiny',\n",
       "  'mcdonalds',\n",
       "  'happy',\n",
       "  'meal',\n",
       "  'https',\n",
       "  't',\n",
       "  'co',\n",
       "  'aikdwywfkr']]"
      ]
     },
     "execution_count": 50,
     "metadata": {},
     "output_type": "execute_result"
    }
   ],
   "source": [
    "[t for t in tokens if 'happy' in t]"
   ]
  },
  {
   "cell_type": "markdown",
   "metadata": {},
   "source": [
    "# Part of speech?\n",
    "\n",
    "> *I hate McDonlads.*  \n",
    "> *Hate speech is wrong.*\n",
    "\n",
    "> *Rauner is lying.*  \n",
    "> *Lying in bed with the flu.*\n",
    "\n",
    "Noun/verb/adjective form of term may have different sentiment."
   ]
  },
  {
   "cell_type": "markdown",
   "metadata": {
    "slideshow": {
     "slide_type": "slide"
    }
   },
   "source": [
    "# WordNet\n",
    "\n",
    "- A database of words and their relations\n",
    "- http://wordnet.princeton.edu/\n",
    "- Statistics: http://wordnet.princeton.edu/wordnet/man/wnstats.7WN.html"
   ]
  },
  {
   "cell_type": "markdown",
   "metadata": {
    "slideshow": {
     "slide_type": "slide"
    }
   },
   "source": [
    "# WordNet\n",
    "\n",
    "- **Synset:**\n",
    "  - A list of synonyms\n",
    "  - E.g. [dog](http://wordnetweb.princeton.edu/perl/webwn?s=dog&sub=Search+WordNet&o2=&o0=1&o8=1&o1=1&o7=&o5=&o9=&o6=&o3=&o4=&h=11000000000000000000001000000000)\n",
    "- **Hypernym:**\n",
    "  - Y is a Hypernym of X if every X is a kind of Y\n",
    "    - **canine** is a hypernym of **dog**\n",
    "- **Hyponym:**\n",
    "  - Y is a Hyponym of X if every Y is a kind of X\n",
    "    - **dog** is a hyponym of **canine**\n",
    "    \n",
    "<br><br><br>\n",
    "\n",
    "<img src=\"https://upload.wikimedia.org/wikipedia/en/1/1f/Hyponymsandhypernyms.jpg\">"
   ]
  },
  {
   "cell_type": "markdown",
   "metadata": {},
   "source": [
    "# SentiWordNet\n",
    "\n",
    "http://sentiwordnet.isti.cnr.it/\n",
    "\n",
    "![senti](senti.png)\n",
    "\n",
    "[source](http://nmis.isti.cnr.it/sebastiani/Publications/LREC06.pdf)"
   ]
  },
  {
   "cell_type": "code",
   "execution_count": 58,
   "metadata": {
    "collapsed": false
   },
   "outputs": [
    {
     "name": "stdout",
     "output_type": "stream",
     "text": [
      "happy(a): negative_score=0.00 positive_score=0.88 objective_score=0.12\n"
     ]
    }
   ],
   "source": [
    "from nltk.corpus import sentiwordnet as swn\n",
    "# Depends on nltk (pip install nltk)\n",
    "# See http://www.nltk.org/data.html\n",
    "# must run nltk.download('sentiwordnet')\n",
    "happy = list(swn.senti_synsets('happy', 'a'))[0]\n",
    "\n",
    "print('happy(a): negative_score=%.2f positive_score=%.2f objective_score=%.2f' %\n",
    "      (happy.neg_score(), happy.pos_score(), happy.obj_score()))"
   ]
  },
  {
   "cell_type": "code",
   "execution_count": 59,
   "metadata": {
    "collapsed": false
   },
   "outputs": [
    {
     "name": "stdout",
     "output_type": "stream",
     "text": [
      "hate(n): negative_score=0.38 positive_score=0.12 objective_score=0.50\n"
     ]
    }
   ],
   "source": [
    "hate = list(swn.senti_synsets('hate', 'n'))[0]\n",
    "\n",
    "print('hate(n): negative_score=%.2f positive_score=%.2f objective_score=%.2f' %\n",
    "      (hate.neg_score(), hate.pos_score(), hate.obj_score()))"
   ]
  },
  {
   "cell_type": "code",
   "execution_count": 60,
   "metadata": {
    "collapsed": false
   },
   "outputs": [
    {
     "name": "stdout",
     "output_type": "stream",
     "text": [
      "hate(v): negative_score=0.75 positive_score=0.00 objective_score=0.25\n"
     ]
    }
   ],
   "source": [
    "hate = list(swn.senti_synsets('hate', 'v'))[0]\n",
    "\n",
    "print('hate(v): negative_score=%.2f positive_score=%.2f objective_score=%.2f' %\n",
    "      (hate.neg_score(), hate.pos_score(), hate.obj_score()))"
   ]
  },
  {
   "cell_type": "code",
   "execution_count": 65,
   "metadata": {
    "collapsed": false
   },
   "outputs": [
    {
     "name": "stdout",
     "output_type": "stream",
     "text": [
      "good(a): negative_score=0.00 positive_score=0.00 objective_score=1.00\n"
     ]
    }
   ],
   "source": [
    "good = list(swn.senti_synsets('good', 'a'))[1]\n",
    "print('good(a): negative_score=%.2f positive_score=%.2f objective_score=%.2f' %\n",
    "      (good.neg_score(), good.pos_score(), good.obj_score()))"
   ]
  }
 ],
 "metadata": {
  "kernelspec": {
   "display_name": "Python 3",
   "language": "python",
   "name": "python3"
  },
  "language_info": {
   "codemirror_mode": {
    "name": "ipython",
    "version": 3
   },
   "file_extension": ".py",
   "mimetype": "text/x-python",
   "name": "python",
   "nbconvert_exporter": "python",
   "pygments_lexer": "ipython3",
   "version": "3.6.0"
  }
 },
 "nbformat": 4,
 "nbformat_minor": 0
}
