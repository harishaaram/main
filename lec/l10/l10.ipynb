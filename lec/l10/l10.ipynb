{
 "cells": [
  {
   "cell_type": "markdown",
   "metadata": {
    "slideshow": {
     "slide_type": "slide"
    }
   },
   "source": [
    "# CS579: Lecture 10  \n",
    "\n",
    "**Sentiment Analysis**\n",
    "\n",
    "*[Dr. Aron Culotta](http://cs.iit.edu/~culotta)*  \n",
    "*[Illinois Institute of Technology](http://iit.edu)*\n",
    "\n",
    "*Warning: Live Twitter data is used below, some or all of which may be offensive.*"
   ]
  },
  {
   "cell_type": "markdown",
   "metadata": {
    "slideshow": {
     "slide_type": "slide"
    }
   },
   "source": [
    "**sen·ti·ment**\n",
    "\n",
    "1. a view of or attitude toward a situation or event; an opinion.\n",
    "2. a feeling or emotion.\n"
   ]
  },
  {
   "cell_type": "markdown",
   "metadata": {
    "slideshow": {
     "slide_type": "slide"
    }
   },
   "source": [
    "**sen·ti·ment &nbsp; a·nal·y·sis ** \n",
    "\n",
    "1. classification of documents/messages by sentiment"
   ]
  },
  {
   "cell_type": "markdown",
   "metadata": {
    "slideshow": {
     "slide_type": "slide"
    }
   },
   "source": [
    "# Examples"
   ]
  },
  {
   "cell_type": "markdown",
   "metadata": {
    "slideshow": {
     "slide_type": "slide"
    }
   },
   "source": [
    "![tmnt.png](tmnt.png)"
   ]
  },
  {
   "cell_type": "markdown",
   "metadata": {
    "slideshow": {
     "slide_type": "slide"
    }
   },
   "source": [
    "![ufo](ufo.png)\n",
    "\n",
    "![ufo-review](ufo-review.png)"
   ]
  },
  {
   "cell_type": "markdown",
   "metadata": {
    "slideshow": {
     "slide_type": "slide"
    }
   },
   "source": [
    "![mcds](mcds.png)"
   ]
  },
  {
   "cell_type": "markdown",
   "metadata": {
    "slideshow": {
     "slide_type": "slide"
    }
   },
   "source": [
    "![rauner](rauner.png)\n",
    "![quinn](quinn.png)"
   ]
  },
  {
   "cell_type": "markdown",
   "metadata": {
    "slideshow": {
     "slide_type": "slide"
    }
   },
   "source": [
    "## Why is this hard?\n"
   ]
  },
  {
   "cell_type": "markdown",
   "metadata": {
    "slideshow": {
     "slide_type": "slide"
    }
   },
   "source": [
    "# Two Approaches\n",
    "\n",
    "- Lexicons (word lists)\n",
    "\n",
    "- Machine learning"
   ]
  },
  {
   "cell_type": "code",
   "execution_count": 15,
   "metadata": {
    "collapsed": true
   },
   "outputs": [],
   "source": [
    "#harish: check out afinn link"
   ]
  },
  {
   "cell_type": "markdown",
   "metadata": {
    "slideshow": {
     "slide_type": "slide"
    }
   },
   "source": [
    "# Lexicons\n",
    "\n",
    "- List of terms with positive/negative/neutral sentiment\n",
    "\n",
    "- E.g., AFINN: http://neuro.imm.dtu.dk/wiki/AFINN\n"
   ]
  },
  {
   "cell_type": "code",
   "execution_count": null,
   "metadata": {},
   "outputs": [
    {
     "name": "stderr",
     "output_type": "stream",
     "text": [
      "<<<<<<< local\n"
     ]
    },
    {
     "name": "stdout",
     "output_type": "stream",
     "text": [
      "read 2462 AFINN terms.\n",
      "E.g.: [('stolen', -2), ('war', -2), ('leave', -1), ('appreciating', 2), ('derailed', -2), ('contentious', -2), ('disruptions', -2), ('desperately', -3), ('enjoy', 2), ('mess', -2)]\n"
     ]
    },
    {
     "name": "stderr",
     "output_type": "stream",
     "text": [
      "=======\n"
     ]
    },
    {
     "name": "stdout",
     "output_type": "stream",
     "text": [
      "read 2462 AFINN terms.\n",
      "E.g.: [('cock', -5), ('calms', 2), ('hooligan', -2), ('cut', -1), ('celebrate', 3), ('collide', -1), ('stamina', 2), ('yucky', -2), ('retard', -2), ('prepared', 1)]\n"
     ]
    },
    {
     "name": "stderr",
     "output_type": "stream",
     "text": [
      ">>>>>>> remote\n"
     ]
    }
   ],
   "source": [
    "# Download the AFINN lexicon, unzip, and read the latest word list in AFINN-111.txt\n",
    "from collections import defaultdict\n",
    "from io import BytesIO\n",
    "from zipfile import ZipFile\n",
    "from urllib.request import urlopen\n",
    "\n",
    "url = urlopen('http://www2.compute.dtu.dk/~faan/data/AFINN.zip')\n",
    "zipfile = ZipFile(BytesIO(url.read()))\n",
    "afinn_file = zipfile.open('AFINN/AFINN-111.txt')\n",
    "\n",
    "afinn = dict()\n",
    "\n",
    "for line in afinn_file:\n",
    "    parts = line.strip().split()\n",
    "    if len(parts) == 2:\n",
    "        afinn[parts[0].decode(\"utf-8\")] = int(parts[1])\n",
    "\n",
    "print('read %d AFINN terms.\\nE.g.: %s' % (len(afinn), \n",
    "                                          str(list(afinn.items())[:10])))"
   ]
  },
  {
   "cell_type": "code",
   "execution_count": null,
   "metadata": {
    "scrolled": true
   },
   "outputs": [
    {
     "data": {
      "text/plain": [
       "2462"
      ]
     },
     "execution_count": null,
     "metadata": {},
     "output_type": "execute_result"
    }
   ],
   "source": [
    "len(afinn)"
   ]
  },
  {
   "cell_type": "code",
   "execution_count": 16,
   "metadata": {},
   "outputs": [
    {
     "data": {
      "text/plain": [
       "[('twat', -5),\n",
       " ('slut', -5),\n",
       " ('bitch', -5),\n",
       " ('cock', -5),\n",
       " ('bitches', -5),\n",
       " ('niggas', -5),\n",
       " ('prick', -5),\n",
       " ('son-of-a-bitch', -5),\n",
       " ('motherfucker', -5),\n",
       " ('cocksuckers', -5),\n",
       " ('cunt', -5),\n",
       " ('bastard', -5),\n",
       " ('cocksucker', -5),\n",
       " ('bastards', -5),\n",
       " ('nigger', -5),\n",
       " ('motherfucking', -5),\n",
       " ('damned', -4),\n",
       " ('tortures', -4),\n",
       " ('catastrophic', -4),\n",
       " ('pissed', -4),\n",
       " ('wtf', -4),\n",
       " ('fraudsters', -4),\n",
       " ('jackasses', -4),\n",
       " ('fuckers', -4),\n",
       " ('shrew', -4),\n",
       " ('fucking', -4),\n",
       " ('shit', -4),\n",
       " ('torturing', -4),\n",
       " ('jackass', -4),\n",
       " ('whore', -4),\n",
       " ('frauds', -4),\n",
       " ('fuckhead', -4),\n",
       " ('damn', -4),\n",
       " ('tortured', -4),\n",
       " ('scumbag', -4),\n",
       " ('fuked', -4),\n",
       " ('fuck', -4),\n",
       " ('piss', -4),\n",
       " ('bullshit', -4),\n",
       " ('fucktard', -4),\n",
       " ('shithead', -4),\n",
       " ('torture', -4),\n",
       " ('fraudulence', -4),\n",
       " ('damnit', -4),\n",
       " ('ass', -4),\n",
       " ('fraudulent', -4),\n",
       " ('fraudster', -4),\n",
       " ('fraud', -4),\n",
       " ('rapist', -4),\n",
       " ('dickhead', -4),\n",
       " ('fuckface', -4),\n",
       " ('fucker', -4),\n",
       " ('rape', -4),\n",
       " ('assfucking', -4),\n",
       " ('hell', -4),\n",
       " ('asshole', -4),\n",
       " ('fucked', -4),\n",
       " ('dick', -4),\n",
       " ('fuking', -4),\n",
       " ('desperately', -3),\n",
       " ('hysterical', -3),\n",
       " ('treason', -3),\n",
       " ('faking', -3),\n",
       " ('victim', -3),\n",
       " ('idiot', -3),\n",
       " ('cruel', -3),\n",
       " ('mediocrity', -3),\n",
       " ('agonised', -3),\n",
       " ('nuts', -3),\n",
       " ('killing', -3),\n",
       " ('died', -3),\n",
       " ('mad', -3),\n",
       " ('loathed', -3),\n",
       " ('falsified', -3),\n",
       " ('betraying', -3),\n",
       " ('fatalities', -3),\n",
       " ('abusive', -3),\n",
       " ('cheated', -3),\n",
       " ('shitty', -3),\n",
       " ('destroyed', -3),\n",
       " ('greenwashing', -3),\n",
       " ('charmless', -3),\n",
       " ('spammers', -3),\n",
       " ('irritating', -3),\n",
       " ('guilt', -3),\n",
       " ('colluding', -3),\n",
       " ('horrendous', -3),\n",
       " ('abhor', -3),\n",
       " ('angry', -3),\n",
       " ('worst', -3),\n",
       " ('distrust', -3),\n",
       " ('desperate', -3),\n",
       " ('kill', -3),\n",
       " ('evil', -3),\n",
       " ('hysteria', -3),\n",
       " ('badly', -3),\n",
       " ('whitewash', -3),\n",
       " ('outraged', -3),\n",
       " ('defects', -3),\n",
       " ('ranters', -3),\n",
       " ('angers', -3),\n",
       " ('victimizes', -3),\n",
       " ('deceitful', -3),\n",
       " ('lost', -3),\n",
       " ('disastrous', -3),\n",
       " ('charged', -3),\n",
       " ('liars', -3),\n",
       " ('direful', -3),\n",
       " ('rant', -3),\n",
       " ('agonize', -3),\n",
       " ('cruelty', -3),\n",
       " ('killed', -3),\n",
       " ('boring', -3),\n",
       " ('swindling', -3),\n",
       " ('douche', -3),\n",
       " ('crime', -3),\n",
       " ('bribe', -3),\n",
       " ('deception', -3),\n",
       " ('irate', -3),\n",
       " ('destroys', -3),\n",
       " ('greed', -3),\n",
       " ('victimized', -3),\n",
       " ('outrage', -3),\n",
       " ('hysterics', -3),\n",
       " ('deceived', -3),\n",
       " ('treasonous', -3),\n",
       " ('horrible', -3),\n",
       " ('faggots', -3),\n",
       " ('warnings', -3),\n",
       " ('ranter', -3),\n",
       " ('brainwashing', -3),\n",
       " ('cheaters', -3),\n",
       " ('illegal', -3),\n",
       " ('slavery', -3),\n",
       " ('agonise', -3),\n",
       " ('warning', -3),\n",
       " ('dumb', -3),\n",
       " ('dipshit', -3),\n",
       " ('bankrupt', -3),\n",
       " ('fake', -3),\n",
       " ('agonized', -3),\n",
       " ('racists', -3),\n",
       " ('scandal', -3),\n",
       " ('anger', -3),\n",
       " ('distrustful', -3),\n",
       " ('perjury', -3),\n",
       " ('frightening', -3),\n",
       " ('deceives', -3),\n",
       " ('dreadful', -3),\n",
       " ('fatality', -3),\n",
       " ('loathing', -3),\n",
       " ('cover-up', -3),\n",
       " ('destruction', -3),\n",
       " ('anguished', -3),\n",
       " ('obnoxious', -3),\n",
       " ('terribly', -3),\n",
       " ('faggot', -3),\n",
       " ('suck', -3),\n",
       " ('racism', -3),\n",
       " ('humiliation', -3),\n",
       " ('chastises', -3),\n",
       " ('humiliated', -3),\n",
       " ('fag', -3),\n",
       " ('victimize', -3),\n",
       " ('woeful', -3),\n",
       " ('haters', -3),\n",
       " ('betrayal', -3),\n",
       " ('horrified', -3),\n",
       " ('scandals', -3),\n",
       " ('chastising', -3),\n",
       " ('fiasco', -3),\n",
       " ('murdering', -3),\n",
       " ('horrific', -3),\n",
       " ('despairs', -3),\n",
       " ('miserable', -3),\n",
       " ('disgusted', -3),\n",
       " ('loose', -3),\n",
       " ('apathetic', -3),\n",
       " ('hated', -3),\n",
       " ('worrying', -3),\n",
       " ('terrorizes', -3),\n",
       " ('terrorized', -3),\n",
       " ('violence', -3),\n",
       " ('apeshit', -3),\n",
       " ('guilty', -3),\n",
       " ('destroying', -3),\n",
       " ('terrorize', -3),\n",
       " ('catastrophe', -3),\n",
       " ('agonizes', -3),\n",
       " ('nasty', -3),\n",
       " ('abuses', -3),\n",
       " ('felonies', -3),\n",
       " ('panicked', -3),\n",
       " ('imbecile', -3),\n",
       " ('douchebag', -3),\n",
       " ('betrayed', -3),\n",
       " ('deceive', -3),\n",
       " ('trauma', -3),\n",
       " ('sinful', -3),\n",
       " ('betrays', -3),\n",
       " ('racist', -3),\n",
       " ('greenwasher', -3),\n",
       " ('irritated', -3),\n",
       " ('bad', -3),\n",
       " ('loathes', -3),\n",
       " ('assassination', -3),\n",
       " ('deceit', -3),\n",
       " ('crap', -3),\n",
       " ('moron', -3),\n",
       " ('withdrawal', -3),\n",
       " ('greenwashers', -3),\n",
       " ('agonises', -3),\n",
       " ('heartbroken', -3),\n",
       " ('criminals', -3),\n",
       " ('cheats', -3),\n",
       " ('hate', -3),\n",
       " ('kills', -3),\n",
       " ('maddening', -3),\n",
       " ('worry', -3),\n",
       " ('victims', -3),\n",
       " ('die', -3),\n",
       " ('bankster', -3),\n",
       " ('pissing', -3),\n",
       " ('betray', -3),\n",
       " ('badass', -3),\n",
       " ('despondent', -3),\n",
       " ('losing', -3),\n",
       " ('worse', -3),\n",
       " ('terrified', -3),\n",
       " ('worsens', -3),\n",
       " ('despair', -3),\n",
       " ('fakes', -3),\n",
       " ('falsify', -3),\n",
       " ('conspiracy', -3),\n",
       " ('terrible', -3),\n",
       " ('destructive', -3),\n",
       " ('victimizing', -3),\n",
       " ('madness', -3),\n",
       " ('despairing', -3),\n",
       " ('greenwash', -3),\n",
       " ('cheater', -3),\n",
       " ('cheat', -3),\n",
       " ('ridiculous', -3),\n",
       " ('terror', -3),\n",
       " ('murderous', -3),\n",
       " ('loathe', -3),\n",
       " ('chastised', -3),\n",
       " ('criminal', -3),\n",
       " ('lunatics', -3),\n",
       " ('apathy', -3),\n",
       " ('vitriolic', -3),\n",
       " ('panics', -3),\n",
       " ('agonising', -3),\n",
       " ('dumbass', -3),\n",
       " ('abuse', -3),\n",
       " ('lunatic', -3),\n",
       " ('pseudoscience', -3),\n",
       " ('arrested', -3),\n",
       " ('crisis', -3),\n",
       " ('idiotic', -3),\n",
       " ('misleading', -3),\n",
       " ('heartbreaking', -3),\n",
       " ('panic', -3),\n",
       " ('liar', -3),\n",
       " ('dire', -3),\n",
       " ('fud', -3),\n",
       " ('abhorred', -3),\n",
       " ('anguish', -3),\n",
       " ('selfishness', -3),\n",
       " ('hates', -3),\n",
       " ('assassinations', -3),\n",
       " ('worried', -3),\n",
       " ('violent', -3),\n",
       " ('loss', -3),\n",
       " ('deceiving', -3),\n",
       " ('swindles', -3),\n",
       " ('defect', -3),\n",
       " ('worsening', -3),\n",
       " ('furious', -3),\n",
       " ('swindle', -3),\n",
       " ('agonizing', -3),\n",
       " ('damages', -3),\n",
       " ('looses', -3),\n",
       " ('madly', -3),\n",
       " ('abused', -3),\n",
       " ('wrathful', -3),\n",
       " ('jerk', -3),\n",
       " ('scandalous', -3),\n",
       " ('abhorrent', -3),\n",
       " ('hating', -3),\n",
       " ('awful', -3),\n",
       " ('ugly', -3),\n",
       " ('loser', -3),\n",
       " ('chastise', -3),\n",
       " ('selfish', -3),\n",
       " ('sucks', -3),\n",
       " ('disgust', -3),\n",
       " ('bloody', -3),\n",
       " ('goddamn', -3),\n",
       " ('disgusting', -3),\n",
       " ('wanker', -3),\n",
       " ('destroy', -3),\n",
       " ('worsen', -3),\n",
       " ('vile', -3),\n",
       " ('dead', -3),\n",
       " ('rants', -3),\n",
       " ('abhors', -3),\n",
       " ('frenzy', -3),\n",
       " ('spammer', -3),\n",
       " ('traumatic', -3),\n",
       " ('felony', -3),\n",
       " ('irritate', -3),\n",
       " ('acrimonious', -3),\n",
       " ('worsened', -3),\n",
       " ('damage', -3),\n",
       " ('stolen', -2),\n",
       " ('war', -2),\n",
       " ('derailed', -2),\n",
       " ('contentious', -2),\n",
       " ('disruptions', -2),\n",
       " ('mess', -2),\n",
       " ('stabbed', -2),\n",
       " ('haplessness', -2),\n",
       " ('strikers', -2),\n",
       " ('oversells', -2),\n",
       " ('interrupt', -2),\n",
       " ('slashing', -2),\n",
       " ('violating', -2),\n",
       " ('dull', -2),\n",
       " ('lethargy', -2),\n",
       " ('failure', -2),\n",
       " ('disinclined', -2),\n",
       " ('lagging', -2),\n",
       " ('indecisive', -2),\n",
       " ('contagions', -2),\n",
       " ('eerie', -2),\n",
       " ('collapsing', -2),\n",
       " ('hopelessness', -2),\n",
       " ('overreacted', -2),\n",
       " ('lonely', -2),\n",
       " ('harsh', -2),\n",
       " ('undermines', -2),\n",
       " ('thorny', -2),\n",
       " ('casualty', -2),\n",
       " ('exaggerates', -2),\n",
       " ('exaggerate', -2),\n",
       " ('dehumanized', -2),\n",
       " ('coward', -2),\n",
       " ('noob', -2),\n",
       " ('disappoints', -2),\n",
       " ('depressed', -2),\n",
       " ('distorts', -2),\n",
       " ('wrong', -2),\n",
       " ('walkout', -2),\n",
       " ('dishonest', -2),\n",
       " ('apocalyptic', -2),\n",
       " ('fainthearted', -2),\n",
       " ('downside', -2),\n",
       " ('insulting', -2),\n",
       " ('disgrace', -2),\n",
       " ('mistakes', -2),\n",
       " ('moaning', -2),\n",
       " ('swear', -2),\n",
       " ('negative', -2),\n",
       " ('ennui', -2),\n",
       " ('overselling', -2),\n",
       " ('admonish', -2),\n",
       " ('shocks', -2),\n",
       " ('overreacts', -2),\n",
       " ('travesty', -2),\n",
       " ('aching', -2),\n",
       " ('giddy', -2),\n",
       " ('dirtier', -2),\n",
       " ('snubbing', -2),\n",
       " ('hypocritical', -2),\n",
       " ('disconsolation', -2),\n",
       " ('appalled', -2),\n",
       " ('complain', -2),\n",
       " ('harming', -2),\n",
       " ('sentenced', -2),\n",
       " ('moaned', -2),\n",
       " ('intimidated', -2),\n",
       " ('fails', -2),\n",
       " ('unconcerned', -2),\n",
       " ('boycotted', -2),\n",
       " ('scam', -2),\n",
       " ('anxiety', -2),\n",
       " ('bothered', -2),\n",
       " ('collapses', -2),\n",
       " ('protesting', -2),\n",
       " ('condemn', -2),\n",
       " ('retard', -2),\n",
       " ('unacceptable', -2),\n",
       " ('warn', -2),\n",
       " ('firing', -2),\n",
       " ('disappointments', -2),\n",
       " ('critics', -2),\n",
       " ('poison', -2),\n",
       " ('disconsolate', -2),\n",
       " ('lawsuits', -2),\n",
       " ('murderer', -2),\n",
       " ('disregard', -2),\n",
       " ('enemies', -2),\n",
       " ('harried', -2),\n",
       " ('feeble', -2),\n",
       " ('fascists', -2),\n",
       " ('perplexed', -2),\n",
       " ('slash', -2),\n",
       " ('allergic', -2),\n",
       " ('screaming', -2),\n",
       " ('ineffectively', -2),\n",
       " ('nervously', -2),\n",
       " ('robs', -2),\n",
       " ('arrogant', -2),\n",
       " ('disparaged', -2),\n",
       " ('misbehave', -2),\n",
       " ('abandoned', -2),\n",
       " ('screwed', -2),\n",
       " ('undermining', -2),\n",
       " ('steals', -2),\n",
       " ('moans', -2),\n",
       " ('derided', -2),\n",
       " ('bitter', -2),\n",
       " ('infuriated', -2),\n",
       " ('dupe', -2),\n",
       " ('flop', -2),\n",
       " ('charges', -2),\n",
       " ('lobbying', -2),\n",
       " ('pessimism', -2),\n",
       " ('suffering', -2),\n",
       " ('unsatisfied', -2),\n",
       " ('indifference', -2),\n",
       " ('bully', -2),\n",
       " ('contestable', -2),\n",
       " ('belittled', -2),\n",
       " ('drowns', -2),\n",
       " ('regretted', -2),\n",
       " ('revenge', -2),\n",
       " ('unresearched', -2),\n",
       " ('offend', -2),\n",
       " ('zealot', -2),\n",
       " ('oversimplifies', -2),\n",
       " ('alarm', -2),\n",
       " ('huckster', -2),\n",
       " ('suicide', -2),\n",
       " ('constrained', -2),\n",
       " ('frustrated', -2),\n",
       " ('denying', -2),\n",
       " ('fired', -2),\n",
       " ('embarrassed', -2),\n",
       " ('scams', -2),\n",
       " ('annoying', -2),\n",
       " ('pathetic', -2),\n",
       " ('pesky', -2),\n",
       " ('derides', -2),\n",
       " ('death', -2),\n",
       " ('misinformed', -2),\n",
       " ('harmed', -2),\n",
       " ('annoyed', -2),\n",
       " ('touted', -2),\n",
       " ('distress', -2),\n",
       " ('unsupported', -2),\n",
       " ('dissatisfied', -2),\n",
       " ('rage', -2),\n",
       " ('collisions', -2),\n",
       " ('wasted', -2),\n",
       " ('obsolete', -2),\n",
       " ('blurry', -2),\n",
       " ('error', -2),\n",
       " ('danger', -2),\n",
       " ('monopolize', -2),\n",
       " ('vulnerability', -2),\n",
       " ('inconvenience', -2),\n",
       " ('cheerless', -2),\n",
       " ('tricked', -2),\n",
       " ('disqualified', -2),\n",
       " ('annoyance', -2),\n",
       " ('propaganda', -2),\n",
       " ('sadly', -2),\n",
       " ('offends', -2),\n",
       " ('punished', -2),\n",
       " ('dodgy', -2),\n",
       " ('fatigue', -2),\n",
       " ('lethargic', -2),\n",
       " ('alarmists', -2),\n",
       " ('pained', -2),\n",
       " ('phobic', -2),\n",
       " ('doomed', -2),\n",
       " ('interrupted', -2),\n",
       " ('gross', -2),\n",
       " ('woebegone', -2),\n",
       " ('neglects', -2),\n",
       " ('lags', -2),\n",
       " ('oversimplification', -2),\n",
       " ('criticism', -2),\n",
       " ('blame', -2),\n",
       " ('sceptical', -2),\n",
       " ('pique', -2),\n",
       " ('enemy', -2),\n",
       " ('incapable', -2),\n",
       " ('dirty', -2),\n",
       " ('struggled', -2),\n",
       " ('glum', -2),\n",
       " ('questionable', -2),\n",
       " ('thoughtless', -2),\n",
       " ('devastated', -2),\n",
       " ('enraged', -2),\n",
       " ('trembling', -2),\n",
       " ('regret', -2),\n",
       " ('crazier', -2),\n",
       " ('contemptuous', -2),\n",
       " ('bothersome', -2),\n",
       " ('punish', -2),\n",
       " ('antagonistic', -2),\n",
       " ('drowned', -2),\n",
       " ('disorganized', -2),\n",
       " ('itchy', -2),\n",
       " ('steal', -2),\n",
       " ('censors', -2),\n",
       " ('dejecting', -2),\n",
       " ('bullied', -2),\n",
       " ('unworthy', -2),\n",
       " ('indoctrinates', -2),\n",
       " ('hurting', -2),\n",
       " ('overstatements', -2),\n",
       " ('forgetful', -2),\n",
       " ('arrests', -2),\n",
       " ('moan', -2),\n",
       " ('denier', -2),\n",
       " ('frikin', -2),\n",
       " ('trouble', -2),\n",
       " ('spam', -2),\n",
       " ('robber', -2),\n",
       " ('burdened', -2),\n",
       " ('condemned', -2),\n",
       " ('brooding', -2),\n",
       " ('hurt', -2),\n",
       " ('tits', -2),\n",
       " ('skeptics', -2),\n",
       " ('nonsense', -2),\n",
       " ('insane', -2),\n",
       " ('bother', -2),\n",
       " ('subversive', -2),\n",
       " ('poisons', -2),\n",
       " ('notorious', -2),\n",
       " ('insensitivity', -2),\n",
       " ('oversell', -2),\n",
       " ('greedy', -2),\n",
       " ('threatens', -2),\n",
       " ('shame', -2),\n",
       " ('touts', -2),\n",
       " ('accused', -2),\n",
       " ('alarmist', -2),\n",
       " ('scapegoat', -2),\n",
       " ('unsophisticated', -2),\n",
       " ('failing', -2),\n",
       " ('stupidly', -2),\n",
       " ('ashame', -2),\n",
       " ('contempt', -2),\n",
       " ('foolish', -2),\n",
       " ('eery', -2),\n",
       " ('conflicting', -2),\n",
       " ('violates', -2),\n",
       " ('deride', -2),\n",
       " ('harm', -2),\n",
       " ('condemnation', -2),\n",
       " ('disaster', -2),\n",
       " ('sigh', -2),\n",
       " ('problems', -2),\n",
       " ('misunderstanding', -2),\n",
       " ('jealous', -2),\n",
       " ('infected', -2),\n",
       " ('chaotic', -2),\n",
       " ('scold', -2),\n",
       " ('naive', -2),\n",
       " ('seditious', -2),\n",
       " ('conflictive', -2),\n",
       " ('exploits', -2),\n",
       " ('deriding', -2),\n",
       " ('gag', -2),\n",
       " ('dolorous', -2),\n",
       " ('fidgety', -2),\n",
       " ('embarrasses', -2),\n",
       " ('sentencing', -2),\n",
       " ('unprofessional', -2),\n",
       " ('indifferent', -2),\n",
       " ('unjust', -2),\n",
       " ('quaking', -2),\n",
       " ('obstacles', -2),\n",
       " ('suspicious', -2),\n",
       " ('smear', -2),\n",
       " ('arrest', -2),\n",
       " ('fuming', -2),\n",
       " ('unwanted', -2),\n",
       " ('barrier', -2),\n",
       " ('fool', -2),\n",
       " ('drained', -2),\n",
       " ('dislike', -2),\n",
       " ('dubious', -2),\n",
       " ('shamed', -2),\n",
       " ('outmaneuvered', -2),\n",
       " ('discord', -2),\n",
       " ('dehumanize', -2),\n",
       " ('stressor', -2),\n",
       " ('mocked', -2),\n",
       " ('darkest', -2),\n",
       " ('tense', -2),\n",
       " ('thwarted', -2),\n",
       " ('coerced', -2),\n",
       " ('grieved', -2),\n",
       " ('disbelieve', -2),\n",
       " ('denounce', -2),\n",
       " ('fail', -2),\n",
       " ('lugubrious', -2),\n",
       " ('disturbing', -2),\n",
       " ('cocky', -2),\n",
       " ('unlovable', -2),\n",
       " ('frustrating', -2),\n",
       " ('distract', -2),\n",
       " ('boycotts', -2),\n",
       " ('conflicts', -2),\n",
       " ('alarmed', -2),\n",
       " ('bailout', -2),\n",
       " ('disoriented', -2),\n",
       " ('monopolizing', -2),\n",
       " ('overstatement', -2),\n",
       " ('yucky', -2),\n",
       " ('bereaving', -2),\n",
       " ('stalled', -2),\n",
       " ('weird', -2),\n",
       " ('struggles', -2),\n",
       " ('perturbed', -2),\n",
       " ('pressured', -2),\n",
       " ('deficit', -2),\n",
       " ('indignant', -2),\n",
       " ('careless', -2),\n",
       " ('sulking', -2),\n",
       " ('intimidates', -2),\n",
       " ('bamboozle', -2),\n",
       " ('risks', -2),\n",
       " ('stressors', -2),\n",
       " ('insult', -2),\n",
       " ('devastate', -2),\n",
       " ('tired', -2),\n",
       " ('gloomy', -2),\n",
       " ('stricken', -2),\n",
       " ('meaningless', -2),\n",
       " ('ineffective', -2),\n",
       " ('stunned', -2),\n",
       " ('shameful', -2),\n",
       " ('infringement', -2),\n",
       " ('warfare', -2),\n",
       " ('emergency', -2),\n",
       " ('dumped', -2),\n",
       " ('melancholy', -2),\n",
       " ('denies', -2),\n",
       " ('criticizes', -2),\n",
       " ('unimpressed', -2),\n",
       " ('critic', -2),\n",
       " ('unstable', -2),\n",
       " ('frustrates', -2),\n",
       " ('restricting', -2),\n",
       " ('remorse', -2),\n",
       " ('envious', -2),\n",
       " ('afraid', -2),\n",
       " ('illnesses', -2),\n",
       " ('errors', -2),\n",
       " ('dread', -2),\n",
       " ('disregarding', -2),\n",
       " ('mocking', -2),\n",
       " ('chagrin', -2),\n",
       " ('exploiting', -2),\n",
       " ('uselessness', -2),\n",
       " ('fools', -2),\n",
       " ('hapless', -2),\n",
       " ('disheartened', -2),\n",
       " ('naïve', -2),\n",
       " ('frustration', -2),\n",
       " ('menace', -2),\n",
       " ('unapproved', -2),\n",
       " ('hesitate', -2),\n",
       " ('dehumanizes', -2),\n",
       " ('denounces', -2),\n",
       " ('depressing', -2),\n",
       " ('swears', -2),\n",
       " ('unsecured', -2),\n",
       " ('suicidal', -2),\n",
       " ('disquiet', -2),\n",
       " ('frightened', -2),\n",
       " ('stubborn', -2),\n",
       " ('weeping', -2),\n",
       " ('mourned', -2),\n",
       " ('singleminded', -2),\n",
       " ('ignored', -2),\n",
       " ('disturb', -2),\n",
       " ('disappointed', -2),\n",
       " ('denied', -2),\n",
       " ('bitterly', -2),\n",
       " ('offended', -2),\n",
       " ('restricts', -2),\n",
       " ('shaky', -2),\n",
       " ('powerless', -2),\n",
       " ('misery', -2),\n",
       " ('insults', -2),\n",
       " ('infuriating', -2),\n",
       " ('unethical', -2),\n",
       " ('sorrowful', -2),\n",
       " ('touting', -2),\n",
       " ('pollute', -2),\n",
       " ('criticized', -2),\n",
       " ('totalitarianism', -2),\n",
       " ('virulent', -2),\n",
       " ('spamming', -2),\n",
       " ('interruption', -2),\n",
       " ('wreck', -2),\n",
       " ('distressing', -2),\n",
       " ('accidental', -2),\n",
       " ('distressed', -2),\n",
       " ('contemptuously', -2),\n",
       " ('useless', -2),\n",
       " ('bizarre', -2),\n",
       " ('dreary', -2),\n",
       " ('chokes', -2),\n",
       " ('threaten', -2),\n",
       " ('interrupts', -2),\n",
       " ('harsher', -2),\n",
       " ('ache', -2),\n",
       " ('uneasy', -2),\n",
       " ('scorn', -2),\n",
       " ('duped', -2),\n",
       " ('bereaves', -2),\n",
       " ('disadvantage', -2),\n",
       " ('expel', -2),\n",
       " ('deject', -2),\n",
       " ('unemployment', -2),\n",
       " ('imprisoned', -2),\n",
       " ('incompetent', -2),\n",
       " ('disrespect', -2),\n",
       " ('helpless', -2),\n",
       " ('prisoners', -2),\n",
       " ('prison', -2),\n",
       " ('hooligans', -2),\n",
       " ('insecure', -2),\n",
       " ('blaming', -2),\n",
       " ('trapped', -2),\n",
       " ('degrades', -2),\n",
       " ('apprehensive', -2),\n",
       " ('threatened', -2),\n",
       " ('shortages', -2),\n",
       " ('scare', -2),\n",
       " ('impotent', -2),\n",
       " ('missing', -2),\n",
       " ('misrepresentation', -2),\n",
       " ('derail', -2),\n",
       " ('unhappy', -2),\n",
       " ('missed', -2),\n",
       " ('walkouts', -2),\n",
       " ('neglect', -2),\n",
       " ('imperfect', -2),\n",
       " ('disillusioned', -2),\n",
       " ('puzzled', -2),\n",
       " ('harms', -2),\n",
       " ('vexing', -2),\n",
       " ('disappoint', -2),\n",
       " ('struggling', -2),\n",
       " ('riot', -2),\n",
       " ('stingy', -2),\n",
       " ('warned', -2),\n",
       " ('costly', -2),\n",
       " ('threatening', -2),\n",
       " ('disappointment', -2),\n",
       " ('mournful', -2),\n",
       " ('intimidate', -2),\n",
       " ('vexation', -2),\n",
       " ('libelous', -2),\n",
       " ('censored', -2),\n",
       " ('inability', -2),\n",
       " ('weep', -2),\n",
       " ('demoralized', -2),\n",
       " ('optionless', -2),\n",
       " ('wasting', -2),\n",
       " ('accidents', -2),\n",
       " ('skeptic', -2),\n",
       " ('struggle', -2),\n",
       " ('tragic', -2),\n",
       " ('starved', -2),\n",
       " ('toothless', -2),\n",
       " ('exaggerated', -2),\n",
       " ('inaction', -2),\n",
       " ('cynicism', -2),\n",
       " ('sedition', -2),\n",
       " ('ruins', -2),\n",
       " ('inconvenient', -2),\n",
       " ('dithering', -2),\n",
       " ('obliterated', -2),\n",
       " ('infuriates', -2),\n",
       " ('prosecuted', -2),\n",
       " ('oversimplified', -2),\n",
       " ('foreclosures', -2),\n",
       " ('shock', -2),\n",
       " ('somber', -2),\n",
       " ('gagged', -2),\n",
       " ('misunderstand', -2),\n",
       " ('intimidation', -2),\n",
       " ('misbehaves', -2),\n",
       " ('aggression', -2),\n",
       " ('diffident', -2),\n",
       " ('starves', -2),\n",
       " ('troubled', -2),\n",
       " ('retarded', -2),\n",
       " ('mocks', -2),\n",
       " ('degrade', -2),\n",
       " ('disputed', -2),\n",
       " ('jailed', -2),\n",
       " ('rash', -2),\n",
       " ('bullying', -2),\n",
       " ('refuse', -2),\n",
       " ('accusing', -2),\n",
       " ('vicious', -2),\n",
       " ('disparages', -2),\n",
       " ('miss', -2),\n",
       " ('polluters', -2),\n",
       " ('neglected', -2),\n",
       " ('indignation', -2),\n",
       " ('dismayed', -2),\n",
       " ('pessimistic', -2),\n",
       " ('contagion', -2),\n",
       " ('aggressive', -2),\n",
       " ('fatigued', -2),\n",
       " ('mourns', -2),\n",
       " ('stereotyped', -2),\n",
       " ('reckless', -2),\n",
       " ('complains', -2),\n",
       " ('startled', -2),\n",
       " ('deadlock', -2),\n",
       " ('upsetting', -2),\n",
       " ('protest', -2),\n",
       " ('prisoner', -2),\n",
       " ('confused', -2),\n",
       " ('scornful', -2),\n",
       " ('downhearted', -2),\n",
       " ('criticize', -2),\n",
       " ('refused', -2),\n",
       " ('bereave', -2),\n",
       " ('abduction', -2),\n",
       " ('confuse', -2),\n",
       " ('fire', -2),\n",
       " ('misunderstands', -2),\n",
       " ('abandon', -2),\n",
       " ('self-deluded', -2),\n",
       " ('unaware', -2),\n",
       " ('embarrassment', -2),\n",
       " ('weak', -2),\n",
       " ('jeopardy', -2),\n",
       " ('stuck', -2),\n",
       " ('crash', -2),\n",
       " ('bore', -2),\n",
       " ('troubles', -2),\n",
       " ('starving', -2),\n",
       " ('harmful', -2),\n",
       " ('unintelligent', -2),\n",
       " ('clash', -2),\n",
       " ('obstinate', -2),\n",
       " ('hurts', -2),\n",
       " ('irresolute', -2),\n",
       " ('petrified', -2),\n",
       " ('derails', -2),\n",
       " ('mistaking', -2),\n",
       " ('penalty', -2),\n",
       " ('lagged', -2),\n",
       " ('animosity', -2),\n",
       " ('piqued', -2),\n",
       " ('regretful', -2),\n",
       " ('disdain', -2),\n",
       " ('threats', -2),\n",
       " ('enslaves', -2),\n",
       " ('enrage', -2),\n",
       " ('impatient', -2),\n",
       " ('burdening', -2),\n",
       " ('abandons', -2),\n",
       " ('violate', -2),\n",
       " ('polluted', -2),\n",
       " ('sabotage', -2),\n",
       " ('dejects', -2),\n",
       " ('controversial', -2),\n",
       " ('murder', -2),\n",
       " ('gullibility', -2),\n",
       " ('childish', -2),\n",
       " ('incompetence', -2),\n",
       " ('disappointing', -2),\n",
       " ('slashes', -2),\n",
       " ('spiritless', -2),\n",
       " ('unloved', -2),\n",
       " ('distresses', -2),\n",
       " ('bamboozled', -2),\n",
       " ('uncomfortable', -2),\n",
       " ('restricted', -2),\n",
       " ('vulnerable', -2),\n",
       " ('alone', -2),\n",
       " ('bothers', -2),\n",
       " ('distraction', -2),\n",
       " ('thwarting', -2),\n",
       " ('expels', -2),\n",
       " ('dismal', -2),\n",
       " ('mumpish', -2),\n",
       " ('exaggerating', -2),\n",
       " ('offending', -2),\n",
       " ('misreporting', -2),\n",
       " ('needy', -2),\n",
       " ('stereotype', -2),\n",
       " ('poised', -2),\n",
       " ('monopolizes', -2),\n",
       " ('upset', -2),\n",
       " ('misunderstood', -2),\n",
       " ('censor', -2),\n",
       " ('cries', -2),\n",
       " ('ill', -2),\n",
       " ('scared', -2),\n",
       " ('mock', -2),\n",
       " ('oppressed', -2),\n",
       " ('prblm', -2),\n",
       " ('hooliganism', -2),\n",
       " ('disturbed', -2),\n",
       " ('hunger', -2),\n",
       " ('disorder', -2),\n",
       " ('defenseless', -2),\n",
       " ('appalling', -2),\n",
       " ('hostile', -2),\n",
       " ('distracted', -2),\n",
       " ('regrets', -2),\n",
       " ('misbehaved', -2),\n",
       " ('discontented', -2),\n",
       " ('collapsed', -2),\n",
       " ('severe', -2),\n",
       " ('timorous', -2),\n",
       " ('sulky', -2),\n",
       " ('blames', -2),\n",
       " ('slam', -2),\n",
       " ('blamed', -2),\n",
       " ('revengeful', -2),\n",
       " ('stressed', -2),\n",
       " ('hardship', -2),\n",
       " ('injury', -2),\n",
       " ('boycotting', -2),\n",
       " ('unfulfilled', -2),\n",
       " ('cried', -2),\n",
       " ('worthless', -2),\n",
       " ('cornered', -2),\n",
       " ('cynical', -2),\n",
       " ('protesters', -2),\n",
       " ('illness', -2),\n",
       " ('punishes', -2),\n",
       " ('incapacitated', -2),\n",
       " ('restrict', -2),\n",
       " ('mongering', -2),\n",
       " ('repulsed', -2),\n",
       " ('criticizing', -2),\n",
       " ('unhealthy', -2),\n",
       " ('aggravate', -2),\n",
       " ('bored', -2),\n",
       " ('crazy', -2),\n",
       " ('robing', -2),\n",
       " ('disputes', -2),\n",
       " ('stupid', -2),\n",
       " ('ignorant', -2),\n",
       " ('undermined', -2),\n",
       " ('neglecting', -2),\n",
       " ('insensitive', -2),\n",
       " ('restriction', -2),\n",
       " ('persecuted', -2),\n",
       " ('dirt', -2),\n",
       " ('clueless', -2),\n",
       " ('stampede', -2),\n",
       " ('complacent', -2),\n",
       " ('abductions', -2),\n",
       " ('profiteer', -2),\n",
       " ('tears', -2),\n",
       " ('fad', -2),\n",
       " ('screams', -2),\n",
       " ('nosey', -2),\n",
       " ('bamboozles', -2),\n",
       " ('accidentally', -2),\n",
       " ('fearful', -2),\n",
       " ('threat', -2),\n",
       " ('banned', -2),\n",
       " ('lonesome', -2),\n",
       " ('defeated', -2),\n",
       " ('dreading', -2),\n",
       " ('inquisition', -2),\n",
       " ('sarcastic', -2),\n",
       " ('infuriate', -2),\n",
       " ('refusing', -2),\n",
       " ('trickery', -2),\n",
       " ('suffer', -2),\n",
       " ('misinterpreted', -2),\n",
       " ('violated', -2),\n",
       " ('speculative', -2),\n",
       " ('displeased', -2),\n",
       " ('mistaken', -2),\n",
       " ('flu', -2),\n",
       " ...]"
      ]
     },
     "execution_count": 16,
     "metadata": {},
     "output_type": "execute_result"
    }
   ],
   "source": [
    "sorted(afinn.items(), key=lambda x: x[1])"
   ]
  },
  {
   "cell_type": "code",
   "execution_count": 4,
   "metadata": {
    "collapsed": true
   },
   "outputs": [],
   "source": [
    "#harish: more to express something is bad than good..so you see the negative hist greather"
   ]
  },
  {
   "cell_type": "code",
   "execution_count": null,
   "metadata": {
    "scrolled": true
   },
   "outputs": [
    {
     "name": "stderr",
     "output_type": "stream",
     "text": [
      "<<<<<<< local\n"
     ]
    },
    {
     "data": {
      "image/png": "[encoded data removed]",
      "text/plain": [
       "<matplotlib.figure.Figure at 0x7fe96466b2e8>"
      ]
     },
     "metadata": {},
     "output_type": "display_data"
    },
    {
     "name": "stderr",
     "output_type": "stream",
     "text": [
      "=======\n"
     ]
    },
    {
     "data": {
      "image/png": "[encoded data removed]",
      "text/plain": [
       "<matplotlib.figure.Figure at 0x7fe479625898>"
      ]
     },
     "metadata": {},
     "output_type": "display_data"
    },
    {
     "name": "stderr",
     "output_type": "stream",
     "text": [
      ">>>>>>> remote\n"
     ]
    }
   ],
   "source": [
    "# What is the distribution of scores?\n",
    "from collections import Counter\n",
    "import matplotlib.pyplot as plt\n",
    "%matplotlib inline\n",
    "\n",
    "counts = Counter(afinn.values())\n",
    "vals = sorted(counts.keys())\n",
    "\n",
    "plt.bar(vals, counts.values())\n",
    "plt.xticks(vals)\n",
    "plt.xlabel('negative <--       sentiment       --> positive')\n",
    "plt.ylabel('count')\n",
    "plt.show()"
   ]
  },
  {
   "cell_type": "code",
   "execution_count": null,
   "metadata": {},
   "outputs": [
    {
     "name": "stdout",
     "output_type": "stream",
     "text": [
      "\tscam=-2\n",
      "\tbroken=-1\n",
      "AFINN:  -3.0\n"
     ]
    }
   ],
   "source": [
    "# How do we score a document?\n",
    "def afinn_sentiment(terms, afinn):\n",
    "    total = 0.\n",
    "    for t in terms:\n",
    "        if t in afinn:\n",
    "            print('\\t%s=%d' % (t, afinn[t]))\n",
    "            total += afinn[t]\n",
    "    return total\n",
    "    \n",
    "doc = \"i don't know if this is a scam or if mine was broken\".split()\n",
    "print('AFINN: ', afinn_sentiment(doc, afinn))"
   ]
  },
  {
   "cell_type": "code",
   "execution_count": null,
   "metadata": {},
   "outputs": [
    {
     "name": "stdout",
     "output_type": "stream",
     "text": [
      "\tgood=3\n",
      "\tbad=-3\n",
      "AFINN:  0.0\n"
     ]
    }
   ],
   "source": [
    "# What if mixed sentiment?\n",
    "doc = \"it has a hokey plot that is both too good and bad\".split()\n",
    "print('AFINN: ', afinn_sentiment(doc, afinn))"
   ]
  },
  {
   "cell_type": "code",
   "execution_count": 21,
   "metadata": {
    "collapsed": true
   },
   "outputs": [],
   "source": [
    "##harish: return two values instead of returning score of zero"
   ]
  },
  {
   "cell_type": "code",
   "execution_count": null,
   "metadata": {},
   "outputs": [
    {
     "name": "stdout",
     "output_type": "stream",
     "text": [
      "\tgood=3\n",
      "\tbad=-3\n",
      "AFINN: (3, 3)\n"
     ]
    }
   ],
   "source": [
    "# Distinguish neutral from pos/neg.\n",
    "# Return two scores per document.\n",
    "\n",
    "def afinn_sentiment2(terms, afinn, verbose=False):\n",
    "    pos = 0\n",
    "    neg = 0\n",
    "    for t in terms:\n",
    "        if t in afinn:\n",
    "            if verbose:\n",
    "                print('\\t%s=%d' % (t, afinn[t]))\n",
    "            if afinn[t] > 0:\n",
    "                pos += afinn[t]\n",
    "            else:\n",
    "                neg += -1 * afinn[t]\n",
    "    return pos, neg\n",
    "\n",
    "doc = \"it has a hokey plot that is both to good and bad\".split()\n",
    "print('AFINN:', afinn_sentiment2(doc, afinn, verbose=True))"
   ]
  },
  {
   "cell_type": "code",
   "execution_count": null,
   "metadata": {},
   "outputs": [
    {
     "name": "stdout",
     "output_type": "stream",
     "text": [
      "\tbad=-3\n",
      "AFINN: (0, 3)\n"
     ]
    }
   ],
   "source": [
    "doc = \"the plot is not bad\".split()\n",
    "print('AFINN:', afinn_sentiment2(doc, afinn, verbose=True))"
   ]
  },
  {
   "cell_type": "code",
   "execution_count": null,
   "metadata": {},
   "outputs": [],
   "source": [
    "import configparser\n",
    "from TwitterAPI import TwitterAPI\n",
    "\n",
    "consumer_key = 'S7iQEmSfH2ICIaDfKhmmr4o4q'\n",
    "consumer_secret = '7Anj5i1kSawK1sT0yglcnaUBoSXiVSo3y60YoD8DZXuXMpbwoV'\n",
    "access_token = '759979935075151872-krTlTnjkV63ejn9dK93anDuu0JR7VGa'\n",
    "access_token_secret = 'DbnQTinTQVY57w8Kh892HcmMl4ZdbGnnOp4F2REmVVtxY'\n",
    "\n",
    "# Get some tweets about McDonald's\n",
    "\n",
    "def get_twitter(config_file):\n",
    "    \"\"\" Read the config_file and construct an instance of TwitterAPI.\n",
    "    Args:\n",
    "      config_file ... A config file in ConfigParser format with Twitter credentials\n",
    "    Returns:\n",
    "      An instance of TwitterAPI.\n",
    "    \"\"\"\n",
    "    config = configparser.ConfigParser()\n",
    "    config.read(config_file)\n",
    "    twitter = TwitterAPI(consumer_key, consumer_secret, access_token, access_token_secret)\n",
    "    return twitter\n",
    "\n",
    "twitter = get_twitter('twitter.cfg')\n",
    "tweets = []\n",
    "for r in twitter.request('search/tweets',\n",
    "                         {'q': 'mcdonalds', 'count': 100}):\n",
    "    tweets.append(r)"
   ]
  },
  {
   "cell_type": "code",
   "execution_count": null,
   "metadata": {},
   "outputs": [
    {
     "name": "stdout",
     "output_type": "stream",
     "text": [
      "read 100 mcdonalds tweets\n"
     ]
    }
   ],
   "source": [
    "print('read %d mcdonalds tweets' % len(tweets))"
   ]
  },
  {
   "cell_type": "code",
   "execution_count": 33,
   "metadata": {
    "collapsed": true
   },
   "outputs": [],
   "source": [
    "#harish: tokenize words: NLP"
   ]
  },
  {
   "cell_type": "code",
   "execution_count": null,
   "metadata": {
    "scrolled": true
   },
   "outputs": [
    {
     "name": "stderr",
     "output_type": "stream",
     "text": [
      "<<<<<<< local\n"
     ]
    },
    {
     "ename": "NameError",
     "evalue": "name 'tweets' is not defined",
     "output_type": "error",
     "traceback": [
      "\u001b[0;31m---------------------------------------------------------------------------\u001b[0m",
      "\u001b[0;31mNameError\u001b[0m                                 Traceback (most recent call last)",
      "\u001b[0;32m<ipython-input-20-de6d06691d7f>\u001b[0m in \u001b[0;36m<module>\u001b[0;34m()\u001b[0m\n\u001b[1;32m      6\u001b[0m     \u001b[0;32mreturn\u001b[0m \u001b[0mre\u001b[0m\u001b[0;34m.\u001b[0m\u001b[0msub\u001b[0m\u001b[0;34m(\u001b[0m\u001b[0;34m'\\W+'\u001b[0m\u001b[0;34m,\u001b[0m \u001b[0;34m' '\u001b[0m\u001b[0;34m,\u001b[0m \u001b[0mtext\u001b[0m\u001b[0;34m.\u001b[0m\u001b[0mlower\u001b[0m\u001b[0;34m(\u001b[0m\u001b[0;34m)\u001b[0m\u001b[0;34m)\u001b[0m\u001b[0;34m.\u001b[0m\u001b[0msplit\u001b[0m\u001b[0;34m(\u001b[0m\u001b[0;34m)\u001b[0m\u001b[0;34m\u001b[0m\u001b[0m\n\u001b[1;32m      7\u001b[0m \u001b[0;34m\u001b[0m\u001b[0m\n\u001b[0;32m----> 8\u001b[0;31m \u001b[0mtokens\u001b[0m \u001b[0;34m=\u001b[0m \u001b[0;34m[\u001b[0m\u001b[0mtokenize\u001b[0m\u001b[0;34m(\u001b[0m\u001b[0mt\u001b[0m\u001b[0;34m[\u001b[0m\u001b[0;34m'text'\u001b[0m\u001b[0;34m]\u001b[0m\u001b[0;34m)\u001b[0m \u001b[0;32mfor\u001b[0m \u001b[0mt\u001b[0m \u001b[0;32min\u001b[0m \u001b[0mtweets\u001b[0m\u001b[0;34m]\u001b[0m\u001b[0;34m\u001b[0m\u001b[0m\n\u001b[0m\u001b[1;32m      9\u001b[0m print('tokenized, e.g., \\n%s\\nto\\n%s' % \n\u001b[1;32m     10\u001b[0m       (tweets[10]['text'], tokens[10]))\n",
      "\u001b[0;31mNameError\u001b[0m: name 'tweets' is not defined"
     ]
    },
    {
     "name": "stderr",
     "output_type": "stream",
     "text": [
      "=======\n"
     ]
    },
    {
     "name": "stdout",
     "output_type": "stream",
     "text": [
      "tokenized, e.g., \n",
      "RT @luluramadan: Cops are at Wellington McDonalds where tons of angry people lined up for hrs for Rick and Morty Szechuan sauce only to lea…\n",
      "to\n",
      "['rt', 'luluramadan', 'cops', 'are', 'at', 'wellington', 'mcdonalds', 'where', 'tons', 'of', 'angry', 'people', 'lined', 'up', 'for', 'hrs', 'for', 'rick', 'and', 'morty', 'szechuan', 'sauce', 'only', 'to', 'lea']\n"
     ]
    },
    {
     "name": "stderr",
     "output_type": "stream",
     "text": [
      ">>>>>>> remote\n"
     ]
    }
   ],
   "source": [
    "# Tokenize tweets\n",
    "import re\n",
    "\n",
    "# \\w = [a-zA-Z0-9_]\n",
    "def tokenize(text):\n",
    "    return re.sub('\\W+', ' ', text.lower()).split()\n",
    "\n",
    "tokens = [tokenize(t['text']) for t in tweets]\n",
    "print('tokenized, e.g., \\n%s\\nto\\n%s' % \n",
    "      (tweets[10]['text'], tokens[10]))\n",
    "#tweets[50]['user']['name']\n",
    "# tweets[50]['user']['screen_name']"
   ]
  },
  {
   "cell_type": "code",
   "execution_count": 38,
   "metadata": {
    "collapsed": true
   },
   "outputs": [],
   "source": [
    "#HARISH: NOTE url is also tokenized! so avoid"
   ]
  },
  {
   "cell_type": "code",
   "execution_count": null,
   "metadata": {
    "scrolled": true
   },
   "outputs": [
    {
     "data": {
      "text/plain": [
       "['hi',\n",
       " 'there',\n",
       " 'how',\n",
       " 'are',\n",
       " 'you',\n",
       " 'don',\n",
       " 't',\n",
       " 'you',\n",
       " 'awesome',\n",
       " 'awesome',\n",
       " 'http',\n",
       " 'www',\n",
       " 'good',\n",
       " 'com']"
      ]
     },
     "execution_count": null,
     "metadata": {},
     "output_type": "execute_result"
    }
   ],
   "source": [
    "tokenize(\"Hi there how are you? Don't you ... #awesome @awesome http://www.good.com\")"
   ]
  },
  {
   "cell_type": "code",
   "execution_count": null,
   "metadata": {},
   "outputs": [
    {
     "ename": "NameError",
     "evalue": "name 'tokens' is not defined",
     "output_type": "error",
     "traceback": [
      "\u001b[0;31m---------------------------------------------------------------------------\u001b[0m",
      "\u001b[0;31mNameError\u001b[0m                                 Traceback (most recent call last)",
      "\u001b[0;32m<ipython-input-22-c39ed293992c>\u001b[0m in \u001b[0;36m<module>\u001b[0;34m()\u001b[0m\n\u001b[1;32m      1\u001b[0m \u001b[0mpositives\u001b[0m \u001b[0;34m=\u001b[0m \u001b[0;34m[\u001b[0m\u001b[0;34m]\u001b[0m\u001b[0;34m\u001b[0m\u001b[0m\n\u001b[1;32m      2\u001b[0m \u001b[0mnegatives\u001b[0m \u001b[0;34m=\u001b[0m \u001b[0;34m[\u001b[0m\u001b[0;34m]\u001b[0m\u001b[0;34m\u001b[0m\u001b[0m\n\u001b[0;32m----> 3\u001b[0;31m \u001b[0;32mfor\u001b[0m \u001b[0mtoken_list\u001b[0m\u001b[0;34m,\u001b[0m \u001b[0mtweet\u001b[0m \u001b[0;32min\u001b[0m \u001b[0mzip\u001b[0m\u001b[0;34m(\u001b[0m\u001b[0mtokens\u001b[0m\u001b[0;34m,\u001b[0m \u001b[0mtweets\u001b[0m\u001b[0;34m)\u001b[0m\u001b[0;34m:\u001b[0m\u001b[0;34m\u001b[0m\u001b[0m\n\u001b[0m\u001b[1;32m      4\u001b[0m     \u001b[0mpos\u001b[0m\u001b[0;34m,\u001b[0m \u001b[0mneg\u001b[0m \u001b[0;34m=\u001b[0m \u001b[0mafinn_sentiment2\u001b[0m\u001b[0;34m(\u001b[0m\u001b[0mtoken_list\u001b[0m\u001b[0;34m,\u001b[0m \u001b[0mafinn\u001b[0m\u001b[0;34m)\u001b[0m\u001b[0;34m\u001b[0m\u001b[0m\n\u001b[1;32m      5\u001b[0m     \u001b[0;32mif\u001b[0m \u001b[0mpos\u001b[0m \u001b[0;34m>\u001b[0m \u001b[0mneg\u001b[0m\u001b[0;34m:\u001b[0m\u001b[0;34m\u001b[0m\u001b[0m\n",
      "\u001b[0;31mNameError\u001b[0m: name 'tokens' is not defined"
     ]
    }
   ],
   "source": [
    "positives = []\n",
    "negatives = []\n",
    "for token_list, tweet in zip(tokens, tweets):\n",
    "    pos, neg = afinn_sentiment2(token_list, afinn)\n",
    "    if pos > neg:\n",
    "        positives.append((tweet['text'], pos, neg))\n",
    "    elif neg > pos:\n",
    "        negatives.append((tweet['text'], pos, neg))"
   ]
  },
  {
   "cell_type": "code",
   "execution_count": null,
   "metadata": {
    "scrolled": false
   },
   "outputs": [
    {
     "name": "stderr",
     "output_type": "stream",
     "text": [
      "<<<<<<< local\n"
     ]
    },
    {
     "name": "stdout",
     "output_type": "stream",
     "text": [
      "6 1 @brad_schwartz We love hearing that you're a fan! Stop by for lunch again soon.\n",
      "6 3 i love when people told me that working at mcdonalds, you will start to hate the food. me, i started craving it more  LOL\n",
      "5 0 Watched @thefounderfilm and won’t be eating at @McDonalds anymore. Nothing like taking someone’s work and taking the credit! @McDonaldsCorp\n",
      "5 0 @McDonalds thank you for inspiring me\n",
      "5 0 @Ijooheons We hope you enjoy a tasty Big Mac soon!\n",
      "4 0 @McDonalds why won't you chop up my apple pie and put it in my McFlurry for me. Apple pie and ice cream!! I dont want them seperately 😣\n",
      "3 0 RT @TinyKitchenVids: Tiny McDonalds Happy Meal. 🍔🍟 https://t.co/aikdWYWfkR\n",
      "3 0 @LaurenEnchanted We love your dedication to deliciousness!\n",
      "3 0 @TheOGDib We love the enthusiasm! Can't wait to see you.\n",
      "3 0 @McDonalds \"\"best kosher food =Jewish meat cooked in an oven+red wine \" https://t.co/I2U9QfGPt5\n",
      "3 0 I remember when McDonalds nuggets box came with the little thing to put the sauce in 😪 good times\n",
      "2 0 @e_stefan_y Feed the need, pal! Hope to see you today.\n",
      "2 0 I liked a @YouTube video https://t.co/Qm7W1chTUg Spiderman McDONALDS DRIVE THRU Prank! w/ Frozen Elsa Joker Hulk Mickey Movie Kids\n",
      "2 0 @tjchirico2 @TheMinzProject enough people that McDonalds feels like sponsoring a car is a lucrative business ventur… https://t.co/GTReYW7l59\n",
      "2 1 RT @keithellison: C'mon McDonalds, Walmart, and everybody else. Pay your workers right! Thanks @Target @fightfor15\n",
      "1 0 when you ask if you can get mcdonalds on the way home and your mom says yes #blackplottwists\n",
      "1 0 @McDonalds Big Mac All Day 😃\n",
      "1 0 @JAKEYCAYABYAB Let's share a drink, Jacob!\n",
      "1 0 @charliemac60 @boomer2748 @william_fannon @warmerdaze @farringtonpegg2 .@ProcterGamble &amp; .@McDonalds are easy enuff… https://t.co/aXGRQDU0PS\n"
     ]
    },
    {
     "name": "stderr",
     "output_type": "stream",
     "text": [
      "=======\n"
     ]
    },
    {
     "name": "stdout",
     "output_type": "stream",
     "text": [
      "8 5 RT @_AlexHirsch: @danguterman @McDonalds @GOP “MORTY, nothing tops the sweet taste of Loestrin! It’s *burp* fucking amazing, it stops you f…\n",
      "5 4 RT @sexualjumanji: you just pissed off the most powerful fan base in the world. u might think we are just nerds but we are troops and inven…\n",
      "3 0 @esternoons @Good_Guy69 @McDonalds Lol stfu\n",
      "3 0 @McDonalds I was so excited for the Szechuan sauce, I was at McDonalds 11 A.M. the cashier said we never heard of t… https://t.co/e7elzEtLIR\n",
      "3 0 RT @TheHumaneLeague: Fast food giant @McDonalds is launching a trial of the \"McVegan Burger!\" Please RT! #progress https://t.co/gEhV8mJBOy\n",
      "3 1 @Briijy @McDonaldsUK Sorry to hear that Briijy. Hope staff helped at the time, if not please log full details at https://t.co/BulG72WJvt\n",
      "2 0 RT @CBSThisMorning: .@BonAppetit says @McDonalds is testing out a vegan-friendly sandwich called the #McVegan. https://t.co/ufeKYwR2wb http…\n",
      "2 0 @KevinMSquires @McDonalds Thank you I was wondering about this\n",
      "2 0 @painkilIrs we gotta go on a [burp] adventure, morty, mcdonalds wants to do a really obvious product placement\n",
      "2 1 McDonalds drive thru line looks like ptown traffic at 5:30 AM. Sorry coffee but not today\n",
      "2 0 RT @SoufCaliNative: mcdonalds better have that ice creme machine running\n",
      "2 0 RT @noTime_ToneZ: It's like Jerry HIMSELF did the actual marketing #szechuansauce #McDonalds\n",
      "1 0 RT @guardian: 'We want sauce': police called over McDonald's Rick and Morty promotion https://t.co/AT0XOOkcIx\n",
      "1 0 RT @guardian: 'We want sauce': police called over McDonald's Rick and Morty promotion https://t.co/AT0XOOkcIx\n",
      "1 0 RT @guardian: 'We want sauce': police called over McDonald's Rick and Morty promotion https://t.co/AT0XOOkcIx\n",
      "1 0 #SundayReads  #Apocalypse  'We want sauce': police called after McDonald's Rick and Morty promotion heats up https://t.co/sYsD3cS6sd\n",
      "1 0 'We want sauce': police called after McDonald's Rick and Morty promotion heats up https://t.co/rIdYejQLHw I wonder why? #WDLL\n",
      "1 0 RT @guardian: 'We want sauce': police called over McDonald's Rick and Morty promotion https://t.co/AT0XOOkcIx\n",
      "1 0 'We want sauce': police called over McDonald's Rick and Morty promotion https://t.co/be6bnzTBQt\n",
      "1 0 RT @guardian: 'We want sauce': police called over McDonald's Rick and Morty promotion https://t.co/AT0XOOkcIx\n",
      "1 0 RT @guardian: 'We want sauce': police called over McDonald's Rick and Morty promotion https://t.co/AT0XOOkcIx\n",
      "1 0 'W want sauce': police called over McDonald's Rick and Morty promotion https://t.co/cqrkLH0vDl\n",
      "1 0 'We want sauce': police called after McDonald's Rick and Morty promotion heats up ‘what gets us on the streets’ https://t.co/3zXoYSF3SP\n",
      "1 0 RT @guardian: 'We want sauce': police called over McDonald's Rick and Morty promotion https://t.co/AT0XOOkcIx\n",
      "1 0 RT @guardian: 'We want sauce': police called over McDonald's Rick and Morty promotion https://t.co/AT0XOOkcIx\n"
     ]
    },
    {
     "name": "stderr",
     "output_type": "stream",
     "text": [
      ">>>>>>> remote\n"
     ]
    }
   ],
   "source": [
    "# Print top positives:\n",
    "for tweet, pos, neg in sorted(positives,\n",
    "                              key=lambda x: x[1],\n",
    "                              reverse=True):\n",
    "    print(pos, neg, tweet)"
   ]
  },
  {
   "cell_type": "code",
   "execution_count": 24,
   "metadata": {},
   "outputs": [
    {
     "ename": "NameError",
     "evalue": "name 'afinn_sentiment2' is not defined",
     "output_type": "error",
     "traceback": [
      "\u001b[0;31m---------------------------------------------------------------------------\u001b[0m",
      "\u001b[0;31mNameError\u001b[0m                                 Traceback (most recent call last)",
      "\u001b[0;32m<ipython-input-24-ac58bb53faa6>\u001b[0m in \u001b[0;36m<module>\u001b[0;34m()\u001b[0m\n\u001b[0;32m----> 1\u001b[0;31m afinn_sentiment2(tokenize('Watched @thefounderfilm and won’t be eating at @McDonalds anymore. Nothing like taking someone’s work and taking the credit! @McDonaldsCorp'),\n\u001b[0m\u001b[1;32m      2\u001b[0m                  afinn, verbose=True)\n",
      "\u001b[0;31mNameError\u001b[0m: name 'afinn_sentiment2' is not defined"
     ]
    }
   ],
   "source": [
    "afinn_sentiment2(tokenize('Watched @thefounderfilm and won’t be eating at @McDonalds anymore. Nothing like taking someone’s work and taking the credit! @McDonaldsCorp'),\n",
    "                 afinn, verbose=True)"
   ]
  },
  {
   "cell_type": "code",
   "execution_count": null,
   "metadata": {
    "scrolled": false
   },
   "outputs": [
    {
     "name": "stderr",
     "output_type": "stream",
     "text": [
      "<<<<<<< local\n"
     ]
    },
    {
     "name": "stdout",
     "output_type": "stream",
     "text": [
      "0 5 RT @callboyyy: Mama nein ich hab die 10 euro nicht für drogen ausgegeben ich war in Mcdonalds mit meinen Freunden\n",
      "0 5 RT @OceanGrownTREEZ: This Mcdonalds serve real niggas only. https://t.co/v8zxZIT3WP\n",
      "0 3 I've been on McDonalds five times in one week and I have no problem with that\n",
      "0 3 Харесах видеоклип в @YouTube – https://t.co/RqC0PBn0Y7 „McDONALDS BREAKFAST vs HOMEMADE - So bad we take the food\n",
      "0 2 Only at Williamston's McDonalds a lady would call the manager out to the drive thru ordering machine to complain with 10 cars behind her🤗\n",
      "0 2 RT @_Karlisimmons: I'll just starve before eating McDonalds\n",
      "0 2 passou uma propaganda do @McDonalds_BR  ali agora tem nem um gordo absurdo isso, me chamem\n",
      "0 1 Fue a comprar comida rápida y como no lo atendieron rápido amenazó con matar al vendedor https://t.co/glz3PmIPNB\n",
      "0 1 o jisung me levaria no mcdonalds\n",
      "0 1 McDonalds no se da cuenta de que si su servicio a domicilio llegase a mi resi, solo conmigo ya estarían el triple de forrados\n",
      "0 1 ong me leva no mcdonalds\n",
      "0 1 RT @ChuckNASCAR: CALL OUT ALL of these @NFL sponsors!\n",
      "DUMP THE NFL!! @AnheuserBusch @Campbells @Ford @CoverGirl @FedEx @Fritolay @Gillette…\n",
      "0 1 Alright it's official Mcdonalds chicken tenders are bomb\n",
      "0 1 RT @ChuckNASCAR: CALL OUT ALL of these @NFL sponsors!\n",
      "DUMP THE NFL!! @AnheuserBusch @Campbells @Ford @CoverGirl @FedEx @Fritolay @Gillette…\n"
     ]
    },
    {
     "name": "stderr",
     "output_type": "stream",
     "text": [
      "=======\n"
     ]
    },
    {
     "name": "stdout",
     "output_type": "stream",
     "text": [
      "0 6 After yesterday's #schezuansauce bullshit, I will be boycotting @McDonalds until the bring back the sauce for real. Not this one day BS\n",
      "3 5 Don't let the hipsters fool you. They love their corporate greed head food products. https://t.co/SXpEz7B2Qk\n",
      "1 5 @guardian Ketchup 2! But I no longer want Mcdonalds. That shit sits in your gut! https://t.co/y1to62MZnO\n",
      "0 4 RT @AliceSpecht: @McDonalds did you really get 17 packets a store or did your managers just make buku side cash #pissed #szechuansauce #eba…\n",
      "0 4 No sausage or steak at McDonalds this morning. Can I die?\n",
      "0 3 RT @luluramadan: Cops are at Wellington McDonalds where tons of angry people lined up for hrs for Rick and Morty Szechuan sauce only to lea…\n",
      "0 3 RT @luluramadan: Cops are at Wellington McDonalds where tons of angry people lined up for hrs for Rick and Morty Szechuan sauce only to lea…\n",
      "0 1 @mcdonalds No locations in my state, nearest #Szechuansauce an 8 hour drive away! Did you forgot about us down in Montana? #406\n",
      "0 1 @ArizonaKayte @nflcommish Absolutely !!!!!  No @NFL today or next week or next month \n",
      "#BoycottNFL… https://t.co/aYu1JsbIzy\n"
     ]
    },
    {
     "name": "stderr",
     "output_type": "stream",
     "text": [
      ">>>>>>> remote\n"
     ]
    }
   ],
   "source": [
    "# Print top negatives:\n",
    "for tweet, pos, neg in sorted(negatives, key=lambda x: x[2], reverse=True):\n",
    "    print(pos, neg, tweet)"
   ]
  },
  {
   "cell_type": "code",
   "execution_count": 17,
   "metadata": {},
   "outputs": [
    {
     "ename": "NameError",
     "evalue": "name 'afinn_sentiment2' is not defined",
     "output_type": "error",
     "traceback": [
      "\u001b[0;31m---------------------------------------------------------------------------\u001b[0m",
      "\u001b[0;31mNameError\u001b[0m                                 Traceback (most recent call last)",
      "\u001b[0;32m<ipython-input-17-d86dae70e063>\u001b[0m in \u001b[0;36m<module>\u001b[0;34m()\u001b[0m\n\u001b[0;32m----> 1\u001b[0;31m afinn_sentiment2(tokenize(\"Fue a comprar comida rápida y como no lo atendieron rápido amenazó con matar al vendedor\"),\n\u001b[0m\u001b[1;32m      2\u001b[0m                  afinn, verbose=True)\n",
      "\u001b[0;31mNameError\u001b[0m: name 'afinn_sentiment2' is not defined"
     ]
    }
   ],
   "source": [
    "afinn_sentiment2(tokenize(\"Fue a comprar comida rápida y como no lo atendieron rápido amenazó con matar al vendedor\"),\n",
    "                 afinn, verbose=True)"
   ]
  },
  {
   "cell_type": "markdown",
   "metadata": {},
   "source": [
    "# Sentiment Trends?\n",
    "![politico](politico.png)\n",
    "\n",
    "What can go wrong?\n",
    "\n",
    "<br><br><br><br>"
   ]
  },
  {
   "cell_type": "code",
   "execution_count": null,
   "metadata": {},
   "outputs": [
    {
     "name": "stderr",
     "output_type": "stream",
     "text": [
      "<<<<<<< local\n"
     ]
    },
    {
     "name": "stdout",
     "output_type": "stream",
     "text": [
      "no count=5 sentiment=-1\n",
      "love count=4 sentiment=3\n",
      "big count=2 sentiment=1\n",
      "won count=2 sentiment=3\n",
      "like count=2 sentiment=2\n",
      "hope count=2 sentiment=2\n",
      "dump count=2 sentiment=-1\n",
      "yes count=1 sentiment=1\n",
      "happy count=1 sentiment=3\n",
      "complain count=1 sentiment=-2\n",
      "thank count=1 sentiment=2\n"
     ]
    },
    {
     "name": "stderr",
     "output_type": "stream",
     "text": [
      "=======\n"
     ]
    },
    {
     "name": "stdout",
     "output_type": "stream",
     "text": [
      "want count=15 sentiment=1\n",
      "no count=4 sentiment=-1\n",
      "pissed count=2 sentiment=-4\n",
      "sorry count=2 sentiment=-1\n",
      "like count=2 sentiment=2\n",
      "please count=2 sentiment=1\n",
      "angry count=2 sentiment=-3\n",
      "boycotting count=1 sentiment=-2\n",
      "tops count=1 sentiment=2\n",
      "love count=1 sentiment=3\n",
      "fucking count=1 sentiment=-4\n"
     ]
    },
    {
     "name": "stderr",
     "output_type": "stream",
     "text": [
      ">>>>>>> remote\n"
     ]
    }
   ],
   "source": [
    "# Which words contribute most to sentiment?\n",
    "all_counts = Counter()\n",
    "for tweet in tokens:\n",
    "    all_counts.update(tweet)\n",
    "sorted_tokens = sorted(all_counts.items(),\n",
    "                       key=lambda x:x[1],\n",
    "                       reverse=True)\n",
    "i = 0\n",
    "for token, count in sorted_tokens:\n",
    "    if token in afinn:\n",
    "        print('%s count=%d sentiment=%d' % (token, count, afinn[token]))\n",
    "        i += 1\n",
    "        if i > 10:\n",
    "            break"
   ]
  },
  {
   "cell_type": "code",
   "execution_count": null,
   "metadata": {
    "scrolled": true
   },
   "outputs": [
    {
     "name": "stderr",
     "output_type": "stream",
     "text": [
      "<<<<<<< local\n"
     ]
    },
    {
     "data": {
      "text/plain": [
       "[['rt',\n",
       "  'tinykitchenvids',\n",
       "  'tiny',\n",
       "  'mcdonalds',\n",
       "  'happy',\n",
       "  'meal',\n",
       "  'https',\n",
       "  't',\n",
       "  'co',\n",
       "  'aikdwywfkr']]"
      ]
     },
     "execution_count": 50,
     "metadata": {},
     "output_type": "execute_result"
    },
    {
     "name": "stderr",
     "output_type": "stream",
     "text": [
      "=======\n"
     ]
    },
    {
     "data": {
      "text/plain": [
       "[['rt',\n",
       "  'alicespecht',\n",
       "  'mcdonalds',\n",
       "  'did',\n",
       "  'you',\n",
       "  'really',\n",
       "  'get',\n",
       "  '17',\n",
       "  'packets',\n",
       "  'a',\n",
       "  'store',\n",
       "  'or',\n",
       "  'did',\n",
       "  'your',\n",
       "  'managers',\n",
       "  'just',\n",
       "  'make',\n",
       "  'buku',\n",
       "  'side',\n",
       "  'cash',\n",
       "  'pissed',\n",
       "  'szechuansauce',\n",
       "  'eba'],\n",
       " ['rt',\n",
       "  'sexualjumanji',\n",
       "  'you',\n",
       "  'just',\n",
       "  'pissed',\n",
       "  'off',\n",
       "  'the',\n",
       "  'most',\n",
       "  'powerful',\n",
       "  'fan',\n",
       "  'base',\n",
       "  'in',\n",
       "  'the',\n",
       "  'world',\n",
       "  'u',\n",
       "  'might',\n",
       "  'think',\n",
       "  'we',\n",
       "  'are',\n",
       "  'just',\n",
       "  'nerds',\n",
       "  'but',\n",
       "  'we',\n",
       "  'are',\n",
       "  'troops',\n",
       "  'and',\n",
       "  'inven']]"
      ]
     },
     "execution_count": 54,
     "metadata": {},
     "output_type": "execute_result"
    },
    {
     "name": "stderr",
     "output_type": "stream",
     "text": [
      ">>>>>>> remote\n"
     ]
    }
   ],
   "source": [
    "<<<<<<< local\n",
    "[t for t in tokens if 'happy' in t]\n",
    "=======\n",
    "[t for t in tokens if 'pissed' in t]\n",
    ">>>>>>> remote"
   ]
  },
  {
   "cell_type": "code",
   "execution_count": 57,
   "metadata": {},
   "outputs": [
    {
     "data": {
      "text/plain": [
       "[['rt',\n",
       "  'guardian',\n",
       "  'we',\n",
       "  'want',\n",
       "  'sauce',\n",
       "  'police',\n",
       "  'called',\n",
       "  'over',\n",
       "  'mcdonald',\n",
       "  's',\n",
       "  'rick',\n",
       "  'and',\n",
       "  'morty',\n",
       "  'promotion',\n",
       "  'https',\n",
       "  't',\n",
       "  'co',\n",
       "  'at0xookcix'],\n",
       " ['rt',\n",
       "  'guardian',\n",
       "  'we',\n",
       "  'want',\n",
       "  'sauce',\n",
       "  'police',\n",
       "  'called',\n",
       "  'over',\n",
       "  'mcdonald',\n",
       "  's',\n",
       "  'rick',\n",
       "  'and',\n",
       "  'morty',\n",
       "  'promotion',\n",
       "  'https',\n",
       "  't',\n",
       "  'co',\n",
       "  'at0xookcix'],\n",
       " ['rt',\n",
       "  'guardian',\n",
       "  'we',\n",
       "  'want',\n",
       "  'sauce',\n",
       "  'police',\n",
       "  'called',\n",
       "  'over',\n",
       "  'mcdonald',\n",
       "  's',\n",
       "  'rick',\n",
       "  'and',\n",
       "  'morty',\n",
       "  'promotion',\n",
       "  'https',\n",
       "  't',\n",
       "  'co',\n",
       "  'at0xookcix'],\n",
       " ['mcdonald',\n",
       "  's',\n",
       "  'totally',\n",
       "  'underestimated',\n",
       "  'how',\n",
       "  'many',\n",
       "  'rick',\n",
       "  'and',\n",
       "  'morty',\n",
       "  'fans',\n",
       "  'want',\n",
       "  'that',\n",
       "  'mulan',\n",
       "  'mcnugget',\n",
       "  'sauce',\n",
       "  'https',\n",
       "  't',\n",
       "  'co',\n",
       "  'igd9kmpytm'],\n",
       " ['sundayreads',\n",
       "  'apocalypse',\n",
       "  'we',\n",
       "  'want',\n",
       "  'sauce',\n",
       "  'police',\n",
       "  'called',\n",
       "  'after',\n",
       "  'mcdonald',\n",
       "  's',\n",
       "  'rick',\n",
       "  'and',\n",
       "  'morty',\n",
       "  'promotion',\n",
       "  'heats',\n",
       "  'up',\n",
       "  'https',\n",
       "  't',\n",
       "  'co',\n",
       "  'sysd3cs6sd'],\n",
       " ['we',\n",
       "  'want',\n",
       "  'sauce',\n",
       "  'police',\n",
       "  'called',\n",
       "  'after',\n",
       "  'mcdonald',\n",
       "  's',\n",
       "  'rick',\n",
       "  'and',\n",
       "  'morty',\n",
       "  'promotion',\n",
       "  'heats',\n",
       "  'up',\n",
       "  'https',\n",
       "  't',\n",
       "  'co',\n",
       "  'ridyejqlhw',\n",
       "  'i',\n",
       "  'wonder',\n",
       "  'why',\n",
       "  'wdll'],\n",
       " ['rt',\n",
       "  'guardian',\n",
       "  'we',\n",
       "  'want',\n",
       "  'sauce',\n",
       "  'police',\n",
       "  'called',\n",
       "  'over',\n",
       "  'mcdonald',\n",
       "  's',\n",
       "  'rick',\n",
       "  'and',\n",
       "  'morty',\n",
       "  'promotion',\n",
       "  'https',\n",
       "  't',\n",
       "  'co',\n",
       "  'at0xookcix'],\n",
       " ['we',\n",
       "  'want',\n",
       "  'sauce',\n",
       "  'police',\n",
       "  'called',\n",
       "  'over',\n",
       "  'mcdonald',\n",
       "  's',\n",
       "  'rick',\n",
       "  'and',\n",
       "  'morty',\n",
       "  'promotion',\n",
       "  'https',\n",
       "  't',\n",
       "  'co',\n",
       "  'be6bnztbqt'],\n",
       " ['rt',\n",
       "  'guardian',\n",
       "  'we',\n",
       "  'want',\n",
       "  'sauce',\n",
       "  'police',\n",
       "  'called',\n",
       "  'over',\n",
       "  'mcdonald',\n",
       "  's',\n",
       "  'rick',\n",
       "  'and',\n",
       "  'morty',\n",
       "  'promotion',\n",
       "  'https',\n",
       "  't',\n",
       "  'co',\n",
       "  'at0xookcix'],\n",
       " ['guardian',\n",
       "  'ketchup',\n",
       "  '2',\n",
       "  'but',\n",
       "  'i',\n",
       "  'no',\n",
       "  'longer',\n",
       "  'want',\n",
       "  'mcdonalds',\n",
       "  'that',\n",
       "  'shit',\n",
       "  'sits',\n",
       "  'in',\n",
       "  'your',\n",
       "  'gut',\n",
       "  'https',\n",
       "  't',\n",
       "  'co',\n",
       "  'y1to62mzno'],\n",
       " ['rt',\n",
       "  'guardian',\n",
       "  'we',\n",
       "  'want',\n",
       "  'sauce',\n",
       "  'police',\n",
       "  'called',\n",
       "  'over',\n",
       "  'mcdonald',\n",
       "  's',\n",
       "  'rick',\n",
       "  'and',\n",
       "  'morty',\n",
       "  'promotion',\n",
       "  'https',\n",
       "  't',\n",
       "  'co',\n",
       "  'at0xookcix'],\n",
       " ['w',\n",
       "  'want',\n",
       "  'sauce',\n",
       "  'police',\n",
       "  'called',\n",
       "  'over',\n",
       "  'mcdonald',\n",
       "  's',\n",
       "  'rick',\n",
       "  'and',\n",
       "  'morty',\n",
       "  'promotion',\n",
       "  'https',\n",
       "  't',\n",
       "  'co',\n",
       "  'cqrklh0vdl'],\n",
       " ['we',\n",
       "  'want',\n",
       "  'sauce',\n",
       "  'police',\n",
       "  'called',\n",
       "  'after',\n",
       "  'mcdonald',\n",
       "  's',\n",
       "  'rick',\n",
       "  'and',\n",
       "  'morty',\n",
       "  'promotion',\n",
       "  'heats',\n",
       "  'up',\n",
       "  'what',\n",
       "  'gets',\n",
       "  'us',\n",
       "  'on',\n",
       "  'the',\n",
       "  'streets',\n",
       "  'https',\n",
       "  't',\n",
       "  'co',\n",
       "  '3zxoysf3sp'],\n",
       " ['rt',\n",
       "  'guardian',\n",
       "  'we',\n",
       "  'want',\n",
       "  'sauce',\n",
       "  'police',\n",
       "  'called',\n",
       "  'over',\n",
       "  'mcdonald',\n",
       "  's',\n",
       "  'rick',\n",
       "  'and',\n",
       "  'morty',\n",
       "  'promotion',\n",
       "  'https',\n",
       "  't',\n",
       "  'co',\n",
       "  'at0xookcix'],\n",
       " ['rt',\n",
       "  'guardian',\n",
       "  'we',\n",
       "  'want',\n",
       "  'sauce',\n",
       "  'police',\n",
       "  'called',\n",
       "  'over',\n",
       "  'mcdonald',\n",
       "  's',\n",
       "  'rick',\n",
       "  'and',\n",
       "  'morty',\n",
       "  'promotion',\n",
       "  'https',\n",
       "  't',\n",
       "  'co',\n",
       "  'at0xookcix']]"
      ]
     },
     "execution_count": 57,
     "metadata": {},
     "output_type": "execute_result"
    }
   ],
   "source": [
    "#harish: check for false positives as far as context is concerned!\n",
    "[t for t in tokens if 'want' in t]"
   ]
  },
  {
   "cell_type": "markdown",
   "metadata": {},
   "source": [
    "# Part of speech?\n",
    "\n",
    "> *I hate McDonlads.*  \n",
    "> *Hate speech is wrong.*\n",
    "\n",
    "> *Rauner is lying.*  \n",
    "> *Lying in bed with the flu.*\n",
    "\n",
    "Noun/verb/adjective form of term may have different sentiment."
   ]
  },
  {
   "cell_type": "code",
   "execution_count": 58,
   "metadata": {
    "collapsed": true
   },
   "outputs": [],
   "source": [
    "#harish: wordnet is a manually constructed data source "
   ]
  },
  {
   "cell_type": "markdown",
   "metadata": {
    "slideshow": {
     "slide_type": "slide"
    }
   },
   "source": [
    "# WordNet\n",
    "\n",
    "- A database of words and their relations\n",
    "- http://wordnet.princeton.edu/\n",
    "- Statistics: http://wordnet.princeton.edu/wordnet/man/wnstats.7WN.html"
   ]
  },
  {
   "cell_type": "markdown",
   "metadata": {
    "slideshow": {
     "slide_type": "slide"
    }
   },
   "source": [
    "# WordNet\n",
    "\n",
    "- **Synset:**\n",
    "  - A list of synonyms\n",
    "  - E.g. [dog](http://wordnetweb.princeton.edu/perl/webwn?s=dog&sub=Search+WordNet&o2=&o0=1&o8=1&o1=1&o7=&o5=&o9=&o6=&o3=&o4=&h=11000000000000000000001000000000)\n",
    "- **Hypernym:**\n",
    "  - Y is a Hypernym of X if every X is a kind of Y\n",
    "    - **canine** is a hypernym of **dog**\n",
    "- **Hyponym:**\n",
    "  - Y is a Hyponym of X if every Y is a kind of X\n",
    "    - **dog** is a hyponym of **canine**\n",
    "    \n",
    "<br><br><br>\n",
    "\n",
    "<img src=\"https://upload.wikimedia.org/wikipedia/en/1/1f/Hyponymsandhypernyms.jpg\">"
   ]
  },
  {
   "cell_type": "markdown",
   "metadata": {},
   "source": [
    "# SentiWordNet\n",
    "\n",
    "http://sentiwordnet.isti.cnr.it/\n",
    "\n",
    "![senti](senti.png)\n",
    "\n",
    "[source](http://nmis.isti.cnr.it/sebastiani/Publications/LREC06.pdf)"
   ]
  },
  {
   "cell_type": "code",
   "execution_count": 64,
   "metadata": {
    "collapsed": true
   },
   "outputs": [],
   "source": [
    "#harish: imp for ADM project"
   ]
  },
  {
   "cell_type": "code",
   "execution_count": null,
   "metadata": {},
   "outputs": [
    {
     "name": "stderr",
     "output_type": "stream",
     "text": [
      "<<<<<<< local\n"
     ]
    },
    {
     "name": "stderr",
     "output_type": "stream",
     "text": [
      "=======\n"
     ]
    },
    {
     "name": "stdout",
     "output_type": "stream",
     "text": [
      "[nltk_data] Downloading package sentiwordnet to\n",
      "[nltk_data]     /home/harish/nltk_data...\n",
      "[nltk_data]   Package sentiwordnet is already up-to-date!\n",
      "happy(n): negative_score=0.00 positive_score=0.88 objective_score=0.12\n"
     ]
    },
    {
     "name": "stderr",
     "output_type": "stream",
     "text": [
      ">>>>>>> remote\n"
     ]
    },
    {
     "name": "stderr",
     "output_type": "stream",
     "text": [
      "<<<<<<< local <modified: >\n"
     ]
    },
    {
     "name": "stdout",
     "output_type": "stream",
     "text": [
      "happy(a): negative_score=0.00 positive_score=0.88 objective_score=0.12\n"
     ]
    },
    {
     "name": "stderr",
     "output_type": "stream",
     "text": [
      "=======\n"
     ]
    },
    {
     "name": "stderr",
     "output_type": "stream",
     "text": [
      ">>>>>>> remote <removed>\n"
     ]
    }
   ],
   "source": [
    "# from nltk.corpus import sentiwordnet as swn\n",
    "import nltk\n",
    "nltk.download('sentiwordnet')\n",
    "from nltk.corpus import sentiwordnet as swn\n",
    "# Depends on nltk (pip install nltk)\n",
    "# See http://www.nltk.org/data.html\n",
    "# must run nltk.download('sentiwordnet')\n",
    "happy = list(swn.senti_synsets('happy', 'a'))[0]\n",
    "\n",
    "print('happy(a): negative_score=%.2f positive_score=%.2f objective_score=%.2f' %\n",
    "      (happy.neg_score(), happy.pos_score(), happy.obj_score()))"
   ]
  },
  {
   "cell_type": "code",
   "execution_count": null,
   "metadata": {},
   "outputs": [
    {
     "name": "stdout",
     "output_type": "stream",
     "text": [
      "hate(n): negative_score=0.38 positive_score=0.12 objective_score=0.50\n"
     ]
    }
   ],
   "source": [
    "hate = list(swn.senti_synsets('hate', 'n'))[0]\n",
    "\n",
    "print('hate(n): negative_score=%.2f positive_score=%.2f objective_score=%.2f' %\n",
    "      (hate.neg_score(), hate.pos_score(), hate.obj_score()))"
   ]
  },
  {
   "cell_type": "code",
   "execution_count": null,
   "metadata": {},
   "outputs": [
    {
     "name": "stdout",
     "output_type": "stream",
     "text": [
      "hate(v): negative_score=0.75 positive_score=0.00 objective_score=0.25\n"
     ]
    }
   ],
   "source": [
    "hate = list(swn.senti_synsets('hate', 'v'))[0]\n",
    "\n",
    "print('hate(v): negative_score=%.2f positive_score=%.2f objective_score=%.2f' %\n",
    "      (hate.neg_score(), hate.pos_score(), hate.obj_score()))"
   ]
  },
  {
   "cell_type": "code",
   "execution_count": null,
   "metadata": {},
   "outputs": [
    {
     "name": "stderr",
     "output_type": "stream",
     "text": [
      "<<<<<<< local <modified: >\n"
     ]
    },
    {
     "name": "stdout",
     "output_type": "stream",
     "text": [
      "good(a): negative_score=0.00 positive_score=0.75 objective_score=0.25\n"
     ]
    },
    {
     "name": "stderr",
     "output_type": "stream",
     "text": [
      "=======\n"
     ]
    },
    {
     "name": "stdout",
     "output_type": "stream",
     "text": [
      "good(a): negative_score=0.00 positive_score=0.00 objective_score=1.00\n"
     ]
    },
    {
     "name": "stderr",
     "output_type": "stream",
     "text": [
      ">>>>>>> remote <modified: >\n"
     ]
    }
   ],
   "source": [
    "good = list(swn.senti_synsets('good', 'a'))[0]\n",
    "print('good(a): negative_score=%.2f positive_score=%.2f objective_score=%.2f' %\n",
    "      (good.neg_score(), good.pos_score(), good.obj_score()))"
   ]
  },
  {
   "cell_type": "code",
   "execution_count": null,
   "metadata": {
    "collapsed": true
   },
   "outputs": [],
   "source": []
  }
 ],
 "metadata": {
  "kernelspec": {
   "display_name": "Python 3",
   "language": "python",
   "name": "python3"
  },
  "language_info": {
   "codemirror_mode": {
    "name": "ipython",
    "version": 3
   },
   "file_extension": ".py",
   "mimetype": "text/x-python",
   "name": "python",
   "nbconvert_exporter": "python",
   "pygments_lexer": "ipython3",
   "version": "3.5.2"
  }
 },
 "nbformat": 4,
 "nbformat_minor": 1
}
