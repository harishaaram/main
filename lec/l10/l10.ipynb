{
 "cells": [
  {
   "cell_type": "markdown",
   "metadata": {
    "slideshow": {
     "slide_type": "slide"
    }
   },
   "source": [
    "# CS579: Lecture 10  \n",
    "\n",
    "**Sentiment Analysis**\n",
    "\n",
    "*[Dr. Aron Culotta](http://cs.iit.edu/~culotta)*  \n",
    "*[Illinois Institute of Technology](http://iit.edu)*\n",
    "\n",
    "*Warning: Live Twitter data is used below, some or all of which may be offensive.*"
   ]
  },
  {
   "cell_type": "markdown",
   "metadata": {
    "slideshow": {
     "slide_type": "slide"
    }
   },
   "source": [
    "**sen·ti·ment**\n",
    "\n",
    "1. a view of or attitude toward a situation or event; an opinion.\n",
    "2. a feeling or emotion.\n"
   ]
  },
  {
   "cell_type": "markdown",
   "metadata": {
    "slideshow": {
     "slide_type": "slide"
    }
   },
   "source": [
    "**sen·ti·ment &nbsp; a·nal·y·sis ** \n",
    "\n",
    "1. classification of documents/messages by sentiment"
   ]
  },
  {
   "cell_type": "markdown",
   "metadata": {
    "slideshow": {
     "slide_type": "slide"
    }
   },
   "source": [
    "# Examples"
   ]
  },
  {
   "cell_type": "markdown",
   "metadata": {
    "slideshow": {
     "slide_type": "slide"
    }
   },
   "source": [
    "![tmnt.png](tmnt.png)"
   ]
  },
  {
   "cell_type": "markdown",
   "metadata": {
    "slideshow": {
     "slide_type": "slide"
    }
   },
   "source": [
    "![ufo](ufo.png)\n",
    "\n",
    "![ufo-review](ufo-review.png)"
   ]
  },
  {
   "cell_type": "markdown",
   "metadata": {
    "slideshow": {
     "slide_type": "slide"
    }
   },
   "source": [
    "![mcds](mcds.png)"
   ]
  },
  {
   "cell_type": "markdown",
   "metadata": {
    "slideshow": {
     "slide_type": "slide"
    }
   },
   "source": [
    "![rauner](rauner.png)\n",
    "![quinn](quinn.png)"
   ]
  },
  {
   "cell_type": "markdown",
   "metadata": {
    "slideshow": {
     "slide_type": "slide"
    }
   },
   "source": [
    "## Why is this hard?\n"
   ]
  },
  {
   "cell_type": "markdown",
   "metadata": {
    "slideshow": {
     "slide_type": "slide"
    }
   },
   "source": [
    "# Two Approaches\n",
    "\n",
    "- Lexicons (word lists)\n",
    "\n",
    "- Machine learning"
   ]
  },
  {
   "cell_type": "code",
   "execution_count": 15,
   "metadata": {
    "collapsed": true
   },
   "outputs": [],
   "source": [
    "#harish: check out afinn link"
   ]
  },
  {
   "cell_type": "markdown",
   "metadata": {
    "slideshow": {
     "slide_type": "slide"
    }
   },
   "source": [
    "# Lexicons\n",
    "\n",
    "- List of terms with positive/negative/neutral sentiment\n",
    "\n",
    "- E.g., AFINN: http://neuro.imm.dtu.dk/wiki/AFINN\n"
   ]
  },
  {
   "cell_type": "code",
   "execution_count": 16,
   "metadata": {},
   "outputs": [
    {
     "name": "stdout",
     "output_type": "stream",
     "text": [
      "read 2462 AFINN terms.\n",
      "E.g.: [('cock', -5), ('calms', 2), ('hooligan', -2), ('cut', -1), ('celebrate', 3), ('collide', -1), ('stamina', 2), ('yucky', -2), ('retard', -2), ('prepared', 1)]\n"
     ]
    }
   ],
   "source": [
    "# Download the AFINN lexicon, unzip, and read the latest word list in AFINN-111.txt\n",
    "from collections import defaultdict\n",
    "from io import BytesIO\n",
    "from zipfile import ZipFile\n",
    "from urllib.request import urlopen\n",
    "\n",
    "url = urlopen('http://www2.compute.dtu.dk/~faan/data/AFINN.zip')\n",
    "zipfile = ZipFile(BytesIO(url.read()))\n",
    "afinn_file = zipfile.open('AFINN/AFINN-111.txt')\n",
    "\n",
    "afinn = dict()\n",
    "\n",
    "for line in afinn_file:\n",
    "    parts = line.strip().split()\n",
    "    if len(parts) == 2:\n",
    "        afinn[parts[0].decode(\"utf-8\")] = int(parts[1])\n",
    "\n",
    "print('read %d AFINN terms.\\nE.g.: %s' % (len(afinn), str(list(afinn.items())[:10])))"
   ]
  },
  {
   "cell_type": "code",
   "execution_count": 17,
   "metadata": {},
   "outputs": [
    {
     "data": {
      "text/plain": [
       "2462"
      ]
     },
     "execution_count": 17,
     "metadata": {},
     "output_type": "execute_result"
    }
   ],
   "source": [
    "len(afinn)"
   ]
  },
  {
   "cell_type": "code",
   "execution_count": 18,
   "metadata": {
    "scrolled": true
   },
   "outputs": [
    {
     "data": {
      "image/png": "[encoded data removed]",
      "text/plain": [
       "<matplotlib.figure.Figure at 0x7fe479625898>"
      ]
     },
     "metadata": {},
     "output_type": "display_data"
    }
   ],
   "source": [
    "# What is the distribution of scores?\n",
    "from collections import Counter\n",
    "import matplotlib.pyplot as plt\n",
    "%matplotlib inline\n",
    "\n",
    "counts = Counter(afinn.values())\n",
    "vals = sorted(counts.keys())\n",
    "\n",
    "plt.bar(vals, counts.values())\n",
    "plt.xticks(vals)\n",
    "plt.xlabel('negative <--       sentiment       --> positive')\n",
    "plt.ylabel('count')\n",
    "plt.show()"
   ]
  },
  {
   "cell_type": "code",
   "execution_count": 19,
   "metadata": {},
   "outputs": [
    {
     "name": "stdout",
     "output_type": "stream",
     "text": [
      "\tscam=-2\n",
      "\tbroken=-1\n",
      "AFINN:  -3.0\n"
     ]
    }
   ],
   "source": [
    "# How do we score a document?\n",
    "def afinn_sentiment(terms, afinn):\n",
    "    total = 0.\n",
    "    for t in terms:\n",
    "        if t in afinn:\n",
    "            print('\\t%s=%d' % (t, afinn[t]))\n",
    "            total += afinn[t]\n",
    "    return total\n",
    "    \n",
    "doc = \"i don't know if this is a scam or if mine was broken\".split()\n",
    "print('AFINN: ', afinn_sentiment(doc, afinn))"
   ]
  },
  {
   "cell_type": "code",
   "execution_count": 20,
   "metadata": {},
   "outputs": [
    {
     "name": "stdout",
     "output_type": "stream",
     "text": [
      "\tgood=3\n",
      "\tbad=-3\n",
      "AFINN:  0.0\n"
     ]
    }
   ],
   "source": [
    "# What if mixed sentiment?\n",
    "doc = \"it has a hokey plot that is both to good and bad\".split()\n",
    "print('AFINN: ', afinn_sentiment(doc, afinn))"
   ]
  },
  {
   "cell_type": "code",
   "execution_count": 21,
   "metadata": {
    "collapsed": true
   },
   "outputs": [],
   "source": [
    "##harish: return two values instead of returning score of zero"
   ]
  },
  {
   "cell_type": "code",
   "execution_count": 22,
   "metadata": {},
   "outputs": [
    {
     "name": "stdout",
     "output_type": "stream",
     "text": [
      "\tgood=3\n",
      "\tbad=-3\n",
      "AFINN: (3, 3)\n"
     ]
    }
   ],
   "source": [
    "# Distinguish neutral from pos/neg.\n",
    "# Return two scores per document.\n",
    "\n",
    "def afinn_sentiment2(terms, afinn, verbose=False):\n",
    "    pos = 0\n",
    "    neg = 0\n",
    "    for t in terms:\n",
    "        if t in afinn:\n",
    "            if verbose:\n",
    "                print('\\t%s=%d' % (t, afinn[t]))\n",
    "            if afinn[t] > 0:\n",
    "                pos += afinn[t]\n",
    "            else:\n",
    "                neg += -1 * afinn[t]\n",
    "    return pos, neg\n",
    "\n",
    "doc = \"it has a hokey plot that is both to good and bad\".split()\n",
    "print('AFINN:', afinn_sentiment2(doc, afinn, verbose=True))"
   ]
  },
  {
   "cell_type": "code",
   "execution_count": 23,
   "metadata": {},
   "outputs": [
    {
     "name": "stdout",
     "output_type": "stream",
     "text": [
      "\tbad=-3\n",
      "AFINN: (0, 3)\n"
     ]
    }
   ],
   "source": [
    "doc = \"the plot is not bad\".split()\n",
    "print('AFINN:', afinn_sentiment2(doc, afinn, verbose=True))"
   ]
  },
  {
   "cell_type": "code",
   "execution_count": 30,
   "metadata": {},
   "outputs": [],
   "source": [
    "import configparser\n",
    "from TwitterAPI import TwitterAPI\n",
    "\n",
    "consumer_key = 'S7iQEmSfH2ICIaDfKhmmr4o4q'\n",
    "consumer_secret = '7Anj5i1kSawK1sT0yglcnaUBoSXiVSo3y60YoD8DZXuXMpbwoV'\n",
    "access_token = '759979935075151872-krTlTnjkV63ejn9dK93anDuu0JR7VGa'\n",
    "access_token_secret = 'DbnQTinTQVY57w8Kh892HcmMl4ZdbGnnOp4F2REmVVtxY'\n",
    "\n",
    "# Get some tweets about McDonald's\n",
    "\n",
    "def get_twitter(config_file):\n",
    "    \"\"\" Read the config_file and construct an instance of TwitterAPI.\n",
    "    Args:\n",
    "      config_file ... A config file in ConfigParser format with Twitter credentials\n",
    "    Returns:\n",
    "      An instance of TwitterAPI.\n",
    "    \"\"\"\n",
    "    config = configparser.ConfigParser()\n",
    "    config.read(config_file)\n",
    "    twitter = TwitterAPI(consumer_key, consumer_secret, access_token, access_token_secret)\n",
    "    return twitter\n",
    "\n",
    "twitter = get_twitter('twitter.cfg')\n",
    "tweets = []\n",
    "for r in twitter.request('search/tweets', {'q': 'mcdonalds', 'count': 100}):\n",
    "    tweets.append(r)"
   ]
  },
  {
   "cell_type": "code",
   "execution_count": 31,
   "metadata": {},
   "outputs": [
    {
     "name": "stdout",
     "output_type": "stream",
     "text": [
      "read 100 mcdonalds tweets\n"
     ]
    }
   ],
   "source": [
    "print('read %d mcdonalds tweets' % len(tweets))"
   ]
  },
  {
   "cell_type": "code",
   "execution_count": 33,
   "metadata": {
    "collapsed": true
   },
   "outputs": [],
   "source": [
    "#harish: tokenize words: NLP"
   ]
  },
  {
   "cell_type": "code",
   "execution_count": 35,
   "metadata": {
    "scrolled": true
   },
   "outputs": [
    {
     "name": "stdout",
     "output_type": "stream",
     "text": [
      "tokenized, e.g., \n",
      "RT @luluramadan: Cops are at Wellington McDonalds where tons of angry people lined up for hrs for Rick and Morty Szechuan sauce only to lea…\n",
      "to\n",
      "['rt', 'luluramadan', 'cops', 'are', 'at', 'wellington', 'mcdonalds', 'where', 'tons', 'of', 'angry', 'people', 'lined', 'up', 'for', 'hrs', 'for', 'rick', 'and', 'morty', 'szechuan', 'sauce', 'only', 'to', 'lea']\n"
     ]
    }
   ],
   "source": [
    "# Tokenize tweets\n",
    "import re\n",
    "\n",
    "# \\w = [a-zA-Z0-9_]\n",
    "def tokenize(text):\n",
    "    return re.sub('\\W+', ' ', text.lower()).split()\n",
    "\n",
    "tokens = [tokenize(t['text']) for t in tweets]\n",
    "print('tokenized, e.g., \\n%s\\nto\\n%s' % \n",
    "      (tweets[10]['text'], tokens[10]))\n",
    "#tweets[50]['user']['name']\n",
    "# tweets[50]['user']['screen_name']"
   ]
  },
  {
   "cell_type": "code",
   "execution_count": 38,
   "metadata": {
    "collapsed": true
   },
   "outputs": [],
   "source": [
    "#HARISH: NOTE url is also tokenized! so avoid"
   ]
  },
  {
   "cell_type": "code",
   "execution_count": 39,
   "metadata": {
    "scrolled": true
   },
   "outputs": [
    {
     "data": {
      "text/plain": [
       "['hi',\n",
       " 'there',\n",
       " 'how',\n",
       " 'are',\n",
       " 'you',\n",
       " 'don',\n",
       " 't',\n",
       " 'you',\n",
       " 'awesome',\n",
       " 'awesome',\n",
       " 'http',\n",
       " 'www',\n",
       " 'good',\n",
       " 'com']"
      ]
     },
     "execution_count": 39,
     "metadata": {},
     "output_type": "execute_result"
    }
   ],
   "source": [
    "tokenize(\"Hi there how are you? Don't you ... #awesome @awesome http://www.good.com\")"
   ]
  },
  {
   "cell_type": "code",
   "execution_count": 40,
   "metadata": {
    "collapsed": true
   },
   "outputs": [],
   "source": [
    "positives = []\n",
    "negatives = []\n",
    "for token_list, tweet in zip(tokens, tweets):\n",
    "    pos, neg = afinn_sentiment2(token_list, afinn)\n",
    "    if pos > neg:\n",
    "        positives.append((tweet['text'], pos, neg))\n",
    "    elif neg > pos:\n",
    "        negatives.append((tweet['text'], pos, neg))"
   ]
  },
  {
   "cell_type": "code",
   "execution_count": 47,
   "metadata": {
    "collapsed": true
   },
   "outputs": [],
   "source": [
    "#harish: check out false positives; one thing hard about sentiment\n",
    "#classifier is that it might be true or accurate today;\n",
    "#but tommorow it wont be! "
   ]
  },
  {
   "cell_type": "code",
   "execution_count": 48,
   "metadata": {
    "scrolled": true
   },
   "outputs": [
    {
     "name": "stdout",
     "output_type": "stream",
     "text": [
      "8 5 RT @_AlexHirsch: @danguterman @McDonalds @GOP “MORTY, nothing tops the sweet taste of Loestrin! It’s *burp* fucking amazing, it stops you f…\n",
      "5 4 RT @sexualjumanji: you just pissed off the most powerful fan base in the world. u might think we are just nerds but we are troops and inven…\n",
      "3 0 @esternoons @Good_Guy69 @McDonalds Lol stfu\n",
      "3 0 @McDonalds I was so excited for the Szechuan sauce, I was at McDonalds 11 A.M. the cashier said we never heard of t… https://t.co/e7elzEtLIR\n",
      "3 0 RT @TheHumaneLeague: Fast food giant @McDonalds is launching a trial of the \"McVegan Burger!\" Please RT! #progress https://t.co/gEhV8mJBOy\n",
      "3 1 @Briijy @McDonaldsUK Sorry to hear that Briijy. Hope staff helped at the time, if not please log full details at https://t.co/BulG72WJvt\n",
      "2 0 RT @CBSThisMorning: .@BonAppetit says @McDonalds is testing out a vegan-friendly sandwich called the #McVegan. https://t.co/ufeKYwR2wb http…\n",
      "2 0 @KevinMSquires @McDonalds Thank you I was wondering about this\n",
      "2 0 @painkilIrs we gotta go on a [burp] adventure, morty, mcdonalds wants to do a really obvious product placement\n",
      "2 1 McDonalds drive thru line looks like ptown traffic at 5:30 AM. Sorry coffee but not today\n",
      "2 0 RT @SoufCaliNative: mcdonalds better have that ice creme machine running\n",
      "2 0 RT @noTime_ToneZ: It's like Jerry HIMSELF did the actual marketing #szechuansauce #McDonalds\n",
      "1 0 RT @guardian: 'We want sauce': police called over McDonald's Rick and Morty promotion https://t.co/AT0XOOkcIx\n",
      "1 0 RT @guardian: 'We want sauce': police called over McDonald's Rick and Morty promotion https://t.co/AT0XOOkcIx\n",
      "1 0 RT @guardian: 'We want sauce': police called over McDonald's Rick and Morty promotion https://t.co/AT0XOOkcIx\n",
      "1 0 #SundayReads  #Apocalypse  'We want sauce': police called after McDonald's Rick and Morty promotion heats up https://t.co/sYsD3cS6sd\n",
      "1 0 'We want sauce': police called after McDonald's Rick and Morty promotion heats up https://t.co/rIdYejQLHw I wonder why? #WDLL\n",
      "1 0 RT @guardian: 'We want sauce': police called over McDonald's Rick and Morty promotion https://t.co/AT0XOOkcIx\n",
      "1 0 'We want sauce': police called over McDonald's Rick and Morty promotion https://t.co/be6bnzTBQt\n",
      "1 0 RT @guardian: 'We want sauce': police called over McDonald's Rick and Morty promotion https://t.co/AT0XOOkcIx\n",
      "1 0 RT @guardian: 'We want sauce': police called over McDonald's Rick and Morty promotion https://t.co/AT0XOOkcIx\n",
      "1 0 'W want sauce': police called over McDonald's Rick and Morty promotion https://t.co/cqrkLH0vDl\n",
      "1 0 'We want sauce': police called after McDonald's Rick and Morty promotion heats up ‘what gets us on the streets’ https://t.co/3zXoYSF3SP\n",
      "1 0 RT @guardian: 'We want sauce': police called over McDonald's Rick and Morty promotion https://t.co/AT0XOOkcIx\n",
      "1 0 RT @guardian: 'We want sauce': police called over McDonald's Rick and Morty promotion https://t.co/AT0XOOkcIx\n"
     ]
    }
   ],
   "source": [
    "# Print top positives:\n",
    "for tweet, pos, neg in sorted(positives, key=lambda x: x[1], reverse=True):\n",
    "    print(pos, neg, tweet)"
   ]
  },
  {
   "cell_type": "code",
   "execution_count": 49,
   "metadata": {
    "scrolled": true
   },
   "outputs": [
    {
     "name": "stdout",
     "output_type": "stream",
     "text": [
      "\tinterested=2\n",
      "\tgreat=3\n",
      "\tfit=1\n"
     ]
    },
    {
     "data": {
      "text/plain": [
       "(6, 0)"
      ]
     },
     "execution_count": 49,
     "metadata": {},
     "output_type": "execute_result"
    }
   ],
   "source": [
    "afinn_sentiment2(tokenize('Interested in a #job in #Redmond, WA? This could be a great fit: https://t.co/iF8xH1PuC4 #Hospitality #Hiring #CareerArc'),\n",
    "                 afinn, verbose=True)"
   ]
  },
  {
   "cell_type": "code",
   "execution_count": 50,
   "metadata": {
    "scrolled": true
   },
   "outputs": [
    {
     "name": "stdout",
     "output_type": "stream",
     "text": [
      "0 6 After yesterday's #schezuansauce bullshit, I will be boycotting @McDonalds until the bring back the sauce for real. Not this one day BS\n",
      "3 5 Don't let the hipsters fool you. They love their corporate greed head food products. https://t.co/SXpEz7B2Qk\n",
      "1 5 @guardian Ketchup 2! But I no longer want Mcdonalds. That shit sits in your gut! https://t.co/y1to62MZnO\n",
      "0 4 RT @AliceSpecht: @McDonalds did you really get 17 packets a store or did your managers just make buku side cash #pissed #szechuansauce #eba…\n",
      "0 4 No sausage or steak at McDonalds this morning. Can I die?\n",
      "0 3 RT @luluramadan: Cops are at Wellington McDonalds where tons of angry people lined up for hrs for Rick and Morty Szechuan sauce only to lea…\n",
      "0 3 RT @luluramadan: Cops are at Wellington McDonalds where tons of angry people lined up for hrs for Rick and Morty Szechuan sauce only to lea…\n",
      "0 1 @mcdonalds No locations in my state, nearest #Szechuansauce an 8 hour drive away! Did you forgot about us down in Montana? #406\n",
      "0 1 @ArizonaKayte @nflcommish Absolutely !!!!!  No @NFL today or next week or next month \n",
      "#BoycottNFL… https://t.co/aYu1JsbIzy\n"
     ]
    }
   ],
   "source": [
    "# Print top negatives:\n",
    "for tweet, pos, neg in sorted(negatives, key=lambda x: x[2], reverse=True):\n",
    "    print(pos, neg, tweet)"
   ]
  },
  {
   "cell_type": "code",
   "execution_count": 51,
   "metadata": {},
   "outputs": [
    {
     "name": "stdout",
     "output_type": "stream",
     "text": [
      "\tsorry=-1\n",
      "\thelp=2\n",
      "\timprove=2\n"
     ]
    },
    {
     "data": {
      "text/plain": [
       "(4, 1)"
      ]
     },
     "execution_count": 51,
     "metadata": {},
     "output_type": "execute_result"
    }
   ],
   "source": [
    "afinn_sentiment2(tokenize('@MikeyPoole Sorry about your order! To help us improve, can you provide the location here'),\n",
    "                 afinn, verbose=True)"
   ]
  },
  {
   "cell_type": "markdown",
   "metadata": {},
   "source": [
    "# Sentiment Trends?\n",
    "![politico](politico.png)\n",
    "\n",
    "What can go wrong?\n",
    "\n",
    "<br><br><br><br>"
   ]
  },
  {
   "cell_type": "code",
   "execution_count": 52,
   "metadata": {},
   "outputs": [
    {
     "name": "stdout",
     "output_type": "stream",
     "text": [
      "want count=15 sentiment=1\n",
      "no count=4 sentiment=-1\n",
      "pissed count=2 sentiment=-4\n",
      "sorry count=2 sentiment=-1\n",
      "like count=2 sentiment=2\n",
      "please count=2 sentiment=1\n",
      "angry count=2 sentiment=-3\n",
      "boycotting count=1 sentiment=-2\n",
      "tops count=1 sentiment=2\n",
      "love count=1 sentiment=3\n",
      "fucking count=1 sentiment=-4\n"
     ]
    }
   ],
   "source": [
    "# Which words contribute most to sentiment?\n",
    "all_counts = Counter()\n",
    "for tweet in tokens:\n",
    "    all_counts.update(tweet)\n",
    "sorted_tokens = sorted(all_counts.items(), key=lambda x:x[1], reverse=True)\n",
    "i = 0\n",
    "for token, count in sorted_tokens:\n",
    "    if token in afinn:\n",
    "        print('%s count=%d sentiment=%d' % (token, count, afinn[token]))\n",
    "        i += 1\n",
    "        if i > 10:\n",
    "            break"
   ]
  },
  {
   "cell_type": "code",
   "execution_count": 54,
   "metadata": {
    "scrolled": true
   },
   "outputs": [
    {
     "data": {
      "text/plain": [
       "[['rt',\n",
       "  'alicespecht',\n",
       "  'mcdonalds',\n",
       "  'did',\n",
       "  'you',\n",
       "  'really',\n",
       "  'get',\n",
       "  '17',\n",
       "  'packets',\n",
       "  'a',\n",
       "  'store',\n",
       "  'or',\n",
       "  'did',\n",
       "  'your',\n",
       "  'managers',\n",
       "  'just',\n",
       "  'make',\n",
       "  'buku',\n",
       "  'side',\n",
       "  'cash',\n",
       "  'pissed',\n",
       "  'szechuansauce',\n",
       "  'eba'],\n",
       " ['rt',\n",
       "  'sexualjumanji',\n",
       "  'you',\n",
       "  'just',\n",
       "  'pissed',\n",
       "  'off',\n",
       "  'the',\n",
       "  'most',\n",
       "  'powerful',\n",
       "  'fan',\n",
       "  'base',\n",
       "  'in',\n",
       "  'the',\n",
       "  'world',\n",
       "  'u',\n",
       "  'might',\n",
       "  'think',\n",
       "  'we',\n",
       "  'are',\n",
       "  'just',\n",
       "  'nerds',\n",
       "  'but',\n",
       "  'we',\n",
       "  'are',\n",
       "  'troops',\n",
       "  'and',\n",
       "  'inven']]"
      ]
     },
     "execution_count": 54,
     "metadata": {},
     "output_type": "execute_result"
    }
   ],
   "source": [
    "[t for t in tokens if 'pissed' in t]"
   ]
  },
  {
   "cell_type": "code",
   "execution_count": 57,
   "metadata": {},
   "outputs": [
    {
     "data": {
      "text/plain": [
       "[['rt',\n",
       "  'guardian',\n",
       "  'we',\n",
       "  'want',\n",
       "  'sauce',\n",
       "  'police',\n",
       "  'called',\n",
       "  'over',\n",
       "  'mcdonald',\n",
       "  's',\n",
       "  'rick',\n",
       "  'and',\n",
       "  'morty',\n",
       "  'promotion',\n",
       "  'https',\n",
       "  't',\n",
       "  'co',\n",
       "  'at0xookcix'],\n",
       " ['rt',\n",
       "  'guardian',\n",
       "  'we',\n",
       "  'want',\n",
       "  'sauce',\n",
       "  'police',\n",
       "  'called',\n",
       "  'over',\n",
       "  'mcdonald',\n",
       "  's',\n",
       "  'rick',\n",
       "  'and',\n",
       "  'morty',\n",
       "  'promotion',\n",
       "  'https',\n",
       "  't',\n",
       "  'co',\n",
       "  'at0xookcix'],\n",
       " ['rt',\n",
       "  'guardian',\n",
       "  'we',\n",
       "  'want',\n",
       "  'sauce',\n",
       "  'police',\n",
       "  'called',\n",
       "  'over',\n",
       "  'mcdonald',\n",
       "  's',\n",
       "  'rick',\n",
       "  'and',\n",
       "  'morty',\n",
       "  'promotion',\n",
       "  'https',\n",
       "  't',\n",
       "  'co',\n",
       "  'at0xookcix'],\n",
       " ['mcdonald',\n",
       "  's',\n",
       "  'totally',\n",
       "  'underestimated',\n",
       "  'how',\n",
       "  'many',\n",
       "  'rick',\n",
       "  'and',\n",
       "  'morty',\n",
       "  'fans',\n",
       "  'want',\n",
       "  'that',\n",
       "  'mulan',\n",
       "  'mcnugget',\n",
       "  'sauce',\n",
       "  'https',\n",
       "  't',\n",
       "  'co',\n",
       "  'igd9kmpytm'],\n",
       " ['sundayreads',\n",
       "  'apocalypse',\n",
       "  'we',\n",
       "  'want',\n",
       "  'sauce',\n",
       "  'police',\n",
       "  'called',\n",
       "  'after',\n",
       "  'mcdonald',\n",
       "  's',\n",
       "  'rick',\n",
       "  'and',\n",
       "  'morty',\n",
       "  'promotion',\n",
       "  'heats',\n",
       "  'up',\n",
       "  'https',\n",
       "  't',\n",
       "  'co',\n",
       "  'sysd3cs6sd'],\n",
       " ['we',\n",
       "  'want',\n",
       "  'sauce',\n",
       "  'police',\n",
       "  'called',\n",
       "  'after',\n",
       "  'mcdonald',\n",
       "  's',\n",
       "  'rick',\n",
       "  'and',\n",
       "  'morty',\n",
       "  'promotion',\n",
       "  'heats',\n",
       "  'up',\n",
       "  'https',\n",
       "  't',\n",
       "  'co',\n",
       "  'ridyejqlhw',\n",
       "  'i',\n",
       "  'wonder',\n",
       "  'why',\n",
       "  'wdll'],\n",
       " ['rt',\n",
       "  'guardian',\n",
       "  'we',\n",
       "  'want',\n",
       "  'sauce',\n",
       "  'police',\n",
       "  'called',\n",
       "  'over',\n",
       "  'mcdonald',\n",
       "  's',\n",
       "  'rick',\n",
       "  'and',\n",
       "  'morty',\n",
       "  'promotion',\n",
       "  'https',\n",
       "  't',\n",
       "  'co',\n",
       "  'at0xookcix'],\n",
       " ['we',\n",
       "  'want',\n",
       "  'sauce',\n",
       "  'police',\n",
       "  'called',\n",
       "  'over',\n",
       "  'mcdonald',\n",
       "  's',\n",
       "  'rick',\n",
       "  'and',\n",
       "  'morty',\n",
       "  'promotion',\n",
       "  'https',\n",
       "  't',\n",
       "  'co',\n",
       "  'be6bnztbqt'],\n",
       " ['rt',\n",
       "  'guardian',\n",
       "  'we',\n",
       "  'want',\n",
       "  'sauce',\n",
       "  'police',\n",
       "  'called',\n",
       "  'over',\n",
       "  'mcdonald',\n",
       "  's',\n",
       "  'rick',\n",
       "  'and',\n",
       "  'morty',\n",
       "  'promotion',\n",
       "  'https',\n",
       "  't',\n",
       "  'co',\n",
       "  'at0xookcix'],\n",
       " ['guardian',\n",
       "  'ketchup',\n",
       "  '2',\n",
       "  'but',\n",
       "  'i',\n",
       "  'no',\n",
       "  'longer',\n",
       "  'want',\n",
       "  'mcdonalds',\n",
       "  'that',\n",
       "  'shit',\n",
       "  'sits',\n",
       "  'in',\n",
       "  'your',\n",
       "  'gut',\n",
       "  'https',\n",
       "  't',\n",
       "  'co',\n",
       "  'y1to62mzno'],\n",
       " ['rt',\n",
       "  'guardian',\n",
       "  'we',\n",
       "  'want',\n",
       "  'sauce',\n",
       "  'police',\n",
       "  'called',\n",
       "  'over',\n",
       "  'mcdonald',\n",
       "  's',\n",
       "  'rick',\n",
       "  'and',\n",
       "  'morty',\n",
       "  'promotion',\n",
       "  'https',\n",
       "  't',\n",
       "  'co',\n",
       "  'at0xookcix'],\n",
       " ['w',\n",
       "  'want',\n",
       "  'sauce',\n",
       "  'police',\n",
       "  'called',\n",
       "  'over',\n",
       "  'mcdonald',\n",
       "  's',\n",
       "  'rick',\n",
       "  'and',\n",
       "  'morty',\n",
       "  'promotion',\n",
       "  'https',\n",
       "  't',\n",
       "  'co',\n",
       "  'cqrklh0vdl'],\n",
       " ['we',\n",
       "  'want',\n",
       "  'sauce',\n",
       "  'police',\n",
       "  'called',\n",
       "  'after',\n",
       "  'mcdonald',\n",
       "  's',\n",
       "  'rick',\n",
       "  'and',\n",
       "  'morty',\n",
       "  'promotion',\n",
       "  'heats',\n",
       "  'up',\n",
       "  'what',\n",
       "  'gets',\n",
       "  'us',\n",
       "  'on',\n",
       "  'the',\n",
       "  'streets',\n",
       "  'https',\n",
       "  't',\n",
       "  'co',\n",
       "  '3zxoysf3sp'],\n",
       " ['rt',\n",
       "  'guardian',\n",
       "  'we',\n",
       "  'want',\n",
       "  'sauce',\n",
       "  'police',\n",
       "  'called',\n",
       "  'over',\n",
       "  'mcdonald',\n",
       "  's',\n",
       "  'rick',\n",
       "  'and',\n",
       "  'morty',\n",
       "  'promotion',\n",
       "  'https',\n",
       "  't',\n",
       "  'co',\n",
       "  'at0xookcix'],\n",
       " ['rt',\n",
       "  'guardian',\n",
       "  'we',\n",
       "  'want',\n",
       "  'sauce',\n",
       "  'police',\n",
       "  'called',\n",
       "  'over',\n",
       "  'mcdonald',\n",
       "  's',\n",
       "  'rick',\n",
       "  'and',\n",
       "  'morty',\n",
       "  'promotion',\n",
       "  'https',\n",
       "  't',\n",
       "  'co',\n",
       "  'at0xookcix']]"
      ]
     },
     "execution_count": 57,
     "metadata": {},
     "output_type": "execute_result"
    }
   ],
   "source": [
    "#harish: check for false positives as far as context is concerned!\n",
    "[t for t in tokens if 'want' in t]"
   ]
  },
  {
   "cell_type": "markdown",
   "metadata": {},
   "source": [
    "# Part of speech?\n",
    "\n",
    "> *I hate McDonlads.*  \n",
    "> *Hate speech is wrong.*\n",
    "\n",
    "> *Rauner is lying.*  \n",
    "> *Lying in bed with the flu.*\n",
    "\n",
    "Noun/verb/adjective form of term may have different sentiment."
   ]
  },
  {
   "cell_type": "code",
   "execution_count": 58,
   "metadata": {
    "collapsed": true
   },
   "outputs": [],
   "source": [
    "#harish: wordnet is a manually constructed data source "
   ]
  },
  {
   "cell_type": "markdown",
   "metadata": {
    "slideshow": {
     "slide_type": "slide"
    }
   },
   "source": [
    "# WordNet\n",
    "\n",
    "- A database of words and their relations\n",
    "- http://wordnet.princeton.edu/\n",
    "- Statistics: http://wordnet.princeton.edu/wordnet/man/wnstats.7WN.html"
   ]
  },
  {
   "cell_type": "markdown",
   "metadata": {
    "slideshow": {
     "slide_type": "slide"
    }
   },
   "source": [
    "# WordNet\n",
    "\n",
    "- **Synset:**\n",
    "  - A list of synonyms\n",
    "  - E.g. [dog](http://wordnetweb.princeton.edu/perl/webwn?s=dog&sub=Search+WordNet&o2=&o0=1&o8=1&o1=1&o7=&o5=&o9=&o6=&o3=&o4=&h=11000000000000000000001000000000)\n",
    "- **Hypernym:**\n",
    "  - Y is a Hypernym of X if every X is a kind of Y\n",
    "    - **canine** is a hypernym of **dog**\n",
    "- **Hyponym:**\n",
    "  - Y is a Hyponym of X if every Y is a kind of X\n",
    "    - **dog** is a hyponym of **canine**\n",
    "    \n",
    "<br><br><br>\n",
    "\n",
    "<img src=\"https://upload.wikimedia.org/wikipedia/en/1/1f/Hyponymsandhypernyms.jpg\">"
   ]
  },
  {
   "cell_type": "markdown",
   "metadata": {},
   "source": [
    "# SentiWordNet\n",
    "\n",
    "http://sentiwordnet.isti.cnr.it/\n",
    "\n",
    "![senti](senti.png)\n",
    "\n",
    "[source](http://nmis.isti.cnr.it/sebastiani/Publications/LREC06.pdf)"
   ]
  },
  {
   "cell_type": "code",
   "execution_count": 64,
   "metadata": {
    "collapsed": true
   },
   "outputs": [],
   "source": [
    "#harish: imp for ADM project"
   ]
  },
  {
   "cell_type": "code",
   "execution_count": 65,
   "metadata": {},
   "outputs": [
    {
     "name": "stdout",
     "output_type": "stream",
     "text": [
      "[nltk_data] Downloading package sentiwordnet to\n",
      "[nltk_data]     /home/harish/nltk_data...\n",
      "[nltk_data]   Package sentiwordnet is already up-to-date!\n",
      "happy(n): negative_score=0.00 positive_score=0.88 objective_score=0.12\n"
     ]
    }
   ],
   "source": [
    "# from nltk.corpus import sentiwordnet as swn\n",
    "import nltk\n",
    "nltk.download('sentiwordnet')\n",
    "from nltk.corpus import sentiwordnet as swn\n",
    "# Depends on nltk (pip install nltk)\n",
    "# See http://www.nltk.org/data.html\n",
    "happy = list(swn.senti_synsets('happy', 'a'))[0]\n",
    "\n",
    "print('happy(n): negative_score=%.2f positive_score=%.2f objective_score=%.2f' %\n",
    "      (happy.neg_score(), happy.pos_score(), happy.obj_score()))"
   ]
  },
  {
   "cell_type": "code",
   "execution_count": 67,
   "metadata": {},
   "outputs": [
    {
     "name": "stdout",
     "output_type": "stream",
     "text": [
      "hate(n): negative_score=0.38 positive_score=0.12 objective_score=0.50\n"
     ]
    }
   ],
   "source": [
    "hate = list(swn.senti_synsets('hate', 'n'))[0]\n",
    "\n",
    "print('hate(n): negative_score=%.2f positive_score=%.2f objective_score=%.2f' %\n",
    "      (hate.neg_score(), hate.pos_score(), hate.obj_score()))"
   ]
  },
  {
   "cell_type": "code",
   "execution_count": 68,
   "metadata": {},
   "outputs": [
    {
     "name": "stdout",
     "output_type": "stream",
     "text": [
      "hate(v): negative_score=0.75 positive_score=0.00 objective_score=0.25\n"
     ]
    }
   ],
   "source": [
    "hate = list(swn.senti_synsets('hate', 'v'))[0]\n",
    "\n",
    "print('hate(v): negative_score=%.2f positive_score=%.2f objective_score=%.2f' %\n",
    "      (hate.neg_score(), hate.pos_score(), hate.obj_score()))"
   ]
  },
  {
   "cell_type": "code",
   "execution_count": 69,
   "metadata": {},
   "outputs": [
    {
     "name": "stdout",
     "output_type": "stream",
     "text": [
      "good(a): negative_score=0.00 positive_score=0.00 objective_score=1.00\n"
     ]
    }
   ],
   "source": [
    "hate = list(swn.senti_synsets('good', 'a'))[1]\n",
    "print('good(a): negative_score=%.2f positive_score=%.2f objective_score=%.2f' %\n",
    "      (hate.neg_score(), hate.pos_score(), hate.obj_score()))"
   ]
  },
  {
   "cell_type": "code",
   "execution_count": null,
   "metadata": {
    "collapsed": true
   },
   "outputs": [],
   "source": []
  }
 ],
 "metadata": {
  "kernelspec": {
   "display_name": "Python 3",
   "language": "python",
   "name": "python3"
  },
  "language_info": {
   "codemirror_mode": {
    "name": "ipython",
    "version": 3
   },
   "file_extension": ".py",
   "mimetype": "text/x-python",
   "name": "python",
   "nbconvert_exporter": "python",
   "pygments_lexer": "ipython3",
   "version": "3.5.2"
  }
 },
 "nbformat": 4,
 "nbformat_minor": 1
}
